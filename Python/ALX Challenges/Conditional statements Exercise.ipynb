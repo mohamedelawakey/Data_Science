{
 "cells": [
  {
   "cell_type": "markdown",
   "id": "e7d528e9-ac3a-4888-a8b8-e37f55ff989f",
   "metadata": {},
   "source": [
    "# Exercises"
   ]
  },
  {
   "cell_type": "markdown",
   "id": "c12e4449-f6b5-4dd8-9bae-65417a8e3814",
   "metadata": {},
   "source": [
    "### Exercise 1\n",
    "Use conditional statements to categorise an animal based on its risk status. The program should define a variable, individuals_in_wild (representing the number of individuals in the wild), and use it to print the correct response based on the following categories:\n",
    "\n",
    "- \"Critically Endangered\" for less than 1000 individuals.\n",
    "- \"Endangered\" for 1000 to 5000 individuals.\n",
    "- \"Vulnerable\" for 5001 to 20000 individuals.\n",
    "- \"Safe\" for more than 20000 individuals.\n",
    "Assume there are 5500 leopards left in South Africa. Assign this number to individuals_in_wild and note what category they fall under.\n",
    "``` python\n",
    "# insert code here\n",
    "```"
   ]
  },
  {
   "cell_type": "code",
   "execution_count": 9,
   "id": "230d6ba1-8816-4542-b9fb-3531a2b302ff",
   "metadata": {},
   "outputs": [
    {
     "name": "stdout",
     "output_type": "stream",
     "text": [
      "Vulnerable\n"
     ]
    }
   ],
   "source": [
    "individuals_in_wild = 5500\n",
    "\n",
    "if individuals_in_wild <= 1000:\n",
    "    print(\"Critically Endangered\")\n",
    "elif 1000 <= individuals_in_wild <= 5000:\n",
    "    print(\"Endangered\")\n",
    "elif 5001 <= individuals_in_wild <= 20000:\n",
    "    print(\"Vulnerable\") \n",
    "else:\n",
    "    print(\"Safe\")"
   ]
  },
  {
   "cell_type": "markdown",
   "id": "36690cf5-b22c-4014-9938-c4a170b6d109",
   "metadata": {},
   "source": [
    "### Exercise 2\n",
    "Use conditional statements to determine if a region is experiencing water scarcity. The program should store two variables: rainfall (the average annual rainfall in mm) and population_density (people per square km). It should print the appropriate message based on the following criteria to determine water scarcity:\n",
    "\n",
    "- \"Severe Scarcity\" if rainfall is less than 500mm and population density is more than 500 people per square km.\n",
    "- \"Moderate Scarcity\" if both of the following are true:\n",
    "    - Rainfall is between 500mm and 1000mm, inclusive.\n",
    "    - Population density is between 200 and 500, inclusive.\n",
    "- \"No Scarcity\" otherwise.\n",
    "Assume the annual rainfall is 205mm and the population_density is 448 per square km.\n",
    "``` python\n",
    "# insert code here\n",
    "```"
   ]
  },
  {
   "cell_type": "code",
   "execution_count": 12,
   "id": "babc33c7-06eb-43ee-9c35-de1af20809a9",
   "metadata": {},
   "outputs": [
    {
     "name": "stdout",
     "output_type": "stream",
     "text": [
      "Severe Scarcity\n"
     ]
    }
   ],
   "source": [
    "population_density = 448\n",
    "rainfall = 205 \n",
    "if rainfall < 500 and population_density <= 1000:\n",
    "    print(\"Severe Scarcity\")\n",
    "elif (500 <= rainfall <= 1000) and (200 <= population_density <= 500):\n",
    "    print(\"Moderate Scarcity\")\n",
    "else:\n",
    "    print(\"No Scarcity\")"
   ]
  },
  {
   "cell_type": "markdown",
   "id": "eef81514-c5f2-459b-83cb-5551c1246877",
   "metadata": {},
   "source": [
    "### Exercise 3\n",
    "To assist a recycling initiative, write code that will categorise items based on their material type and size, and output the category of recycling.\n",
    "\n",
    "The program should store two variables, material and size, which can have 4 and 3 possible values, respectively:\n",
    "\n",
    "- material – possible inputs: \"paper\", \"plastic\", \"metal\", \"glass\"\n",
    "- size – possible inputs: \"small\", \"medium\", \"large\"\n",
    "\n",
    "Output the category of recycling:\n",
    "\n",
    "- \"Special Handling\" for large metal or glass items.\n",
    "- \"Standard Recycling\" for all medium-sized items and small metal or glass items.\n",
    "- \"Composting\" for small paper items.\n",
    "- \"Landfill\" for small plastic items and all other cases."
   ]
  },
  {
   "cell_type": "code",
   "execution_count": 24,
   "id": "f921fd25-fd07-4ecf-8923-52bfaa75a521",
   "metadata": {},
   "outputs": [
    {
     "name": "stdout",
     "output_type": "stream",
     "text": [
      "Composting\n"
     ]
    }
   ],
   "source": [
    "material = \"paper\"  \n",
    "size = \"small\"\n",
    "\n",
    "if (material == \"metal\" and size == \"large\") or (material == \"glass\" and size == \"large\"):\n",
    "    print(\"Special Handling\")\n",
    "elif size == \"medium\" or (size == \"small\" and (material == \"metal\" or material == \"glass\")):\n",
    "    print(\"Standard Recycling\")\n",
    "elif material == \"paper\" and size == \"small\":\n",
    "    print(\"Composting\")\n",
    "else:\n",
    "    print(\"Landfill\")"
   ]
  },
  {
   "cell_type": "markdown",
   "id": "68857368-879d-4a3a-8145-9e855eff4983",
   "metadata": {},
   "source": [
    "### Exercise 4\n",
    "Write a program to evaluate the use of renewable energy sources in a household. The program should define a variable solar that stores whether or not a household uses solar (True or False values only). If a household does not use solar, print \"Needs Improvement\". Otherwise, print \"Eco-friendly\".\n",
    "\n",
    "Note: You must solve this exercise using if not.\n",
    "\n",
    "``` python\n",
    "# insert code here\n",
    "```"
   ]
  },
  {
   "cell_type": "code",
   "execution_count": 27,
   "id": "89c969d4-1def-4bc2-925d-cea9718f0c0c",
   "metadata": {},
   "outputs": [
    {
     "name": "stdout",
     "output_type": "stream",
     "text": [
      "Eco-friendly\n"
     ]
    }
   ],
   "source": [
    "solar = True\n",
    "\n",
    "if not solar:\n",
    "    print(\"Needs Improvement\")\n",
    "else:\n",
    "    print (\"Eco-friendly\")"
   ]
  },
  {
   "cell_type": "markdown",
   "id": "bd5cfa17-5638-496e-94cc-9940c06952c9",
   "metadata": {},
   "source": [
    "### Exercise 5\n",
    "Write a program that issues an alert if deforestation in an area exceeds a certain threshold. Define a variable deforestation_rate (it can be any number between 0 and 1).\n",
    "\n",
    "If the deforestation_rate is above 0.1, print \"High Alert\". If it is not, nothing should be printed.\n",
    "\n",
    "``` python\n",
    "# insert code here\n",
    "```"
   ]
  },
  {
   "cell_type": "code",
   "execution_count": 31,
   "id": "183427c7-72bb-4305-9e3b-3f81e2754248",
   "metadata": {},
   "outputs": [],
   "source": [
    "deforestation_rate = 0.1\n",
    "\n",
    "if deforestation_rate > 0.1:\n",
    "    print (\"High Alert\")"
   ]
  },
  {
   "cell_type": "markdown",
   "id": "5ff5187e-0af5-41e5-98a4-e25112bce09e",
   "metadata": {},
   "source": [
    "### Exercise 6\n",
    "Develop a program to check the air quality index (AQI).\n",
    "\n",
    "The program should define a variable aqi (it can be any integer value between 0 and 300). It should then use a ternary operator to print \"Poor Air Quality\" if aqi is above 100, or \"Good Air Quality\" otherwise.\n",
    "\n",
    "``` python\n",
    "# insert code here\n",
    "```"
   ]
  },
  {
   "cell_type": "code",
   "execution_count": 39,
   "id": "72313303-939e-442f-80f4-899597cb596e",
   "metadata": {},
   "outputs": [
    {
     "name": "stdout",
     "output_type": "stream",
     "text": [
      "Good Air Quality\n"
     ]
    }
   ],
   "source": [
    "aqi = 10\n",
    "\n",
    "print(\"Poor Air Quality\") if aqi > 100 else print(\"Good Air Quality\")"
   ]
  }
 ],
 "metadata": {
  "kernelspec": {
   "display_name": "Python 3 (ipykernel)",
   "language": "python",
   "name": "python3"
  },
  "language_info": {
   "codemirror_mode": {
    "name": "ipython",
    "version": 3
   },
   "file_extension": ".py",
   "mimetype": "text/x-python",
   "name": "python",
   "nbconvert_exporter": "python",
   "pygments_lexer": "ipython3",
   "version": "3.12.7"
  }
 },
 "nbformat": 4,
 "nbformat_minor": 5
}
