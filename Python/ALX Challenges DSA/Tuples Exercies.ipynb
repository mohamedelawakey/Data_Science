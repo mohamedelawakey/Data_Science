{
 "cells": [
  {
   "cell_type": "markdown",
   "id": "168a9de4-f991-4bc5-8d58-99dbfecf6de4",
   "metadata": {},
   "source": [
    "# Exercises"
   ]
  },
  {
   "cell_type": "markdown",
   "id": "3d4a1a47-5f19-4daa-b9af-90b4d015d634",
   "metadata": {},
   "source": [
    "### Exercise 1\n",
    "Create a tuple named tree_tuple containing three elements: 8, 'apple', and 'Granny Smith'\n",
    "- Find the length of the tuple.\n",
    "- Access the second element, 'apple', in the tree_tuple using an index and assign the value to a variable called fruit. Print the variable.\n",
    "- Attempt to change the value of 'apple' in tree_tuple to 'pear' using assignment.\n",
    "- Create a new tuple called text_only and place the last two elements of tree_tuple into it."
   ]
  },
  {
   "cell_type": "code",
   "execution_count": 19,
   "id": "38be4ba8-1ba9-4176-9541-14aa9322dab5",
   "metadata": {},
   "outputs": [
    {
     "name": "stdout",
     "output_type": "stream",
     "text": [
      "(8, 'apple', 'Granny Smith')\n"
     ]
    }
   ],
   "source": [
    "tree_tuple = (8, 'apple', 'Granny Smith')\n",
    "print(tree_tuple)"
   ]
  },
  {
   "cell_type": "code",
   "execution_count": 20,
   "id": "32a8b2e5-2654-4d6c-94c8-6ffa08619638",
   "metadata": {},
   "outputs": [
    {
     "name": "stdout",
     "output_type": "stream",
     "text": [
      "3\n"
     ]
    }
   ],
   "source": [
    "print(len(tree_tuple))"
   ]
  },
  {
   "cell_type": "code",
   "execution_count": 25,
   "id": "8ef1e5ad-8783-425a-b77a-c63a32e0f35e",
   "metadata": {},
   "outputs": [
    {
     "name": "stdout",
     "output_type": "stream",
     "text": [
      "1\n"
     ]
    }
   ],
   "source": [
    "fruit = tree_tuple.index('apple')\n",
    "print(fruit)"
   ]
  },
  {
   "cell_type": "code",
   "execution_count": 27,
   "id": "c154852f-838e-4765-84fd-06a44b0fc972",
   "metadata": {},
   "outputs": [
    {
     "ename": "TypeError",
     "evalue": "'tuple' object does not support item assignment",
     "output_type": "error",
     "traceback": [
      "\u001b[1;31m---------------------------------------------------------------------------\u001b[0m",
      "\u001b[1;31mTypeError\u001b[0m                                 Traceback (most recent call last)",
      "Cell \u001b[1;32mIn[27], line 1\u001b[0m\n\u001b[1;32m----> 1\u001b[0m tree_tuple[\u001b[38;5;241m1\u001b[39m] \u001b[38;5;241m=\u001b[39m \u001b[38;5;124m\"\u001b[39m\u001b[38;5;124mpear\u001b[39m\u001b[38;5;124m\"\u001b[39m\n",
      "\u001b[1;31mTypeError\u001b[0m: 'tuple' object does not support item assignment"
     ]
    }
   ],
   "source": [
    "tree_tuple[1] = \"pear\""
   ]
  },
  {
   "cell_type": "code",
   "execution_count": 32,
   "id": "93cf4f6d-805c-4078-aa79-8b5dc209caa1",
   "metadata": {},
   "outputs": [
    {
     "name": "stdout",
     "output_type": "stream",
     "text": [
      "('apple', 'Granny Smith')\n"
     ]
    }
   ],
   "source": [
    "text_only = (tree_tuple[1:3])\n",
    "print(text_only)"
   ]
  },
  {
   "cell_type": "markdown",
   "id": "41b8a2dc-7487-425b-9290-7a9abedbd850",
   "metadata": {},
   "source": [
    "# Exercise 2\n",
    "Create two tuples: fruit_summer and fruit_winter, with elements ('peach', 'apricot', 'plum') and ('lemon', 'orange', 'grapefruit'), respectively. Print the tuples to screen in the same print statement.\n",
    "- Combine these following two tuples, fruit_summer and fruit_winter, to form a new tuple, all_fruit. Print the new tuple to the screen.\n",
    "- Confirm how many times the element 'peach' appears in all_fruit.\n",
    "- Suppose we have the combined_info tuple shown in the block of code below, containing three elements – the colour of the fruit, the age of the tree, and the type of tree. We'd however like to work with these elements individually and need to create variables (colour, age, tree_type) for each of the elements in the tuple.\n",
    "\n",
    "``` python\n",
    "# combined_info tuple\n",
    "combined_info = ('yellow', 5, 'lemon')\n",
    "\n",
    "# insert your code here \n",
    "```"
   ]
  },
  {
   "cell_type": "code",
   "execution_count": 33,
   "id": "6759af26-5f3d-4260-9061-c5d588ab22b5",
   "metadata": {},
   "outputs": [
    {
     "name": "stdout",
     "output_type": "stream",
     "text": [
      "('peach', 'apricot', 'plum')\n",
      "('lemon', 'orange', 'grapefruit')\n"
     ]
    }
   ],
   "source": [
    "fruit_summer, fruit_winter = ('peach', 'apricot', 'plum'), ('lemon', 'orange', 'grapefruit')\n",
    "print(fruit_summer)\n",
    "print(fruit_winter)"
   ]
  },
  {
   "cell_type": "code",
   "execution_count": 35,
   "id": "1b1b8f77-9ed4-4ee7-8a80-43fc198b118e",
   "metadata": {},
   "outputs": [
    {
     "name": "stdout",
     "output_type": "stream",
     "text": [
      "('peach', 'apricot', 'plum', 'lemon', 'orange', 'grapefruit')\n"
     ]
    }
   ],
   "source": [
    "all_fruit = (fruit_summer + fruit_winter)\n",
    "print(all_fruit)"
   ]
  },
  {
   "cell_type": "code",
   "execution_count": 36,
   "id": "d00c136e-b5fe-4acb-b527-9c5ff2a6d6b5",
   "metadata": {},
   "outputs": [
    {
     "name": "stdout",
     "output_type": "stream",
     "text": [
      "1\n"
     ]
    }
   ],
   "source": [
    "print(all_fruit.count('peach'))"
   ]
  },
  {
   "cell_type": "code",
   "execution_count": 44,
   "id": "d115c69e-16bb-4546-af53-7d3fa68ca5bb",
   "metadata": {},
   "outputs": [
    {
     "name": "stdout",
     "output_type": "stream",
     "text": [
      "colour: yellow \n",
      "age: 5 \n",
      "tree_type: lemon\n"
     ]
    }
   ],
   "source": [
    "# combined_info tuple\n",
    "combined_info = ('yellow', 5, 'lemon')\n",
    "\n",
    "# insert your code here \n",
    "colour, age, tree_type = combined_info\n",
    "print('colour:', colour, '\\nage:', age, '\\ntree_type:' ,tree_type)"
   ]
  }
 ],
 "metadata": {
  "kernelspec": {
   "display_name": "Python 3 (ipykernel)",
   "language": "python",
   "name": "python3"
  },
  "language_info": {
   "codemirror_mode": {
    "name": "ipython",
    "version": 3
   },
   "file_extension": ".py",
   "mimetype": "text/x-python",
   "name": "python",
   "nbconvert_exporter": "python",
   "pygments_lexer": "ipython3",
   "version": "3.12.7"
  }
 },
 "nbformat": 4,
 "nbformat_minor": 5
}
