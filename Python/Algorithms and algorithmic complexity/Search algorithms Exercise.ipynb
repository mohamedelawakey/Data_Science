{
 "cells": [
  {
   "cell_type": "markdown",
   "id": "b14d25cc-ccc1-4142-8b56-4b556b438b43",
   "metadata": {},
   "source": [
    "# Exercises"
   ]
  },
  {
   "cell_type": "markdown",
   "id": "a514a11d-08a3-4c4c-8721-2296545ade2a",
   "metadata": {},
   "source": [
    "### Exercise 1\n",
    "Using the below pseudocode as a guide for implementation. Write a basic linear search function.\n",
    "```pytohn\n",
    "# Pseudocode\n",
    "procedure linear_search( list, target )\n",
    "    for each element in the list\n",
    "        if the element equals the target\n",
    "            return its index\n",
    "\n",
    "    return not found\n",
    "end procedure\n",
    "```\n",
    "```python\n",
    "# Your solution here...\n",
    "```\n",
    "Given the below data, use the linear_search function to search for the target value.\n",
    "```python\n",
    "my_list = [1, 3, 5, 7, 9]\n",
    "target_value = 5\n",
    "```\n",
    "```python\n",
    "# Your solution here...\n",
    "```"
   ]
  },
  {
   "cell_type": "code",
   "execution_count": 1,
   "id": "47486db2-2124-4b8d-900d-bcb481e9d176",
   "metadata": {},
   "outputs": [
    {
     "name": "stdout",
     "output_type": "stream",
     "text": [
      "2\n"
     ]
    }
   ],
   "source": [
    "def linear_search(my_list, target_value):\n",
    "    for i in range(len(my_list)):\n",
    "        if my_list[i] == target_value:\n",
    "            return i\n",
    "\n",
    "my_list = [1, 3, 5, 7, 9]\n",
    "target_value = 5\n",
    "\n",
    "print(linear_search(my_list, target_value))"
   ]
  },
  {
   "cell_type": "markdown",
   "id": "8c55e7a7-636c-479c-9f49-7999d10379f8",
   "metadata": {},
   "source": [
    "### Exercise 2\n",
    "Naturally, we can adapt the linear search algorithm to return all the occurrences and/or count the number of occurrences by adding a running counter and moving the return statement.\n",
    "\n",
    "Write a linear search function that counts the number of occurrences of a searched item.\n",
    "\n",
    "```python\n",
    "# Your solution here...\n",
    "```\n",
    "Count the number of times the target value appears in the list below.\n",
    "\n",
    "\n",
    "```python\n",
    "my_list = [1, 3, 5, 3, 7, 9, 3]\n",
    "target_value = 3\n",
    "\n",
    "```\n",
    "```python\n",
    "# Your solution here...\n",
    "```"
   ]
  },
  {
   "cell_type": "code",
   "execution_count": 2,
   "id": "799a3697-7833-4f1d-96a9-6e2fcc9037a7",
   "metadata": {},
   "outputs": [
    {
     "name": "stdout",
     "output_type": "stream",
     "text": [
      "3\n"
     ]
    }
   ],
   "source": [
    "def linear_search_occurrences(my_list, target_value):\n",
    "    counter = 0\n",
    "    for i in range(len(my_list)):\n",
    "        if my_list[i] == target_value:\n",
    "            counter += 1\n",
    "    return counter\n",
    "            \n",
    "my_list = [1, 3, 5, 3, 7, 9, 3]\n",
    "target_value = 3\n",
    "\n",
    "print(linear_search_occurrences(my_list, target_value))"
   ]
  },
  {
   "cell_type": "markdown",
   "id": "5f28875f-31a7-4486-a024-04480900d4a2",
   "metadata": {},
   "source": [
    "### Exercise 3\n",
    "Using the below pseudocode as a guide for implementation. Write a basic recursive implementation of a binary search function.\n",
    "\n",
    "```python\n",
    "# Pseudocode\n",
    "procedure binary_search_recur( list items, target )\n",
    "\n",
    "    find the midpoint of items\n",
    "\n",
    "    if length of items == 1 then\n",
    "        return midpoint if midpoint is equal to the target value, otherwise return False\n",
    "    else if midpoint item == target\n",
    "        return midpoint\n",
    "    else\n",
    "        # Recursively divide the sublists further.\n",
    "        if midpoint item < target\n",
    "            call binary_search_recur on right side sublist and target value\n",
    "            return midpoint + call if the call is not False, otherwise return False\n",
    "        else\n",
    "            return call binary_search_recur on left side sublist and target value\n",
    "end procedure\n",
    "```\n",
    "```python\n",
    "# Your solution here...\n",
    "```\n",
    "Given the below data, use the binary_search_recur function to search for the target value.\n",
    "```python\n",
    "my_list = [1, 3, 5, 7, 9, 11, 13, 15, 17]\n",
    "target_value = 13\n",
    "```\n",
    "```python\n",
    "# Your solution here...\n",
    "```"
   ]
  },
  {
   "cell_type": "code",
   "execution_count": 3,
   "id": "6f6dce98-1cd3-4b18-bec6-49f390aec49e",
   "metadata": {},
   "outputs": [
    {
     "name": "stdout",
     "output_type": "stream",
     "text": [
      "6\n"
     ]
    }
   ],
   "source": [
    "def binary_search(my_list, target_value):\n",
    "    if not my_list:\n",
    "        return -1\n",
    "\n",
    "    if len(my_list) == 1:\n",
    "        return 0 if my_list[0] == 1 else -1\n",
    "\n",
    "    mid = len(my_list) // 2\n",
    "\n",
    "    if my_list[mid] == target_value:\n",
    "        return mid\n",
    "\n",
    "    if my_list[mid] > target_value:\n",
    "        return binary_search(my_list[:mid] ,target_value)\n",
    "    else:\n",
    "        result = binary_search(my_list[mid:] ,target_value)\n",
    "        return result if result == -1 else mid + result\n",
    "        \n",
    "my_list = [1, 3, 5, 7, 9, 11, 13, 15, 17]\n",
    "target_value = 13\n",
    "print(binary_search(my_list, target_value))"
   ]
  },
  {
   "cell_type": "markdown",
   "id": "ad20d45a-9a40-4dd0-af2e-93a64e08372c",
   "metadata": {},
   "source": [
    "### Exercise 4\n",
    "Using the below pseudocode as a guide for implementation. Write a basic iterative implementation of a binary search function.\n",
    "\n",
    "```python\n",
    "# Pseudocode\n",
    "procedure binary_search_iter( list items, target )\n",
    "\n",
    "    initialise start value as zero\n",
    "    initialise end value as length(items) - 1\n",
    "\n",
    "    while start value <= end value then continue\n",
    "        mid value = (start + end) divided by 2 (floor division)\n",
    "\n",
    "        if target == mid item then\n",
    "            return mid value\n",
    "\n",
    "        if target < mid item then\n",
    "            end = mid - 1\n",
    "        else then\n",
    "            start = mid + 1\n",
    "\n",
    "    return when not found as False\n",
    "end procedure\n",
    "```\n",
    "```python\n",
    "# Your solution here...\n",
    "```\n",
    "Given the below data, use the binary_search_iter function to search for the target value.\n",
    "```python\n",
    "my_list = [1, 3, 5, 7, 9, 11, 13, 15, 17]\n",
    "target_value = 13\n",
    "```\n",
    "```python\n",
    "# Your solution here...\n",
    "```"
   ]
  },
  {
   "cell_type": "code",
   "execution_count": 4,
   "id": "1c5c3f4f-6b62-4594-9f60-25d9aa894b97",
   "metadata": {},
   "outputs": [
    {
     "name": "stdout",
     "output_type": "stream",
     "text": [
      "6\n"
     ]
    }
   ],
   "source": [
    "def binary_search_iter(my_list , target_value):\n",
    "    left = 0\n",
    "    right = len(my_list) - 1\n",
    "\n",
    "    while left <= right:\n",
    "        mid = (right + left) // 2\n",
    "\n",
    "        if target_value == my_list[mid]: \n",
    "            return mid \n",
    "\n",
    "        if target_value < my_list[mid]:\n",
    "            right = mid - 1\n",
    "        else:\n",
    "            left  = mid + 1\n",
    "    \n",
    "my_list = [1, 3, 5, 7, 9, 11, 13, 15, 17]\n",
    "target_value = 13\n",
    "print(binary_search_iter(my_list, target_value))"
   ]
  }
 ],
 "metadata": {
  "kernelspec": {
   "display_name": "Python 3 (ipykernel)",
   "language": "python",
   "name": "python3"
  },
  "language_info": {
   "codemirror_mode": {
    "name": "ipython",
    "version": 3
   },
   "file_extension": ".py",
   "mimetype": "text/x-python",
   "name": "python",
   "nbconvert_exporter": "python",
   "pygments_lexer": "ipython3",
   "version": "3.12.7"
  }
 },
 "nbformat": 4,
 "nbformat_minor": 5
}
