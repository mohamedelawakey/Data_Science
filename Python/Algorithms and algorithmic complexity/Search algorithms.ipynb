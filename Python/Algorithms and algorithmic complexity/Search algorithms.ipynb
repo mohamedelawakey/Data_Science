{
 "cells": [
  {
   "cell_type": "markdown",
   "id": "7812071f-19b6-4ed3-8170-a7fd65f62d84",
   "metadata": {},
   "source": [
    "# Linear search"
   ]
  },
  {
   "cell_type": "code",
   "execution_count": 5,
   "id": "a5d7ff61-5eda-41d0-8292-b7f4e60fa6e3",
   "metadata": {},
   "outputs": [
    {
     "data": {
      "text/plain": [
       "2"
      ]
     },
     "execution_count": 5,
     "metadata": {},
     "output_type": "execute_result"
    }
   ],
   "source": [
    "def linear_search(the_list, target):\n",
    "    for i in range(len(the_list)):\n",
    "        if the_list[i] == target:\n",
    "            return i\n",
    "    return False\n",
    "\n",
    "linear_search([11, 2, 26, 18, 23], 26)"
   ]
  },
  {
   "cell_type": "markdown",
   "id": "8888045c-d71d-4c3c-9257-6616c8bbed44",
   "metadata": {},
   "source": [
    "# Binary search"
   ]
  },
  {
   "cell_type": "code",
   "execution_count": 14,
   "id": "047a1d04-a3ac-4c3d-8550-c4a073e1a27f",
   "metadata": {},
   "outputs": [
    {
     "data": {
      "text/plain": [
       "4"
      ]
     },
     "execution_count": 14,
     "metadata": {},
     "output_type": "execute_result"
    }
   ],
   "source": [
    "def Binary_search(the_list, target):\n",
    "    if not the_list:\n",
    "        return -1\n",
    "        \n",
    "    if len(the_list) == 1:\n",
    "        return 0 if the_list[0] == target else -1\n",
    "\n",
    "    mid = len(the_list) // 2\n",
    "\n",
    "    if target == the_list[mid]:\n",
    "        return mid\n",
    "\n",
    "    if the_list[mid] > target:\n",
    "        return Binary_search(the_list[:mid], target)\n",
    "    else:\n",
    "        result = Binary_search(the_list[mid:], target)\n",
    "        return result if result == -1 else mid + result\n",
    "\n",
    "Binary_search([1, 2, 3, 4, 5, 6, 7, 8, 9, 10], 5)"
   ]
  }
 ],
 "metadata": {
  "kernelspec": {
   "display_name": "Python 3 (ipykernel)",
   "language": "python",
   "name": "python3"
  },
  "language_info": {
   "codemirror_mode": {
    "name": "ipython",
    "version": 3
   },
   "file_extension": ".py",
   "mimetype": "text/x-python",
   "name": "python",
   "nbconvert_exporter": "python",
   "pygments_lexer": "ipython3",
   "version": "3.12.7"
  }
 },
 "nbformat": 4,
 "nbformat_minor": 5
}
