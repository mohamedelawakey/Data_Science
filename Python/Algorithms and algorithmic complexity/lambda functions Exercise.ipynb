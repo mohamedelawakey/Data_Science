{
 "cells": [
  {
   "cell_type": "markdown",
   "id": "7dbeca41-f685-4158-97d9-06ef86864b89",
   "metadata": {},
   "source": [
    "# Exercises"
   ]
  },
  {
   "cell_type": "markdown",
   "id": "99dde9df-1343-4c11-ba8c-0c658aaee462",
   "metadata": {},
   "source": [
    "### Exercise 1\n",
    "Given the function root which calculates the yth root of a number x, as shown below:\n",
    "```python\n",
    "def root(x,y):\n",
    "    return x**(1/y)\n",
    "```\n",
    "Create an equivalent lambda function and name it y_root.\n",
    "```python\n",
    "# insert code here\n",
    "```\n",
    "Expected output:\n",
    "- y_root(25,2) == 5.0\n",
    "- y_root(8,3) == 2.0"
   ]
  },
  {
   "cell_type": "code",
   "execution_count": 14,
   "id": "7437963f-5115-4c2c-9c14-f40fd78485a5",
   "metadata": {},
   "outputs": [
    {
     "name": "stdout",
     "output_type": "stream",
     "text": [
      "5.0\n",
      "2.0\n"
     ]
    }
   ],
   "source": [
    "y_root = lambda x, y : x ** (1 / y)\n",
    "\n",
    "print(y_root(25, 2))\n",
    "print(y_root(8, 3))"
   ]
  },
  {
   "cell_type": "markdown",
   "id": "7667e204-5ced-4592-9f08-35361a75dc63",
   "metadata": {},
   "source": [
    "### Exercise 2\n",
    "Write a lambda function named sort. This function should take a single argument: a list of numbers. It should return a new list with the numbers sorted in ascending order.\n",
    "```python\n",
    "# insert code here\n",
    "```\n",
    "Expected output:\n",
    "sort([6,2,3,9,1,5]) == [1, 2, 3, 5, 6, 9]"
   ]
  },
  {
   "cell_type": "code",
   "execution_count": 16,
   "id": "6ae03e6b-1e67-42a0-b920-6fbde9a265d2",
   "metadata": {},
   "outputs": [
    {
     "data": {
      "text/plain": [
       "[1, 2, 3, 5, 6, 9]"
      ]
     },
     "execution_count": 16,
     "metadata": {},
     "output_type": "execute_result"
    }
   ],
   "source": [
    "sort =  lambda x : sorted(x)\n",
    "\n",
    "sort([6,2,3,9,1,5])"
   ]
  },
  {
   "cell_type": "markdown",
   "id": "47075953-3967-4178-8a0d-3d63b9c20808",
   "metadata": {},
   "source": [
    "### Exercise 3\n",
    "Write a lambda function named filtered_list that makes use of the filter() function to print a list of integers that are greater than 9.\n",
    "\n",
    "Use list1 as the input for the function.\n",
    "\n",
    "```python\n",
    "list1 = [2, 6, 8, 10, 11, 4, 12, 7, 13, 17, 0, 3, 21]\n",
    "\n",
    "# insert code here\n",
    "```\n",
    "Expected output:\n",
    "\n",
    "[10, 11, 12, 13, 17, 21]"
   ]
  },
  {
   "cell_type": "code",
   "execution_count": 17,
   "id": "3781ea28-d83b-42f7-a575-4ec5a00927cb",
   "metadata": {},
   "outputs": [
    {
     "name": "stdout",
     "output_type": "stream",
     "text": [
      "[10, 11, 12, 13, 17, 21]\n"
     ]
    }
   ],
   "source": [
    "list1 = [2, 6, 8, 10, 11, 4, 12, 7, 13, 17, 0, 3, 21]\n",
    "\n",
    "# insert code here\n",
    "filtered_list = filter(lambda x : x > 9, list1)\n",
    "print(list(filtered_list))"
   ]
  },
  {
   "cell_type": "markdown",
   "id": "25df7fa9-21be-4bd7-9b16-c0db6b925ac4",
   "metadata": {},
   "source": [
    "### Exercise 4\n",
    "Write a lambda function named mapped_list that makes use of the map() function to output the remainder after dividing each number in list2 by 2.\n",
    "\n",
    "Use list2 as the input for the function. Print the results as a list.\n",
    "```python\n",
    "list2 = [2, 6, 8, 10, 11, 4, 12, 7, 13, 17, 0, 3, 21]\n",
    "\n",
    "# insert code here\n",
    "```\n",
    "Expected output:\n",
    "\n",
    "[0, 0, 0, 0, 1, 0, 0, 1, 1, 1, 0, 1, 1]"
   ]
  },
  {
   "cell_type": "code",
   "execution_count": 23,
   "id": "89ced901-f74f-40eb-a033-6242e480971b",
   "metadata": {},
   "outputs": [
    {
     "name": "stdout",
     "output_type": "stream",
     "text": [
      "[0, 0, 0, 0, 1, 0, 0, 1, 1, 1, 0, 1, 1]\n"
     ]
    }
   ],
   "source": [
    "list2 = [2, 6, 8, 10, 11, 4, 12, 7, 13, 17, 0, 3, 21]\n",
    "\n",
    "# insert code here\n",
    "mapped_list = map(lambda x : x % 2 , list2)\n",
    "print(list(mapped_list))"
   ]
  }
 ],
 "metadata": {
  "kernelspec": {
   "display_name": "Python 3 (ipykernel)",
   "language": "python",
   "name": "python3"
  },
  "language_info": {
   "codemirror_mode": {
    "name": "ipython",
    "version": 3
   },
   "file_extension": ".py",
   "mimetype": "text/x-python",
   "name": "python",
   "nbconvert_exporter": "python",
   "pygments_lexer": "ipython3",
   "version": "3.12.7"
  }
 },
 "nbformat": 4,
 "nbformat_minor": 5
}
