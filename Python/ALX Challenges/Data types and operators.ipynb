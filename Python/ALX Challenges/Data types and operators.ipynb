{
 "cells": [
  {
   "cell_type": "markdown",
   "id": "dc591ee2-0b9e-4561-a131-15a4fef4df6e",
   "metadata": {},
   "source": [
    "# Exercises"
   ]
  },
  {
   "cell_type": "markdown",
   "id": "49cb378c-ce6f-4d73-8c3a-bdf19b764954",
   "metadata": {},
   "source": [
    "### Exercise 1\n",
    "Declare two variables, num1 and num2, and assign them values of 15 and 7, respectively. Calculate and store the result of their sum, difference, product, and division (as floating-point number), in separate variables. Print the newly created variables."
   ]
  },
  {
   "cell_type": "code",
   "execution_count": 19,
   "id": "e86ce982-684b-49ee-86e5-c5b202e86f81",
   "metadata": {},
   "outputs": [
    {
     "name": "stdout",
     "output_type": "stream",
     "text": [
      "sum = 22\n",
      "difference = 8\n",
      "product = 105\n",
      "division = 2.142857142857143\n"
     ]
    }
   ],
   "source": [
    "num1, num2 = 15, 7\n",
    "sum = num1 + num2\n",
    "difference = num1 - num2\n",
    "product = num1 * num2\n",
    "division = num1 / num2\n",
    "\n",
    "print('sum =', sum)\n",
    "print('difference =', difference)\n",
    "print('product =', product)\n",
    "print('division =', division)"
   ]
  },
  {
   "cell_type": "markdown",
   "id": "cb7725a3-f679-4bdf-9b30-17d52d0186cc",
   "metadata": {},
   "source": [
    "### Exercise 2\n",
    "Create two string variables, first_name and last_name, with your first and last names. Concatenate them to form a full name and assign it to a new variable full_name. Print the full_name in uppercase."
   ]
  },
  {
   "cell_type": "code",
   "execution_count": 22,
   "id": "fd66d086-66d1-475f-999c-1314d9725378",
   "metadata": {},
   "outputs": [
    {
     "name": "stdout",
     "output_type": "stream",
     "text": [
      "my full name: MOHAMED ALAWAKEY\n"
     ]
    }
   ],
   "source": [
    "first_name, last_name = 'Mohamed', 'Alawakey'\n",
    "full_name = first_name + ' ' +  last_name\n",
    "print('my full name:', full_name.upper())"
   ]
  },
  {
   "cell_type": "markdown",
   "id": "e732d520-1514-4e81-b11e-be3dde4708d1",
   "metadata": {},
   "source": [
    "### Exercise 3\n",
    "You have a variable num_of_books storing the number of books you have read this month, but it's currently in the form of a string. Create a new variable books_read by casting num_of_books to an integer. Then calculate the average number of books read per week, assuming there are four weeks in a month."
   ]
  },
  {
   "cell_type": "code",
   "execution_count": 27,
   "id": "fad225a4-d646-4674-89e2-7b3174548622",
   "metadata": {},
   "outputs": [
    {
     "name": "stdout",
     "output_type": "stream",
     "text": [
      "average number of books read per week: 3\n"
     ]
    }
   ],
   "source": [
    "num_of_books = '15'\n",
    "books_read = int(num_of_books)\n",
    "average_number_of_books_read_per_week = int(books_read / 4)\n",
    "print('average number of books read per week:', average_number_of_books_read_per_week)"
   ]
  },
  {
   "cell_type": "markdown",
   "id": "2d96fc3f-db28-40eb-a1a5-a8fb4447ca55",
   "metadata": {},
   "source": [
    "### Exercise 4\n",
    "We have been given the following information about a person:\n",
    "\n",
    "``` python\n",
    "Name: John Doe\n",
    "Age: 25\n",
    "Height: 1.75 metres\n",
    "Weight: 68.5 kilograms\n",
    "Create variables of appropriate data types to store this information. Then calculate the Body Mass Index (BMI) using the formula:\n",
    "\n",
    "BMI = {Weight} / {Height} ^ 2\n",
    "\n",
    "Print the result.\n",
    "```"
   ]
  },
  {
   "cell_type": "code",
   "execution_count": 37,
   "id": "a04d0122-7d6a-4883-a251-f7bd47dd66d3",
   "metadata": {},
   "outputs": [
    {
     "name": "stdout",
     "output_type": "stream",
     "text": [
      "John Doe's BMI is: 22.367346938775512\n"
     ]
    }
   ],
   "source": [
    "name = \"John Doe\"\n",
    "age = 25\n",
    "height = 1.75 \n",
    "weight = 68.5  \n",
    "\n",
    "bmi = weight / (height ** 2)\n",
    "\n",
    "print(str(name) + \"\\'s BMI is: \" + str(bmi))"
   ]
  },
  {
   "cell_type": "markdown",
   "id": "d78ed6ef-62b2-4d71-a74a-1c7584786310",
   "metadata": {},
   "source": [
    "# Comprehensive exercise\n",
    "\n",
    "You are tasked with creating a program to manage inventory for a store. The program should have the following features:\n",
    "\n",
    "1. Create variables to store the following information:\n",
    "\n",
    "- Product name (string)\n",
    "- Initial quantity in stock (integer)\n",
    "- Price per unit (float)\n",
    "- Discount percentage (float)\n",
    "\n",
    "2. Perform the following operations:\n",
    "\n",
    "- Calculate the total value of the initial stock (quantity * price per unit).\n",
    "- Apply the discount to the total value and calculate the discounted value of stock.\n",
    "- Update the quantity in stock based on new stock received (assume a shipment of 30 units).\n",
    "\n",
    "3. Display the results:\n",
    "\n",
    "- Print a summary message that includes the product name, initial quantity, price per unit, discount percentage, total value, discounted value, and the updated quantity in stock."
   ]
  },
  {
   "cell_type": "code",
   "execution_count": 56,
   "id": "afb222e7-ceb8-4bbd-bb4f-9590a7d05c27",
   "metadata": {},
   "outputs": [
    {
     "name": "stdout",
     "output_type": "stream",
     "text": [
      "Product name: Widget XYZ\n",
      "Initial quantity: 100\n",
      "Price per unit: $ 12.5\n",
      "Discount percentage: 15.0 %\n",
      "\n",
      "Total value of initial stock: $ 1250.0\n",
      "Discounted value: $ 1062.5\n",
      "Updated quantity in stock: 130\n"
     ]
    }
   ],
   "source": [
    "product_name = \"Widget XYZ\"\n",
    "initial_quantity = 100\n",
    "price_per_unit = 12.50\n",
    "discount_percentage = 0.15\n",
    "\n",
    "total_value = initial_quantity * price_per_unit\n",
    "discounted_value = total_value - (total_value * discount_percentage)\n",
    "\n",
    "new_shipment = 30\n",
    "updated_quantity = initial_quantity + new_shipment\n",
    "\n",
    "print(\"Product name:\", product_name)\n",
    "print(\"Initial quantity:\", initial_quantity)\n",
    "print(\"Price per unit: $\", price_per_unit)\n",
    "print(\"Discount percentage:\", discount_percentage * 100, \"%\\n\")\n",
    "print(\"Total value of initial stock: $\", total_value)\n",
    "print(\"Discounted value: $\", discounted_value)\n",
    "print(\"Updated quantity in stock:\", updated_quantity)"
   ]
  },
  {
   "cell_type": "code",
   "execution_count": null,
   "id": "231b9b72-fca8-4d9a-ac61-e0b7c7cb8355",
   "metadata": {},
   "outputs": [],
   "source": []
  }
 ],
 "metadata": {
  "kernelspec": {
   "display_name": "Python 3 (ipykernel)",
   "language": "python",
   "name": "python3"
  },
  "language_info": {
   "codemirror_mode": {
    "name": "ipython",
    "version": 3
   },
   "file_extension": ".py",
   "mimetype": "text/x-python",
   "name": "python",
   "nbconvert_exporter": "python",
   "pygments_lexer": "ipython3",
   "version": "3.12.7"
  }
 },
 "nbformat": 4,
 "nbformat_minor": 5
}
