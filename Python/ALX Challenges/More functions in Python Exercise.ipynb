{
 "cells": [
  {
   "cell_type": "markdown",
   "id": "12751be9-b605-44bb-b4b7-2ce22294a638",
   "metadata": {},
   "source": [
    "# Exercises\n",
    "Note: The initial code for the following functions is supplied as an outline for the required parameters."
   ]
  },
  {
   "cell_type": "markdown",
   "id": "a3adbfed-bbcf-47dd-8313-a50828e8ff01",
   "metadata": {},
   "source": [
    "### Exercise 1\n",
    "Our task is to analyse the overall carbon impact considering deforestation, tree planting, and carbon offset. Implement the analyse_carbon_impact function, which takes lists of deforested areas and planted trees, the carbon emission factor and an offset per tree as parameters. The function should return one of three categories: Positive, Neutral, or Negative, representing the overall carbon impact.\n",
    "\n",
    "Guidance:\n",
    "\n",
    "- Calculate the total emission by summing the product of each deforested area and the carbon emission factor.\n",
    "- Calculate the total offset by summing the product of each planted tree and the carbon offset per tree.\n",
    "- Compute the overall impact by subtracting the total offset from the total emission.\n",
    "- Use conditional statements to categorise the overall impact into Positive, Neutral, or Negative based on the following criteria:\n",
    "\n",
    "    - If total offset >= total emission, categorise as Positive.\n",
    "    - If total offset == total emission, categorise as Neutral.\n",
    "    - If total offset < total emission, categorise as Negative.\n",
    "\n",
    "Return the categorised impact.\n",
    "\n",
    "```python\n",
    "def analyse_carbon_impact(deforested_areas, planted_trees, carbon_emission_factor, carbon_offset_per_tree):\n",
    "    \"\"\"\n",
    "    Calculate and categorise the overall carbon impact, considering deforestation, tree planting, and offset.\n",
    "\n",
    "    Parameters:\n",
    "    - deforested_areas (list): A list of deforested areas in hectares for each region.\n",
    "    - planted_trees (list): A list of trees planted in each region.\n",
    "    - carbon_emission_factor (float): Carbon emission factor in tons of CO2 per hectare.\n",
    "    - carbon_offset_per_tree (float): Carbon offset per tree in tons of CO2.\n",
    "\n",
    "    Returns:\n",
    "    - str: 'Positive', 'Neutral', or 'Negative' based on the overall carbon impact.\n",
    "    \"\"\"\n",
    "    # insert code here\n",
    "\n",
    "```\n",
    "\n",
    "Assuming the following data, what category would the carbon impact fall under?\n",
    "\n",
    "- Deforested areas = [10, 15, 8, 12, 20]\n",
    "- Planted trees = [30, 40, 25, 35, 50]\n",
    "- Carbon emission factor = 30\n",
    "- Carbon offset per tree = 5\n",
    "\n",
    "```python\n",
    "# insert code here\n",
    "```"
   ]
  },
  {
   "cell_type": "code",
   "execution_count": 5,
   "id": "b9b5fa67-b226-4ea2-9b5f-169a73769a23",
   "metadata": {},
   "outputs": [],
   "source": [
    "def analyse_carbon_impact(deforested_areas, planted_trees, carbon_emission_factor, carbon_offset_per_tree):\n",
    "    \"\"\"\n",
    "    Calculate and categorise the overall carbon impact, considering deforestation, tree planting, and offset.\n",
    "\n",
    "    Parameters:\n",
    "    - deforested_areas (list): A list of deforested areas in hectares for each region.\n",
    "    - planted_trees (list): A list of trees planted in each region.\n",
    "    - carbon_emission_factor (float): Carbon emission factor in tons of CO2 per hectare.\n",
    "    - carbon_offset_per_tree (float): Carbon offset per tree in tons of CO2.\n",
    "\n",
    "    Returns:\n",
    "    - str: 'Positive', 'Neutral', or 'Negative' based on the overall carbon impact.\n",
    "    \"\"\"\n",
    "    # insert code here\n",
    "    total_emission = sum(area * carbon_emission_factor for area in deforested_areas)\n",
    "    total_offset = sum(trees * carbon_offset_per_tree for trees in planted_trees)\n",
    "    overall_impact = total_offset - total_emission\n",
    "\n",
    "    if total_offset >= total_emission:\n",
    "        return 'Positive'\n",
    "    elif total_offset == total_emission:\n",
    "        return 'Neutral'\n",
    "    else:\n",
    "        return 'Negative'"
   ]
  },
  {
   "cell_type": "code",
   "execution_count": 7,
   "id": "43d04b64-0770-4265-b72a-8c6c80a393f0",
   "metadata": {},
   "outputs": [
    {
     "data": {
      "text/plain": [
       "'Negative'"
      ]
     },
     "execution_count": 7,
     "metadata": {},
     "output_type": "execute_result"
    }
   ],
   "source": [
    "deforested_areas_data = [10, 15, 8, 12, 20]\n",
    "planted_trees_data = [30, 40, 25, 35, 50]\n",
    "carbon_emission_factor = 30\n",
    "carbon_offset_per_tree = 5\n",
    "\n",
    "impact_result = analyse_carbon_impact(deforested_areas_data, planted_trees_data, carbon_emission_factor, carbon_offset_per_tree)\n",
    "impact_result"
   ]
  },
  {
   "cell_type": "markdown",
   "id": "a07786b1-cc1f-420b-9007-a2abd204eda9",
   "metadata": {},
   "source": [
    "### Exercise 2\n",
    "We are assigned the task of projecting the future number of planted trees based on an initial planting, an annual growth rate, and the number of years for projection. Implement the project_future_tree_planting function, which takes the initial number of planted trees, the annual growth rate, and the number of projection years as parameters. The function should return a list representing the projected tree planting for each year.\n",
    "\n",
    "Guidance:\n",
    "\n",
    "- Use a list comprehension to calculate the projected planting for each year based on the initial planting, annual growth rate, and projection years.\n",
    "- The formula for projection is: initial_planted_trees * (1 + annual_growth_rate) ** year.\n",
    "- Return the list of projected tree planting.\n",
    "\n",
    "```python\n",
    "def project_future_tree_planting(initial_planted_trees, annual_growth_rate, projection_years):\n",
    "    \"\"\"\n",
    "    Project the future number of planted trees for each year (starting at 1) based on \n",
    "    the initial planting and growth rate.\n",
    "\n",
    "    Parameters:\n",
    "    - initial_planted_trees (int): Initial number of trees planted.\n",
    "    - annual_growth_rate (float): Annual growth rate of planted trees.\n",
    "    - projection_years (int): Number of years for projection.\n",
    "\n",
    "    Returns:\n",
    "    - list: List of projected tree planting for each year.\n",
    "    \"\"\"\n",
    "\n",
    "    # insert code here\n",
    "```\n",
    "\n",
    "Assuming the following data, calculate the projected number of planted trees for each year using the function above.\n",
    "\n",
    "- Initial number of trees planted = 100\n",
    "- Growth rate per year = 0.05\n",
    "- projection years = \n",
    "\n",
    "```python\n",
    "# insert code here\n",
    "```"
   ]
  },
  {
   "cell_type": "code",
   "execution_count": 12,
   "id": "41428dd9-2907-4722-80c7-da0bfe646581",
   "metadata": {},
   "outputs": [],
   "source": [
    "def project_future_tree_planting(initial_planted_trees, annual_growth_rate, projection_years):\n",
    "    \"\"\"\n",
    "    Project the future number of planted trees for each year (starting at 1) based on \n",
    "    the initial planting and growth rate.\n",
    "\n",
    "    Parameters:\n",
    "    - initial_planted_trees (int): Initial number of trees planted.\n",
    "    - annual_growth_rate (float): Annual growth rate of planted trees.\n",
    "    - projection_years (int): Number of years for projection.\n",
    "\n",
    "    Returns:\n",
    "    - list: List of projected tree planting for each year.\n",
    "    \"\"\"\n",
    "\n",
    "    # insert code here\n",
    "    projected_planting_for_each_year = [initial_planted_trees * (1 + annual_growth_rate) ** year for year in range(1, projection_years + 1)]\n",
    "    return projected_planting_for_each_year"
   ]
  },
  {
   "cell_type": "code",
   "execution_count": 13,
   "id": "e39ddc7c-0562-4207-8668-bfac0bb78942",
   "metadata": {},
   "outputs": [
    {
     "data": {
      "text/plain": [
       "[105.0,\n",
       " 110.25,\n",
       " 115.76250000000002,\n",
       " 121.55062500000003,\n",
       " 127.62815625000003,\n",
       " 134.00956406250003,\n",
       " 140.71004226562505,\n",
       " 147.7455443789063,\n",
       " 155.13282159785163,\n",
       " 162.8894626777442]"
      ]
     },
     "execution_count": 13,
     "metadata": {},
     "output_type": "execute_result"
    }
   ],
   "source": [
    "initial_planted_trees = 100\n",
    "growth_rate_per_year = 0.05\n",
    "projection_years = 10\n",
    "projection_result = project_future_tree_planting(initial_planted_trees, growth_rate_per_year, projection_years)\n",
    "projection_result"
   ]
  },
  {
   "cell_type": "markdown",
   "id": "154ddf3a-db2e-4c8f-a2d2-2a66bb374a74",
   "metadata": {},
   "source": [
    "### Exercise 3\n",
    "We are working on a project that requires calculating dynamic carbon offsets for different regions. Implement the calculate_region_offset function, which takes the name of a region and a variable number of additional factors as keyword arguments using **kwargs. The function should dynamically calculate the specified region's carbon offset based on the provided factors by averaging their values. Return a tuple containing the region name and the calculated carbon offset.\n",
    "\n",
    "Guidance:\n",
    "\n",
    "- Use **kwargs in the function signature to accept a variable number of keyword arguments for the factors.\n",
    "- Utilise the provided factors to calculate the carbon offset by calculating the average of their values.\n",
    "- Return a tuple containing the region name and the calculated carbon offset.\n",
    "\n",
    "```python\n",
    "def calculate_region_offset_with_kwargs(region_name, **factors):\n",
    "    \"\"\"\n",
    "    Calculate dynamic carbon offset for a specified region based on various factors provided as keyword arguments.\n",
    "\n",
    "    Parameters:\n",
    "    - region_name (str): Name of the region.\n",
    "    - **factors: Variable number of keyword arguments.\n",
    "\n",
    "    Returns:\n",
    "    - tuple: Region name and calculated dynamic carbon offset.\n",
    "    \"\"\"\n",
    "\n",
    "    # insert code here\n",
    "```\n",
    "\n",
    "Calculate the dynamic carbon offset for the region using the region and parameters listed below:\n",
    "\n",
    "- Region name = \"Amazon\"\n",
    "- Deforested area = 30\n",
    "- Planted trees = 40\n",
    "- Carbon emission factor = 10\n",
    "\n",
    "```python\n",
    "# insert code here\n",
    "```"
   ]
  },
  {
   "cell_type": "code",
   "execution_count": 18,
   "id": "2b7d5c33-7d83-480b-a618-259ba3795dc6",
   "metadata": {},
   "outputs": [],
   "source": [
    "def calculate_region_offset_with_kwargs(region_name, **factors):\n",
    "    \"\"\"\n",
    "    Calculate dynamic carbon offset for a specified region based on various factors provided as keyword arguments.\n",
    "\n",
    "    Parameters:\n",
    "    - region_name (str): Name of the region.\n",
    "    - **factors: Variable number of keyword arguments.\n",
    "\n",
    "    Returns:\n",
    "    - tuple: Region name and calculated dynamic carbon offset.\n",
    "    \"\"\"\n",
    "\n",
    "    # insert code here\n",
    "    total_offset = sum(factors.values()) / len(factors)\n",
    "    return total_offset"
   ]
  },
  {
   "cell_type": "code",
   "execution_count": 19,
   "id": "24ca6c9d-dfdd-4d05-a05b-f97312577346",
   "metadata": {},
   "outputs": [
    {
     "data": {
      "text/plain": [
       "26.666666666666668"
      ]
     },
     "execution_count": 19,
     "metadata": {},
     "output_type": "execute_result"
    }
   ],
   "source": [
    "calculate_region_offset_with_kwargs(\"Amazon\", deforested_area=30, planted_trees=40, carbon_emission_factor=10)"
   ]
  }
 ],
 "metadata": {
  "kernelspec": {
   "display_name": "Python 3 (ipykernel)",
   "language": "python",
   "name": "python3"
  },
  "language_info": {
   "codemirror_mode": {
    "name": "ipython",
    "version": 3
   },
   "file_extension": ".py",
   "mimetype": "text/x-python",
   "name": "python",
   "nbconvert_exporter": "python",
   "pygments_lexer": "ipython3",
   "version": "3.12.7"
  }
 },
 "nbformat": 4,
 "nbformat_minor": 5
}
