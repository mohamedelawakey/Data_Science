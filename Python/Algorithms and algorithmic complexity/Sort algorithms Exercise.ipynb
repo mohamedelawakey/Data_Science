{
 "cells": [
  {
   "cell_type": "markdown",
   "id": "33dd4ba6-4e4e-496a-bfcb-62d7656935fc",
   "metadata": {},
   "source": [
    "# Exercises"
   ]
  },
  {
   "cell_type": "markdown",
   "id": "be5f47df-b5ba-4538-afe4-23c106dc180e",
   "metadata": {},
   "source": [
    "### Exercise 1.1\n",
    "Write a bubble sort function that includes a flag that will allow the function to terminate when there is nothing left to sort.\n",
    "\n",
    "Use the pseudocode below to guide your implementation.\n",
    "\n",
    "```python\n",
    "# Pseudocode\n",
    "procedure bubble_sort( input A --> which is a list of sortable items )\n",
    "    n = length(A)\n",
    "    repeat\n",
    "        swapped = false\n",
    "        for i = 1 to n-1 inclusive do\n",
    "            # if this pair is out of order\n",
    "            if A[i-1] > A[i] then\n",
    "                # swap them and remember something changed\n",
    "                swap( A[i-1], A[i] )\n",
    "                swapped = true\n",
    "            end if\n",
    "        end for\n",
    "    until not swapped\n",
    "end procedure\n",
    "```\n",
    "\n",
    "```python\n",
    "# Your solution here...\n",
    "```"
   ]
  },
  {
   "cell_type": "code",
   "execution_count": 1,
   "id": "3f219c49-dfae-4d64-8633-841e329bb4e7",
   "metadata": {},
   "outputs": [],
   "source": [
    "def bubble_sort(the_list):\n",
    "    n = len(the_list)\n",
    "    while True:\n",
    "        swaaped = False\n",
    "        for i in range(1, n):\n",
    "            if the_list[i - 1] > the_list[i]:\n",
    "                the_list[i - 1], the_list[i] = the_list[i], the_list[i - 1]\n",
    "                swaaped = True\n",
    "        if not swaaped:\n",
    "            break"
   ]
  },
  {
   "cell_type": "markdown",
   "id": "c521ea65-d7b2-4727-879f-afd9db65acbc",
   "metadata": {},
   "source": [
    "### Exercise 1.2\n",
    "Given the list below, use the bubble_sort function you have created above to return a sorted version of the list as follows:\n",
    "\n",
    "```python\n",
    "my_list = [64, 34, 25, 12, 22, 11, 90]\n",
    "Output: Sorted list: [11, 12, 22, 25, 34, 64, 90]\n",
    "```\n",
    "\n",
    "```python\n",
    "# Your solution here...\n",
    "```"
   ]
  },
  {
   "cell_type": "code",
   "execution_count": 2,
   "id": "48542cde-3613-4486-ae25-90e63aa46da8",
   "metadata": {},
   "outputs": [
    {
     "name": "stdout",
     "output_type": "stream",
     "text": [
      "Sorted list: [11, 12, 22, 25, 34, 64, 90]\n"
     ]
    }
   ],
   "source": [
    "my_list = [64, 34, 25, 12, 22, 11, 90]\n",
    "bubble_sort(my_list)\n",
    "print(\"Sorted list:\", my_list)"
   ]
  }
 ],
 "metadata": {
  "kernelspec": {
   "display_name": "Python 3 (ipykernel)",
   "language": "python",
   "name": "python3"
  },
  "language_info": {
   "codemirror_mode": {
    "name": "ipython",
    "version": 3
   },
   "file_extension": ".py",
   "mimetype": "text/x-python",
   "name": "python",
   "nbconvert_exporter": "python",
   "pygments_lexer": "ipython3",
   "version": "3.12.7"
  }
 },
 "nbformat": 4,
 "nbformat_minor": 5
}
