{
 "cells": [
  {
   "cell_type": "markdown",
   "id": "c83d6e48-30d7-403a-8bdc-161fd2dec0c3",
   "metadata": {},
   "source": [
    "# Exercises"
   ]
  },
  {
   "cell_type": "markdown",
   "id": "9075b4fc-34a4-43d5-aa26-74c247d4d3cd",
   "metadata": {},
   "source": [
    "### Exercise 1\n",
    "Create a dictionary called tree with the following key-value pairs:\n",
    "- tree_type – Pepper-bark tree\n",
    "- age – 15\n",
    "- family – Canellaceae\n",
    "Print the value associated with the key age.\n",
    "``` python \n",
    "# insert code here\n",
    "```\n",
    "When we created this dictionary in the first step, we accidentally left out one of the information categories, namely 'kingdom'. Fortunately, dictionaries are mutable, and we can add a new key-value pair to the dictionary: kingdom – Plantae. Do this in the code cell below.\n",
    "``` python \n",
    "# insert code here\n",
    "```\n",
    "We have found that people are no longer interested in one of the key-value pairs in our dictionary. Remove the family key-value pair from the dictionary.\n",
    "``` python \n",
    "# insert code here\n",
    "```\n",
    "Update the dictionary by changing the tree_type key to Wild Cinnamon.\n",
    "``` python \n",
    "# insert code here\n",
    "```\n",
    "Extract the keys and values from our tree dictionary, and store the values in two separate lists, key_list and value_list.\n",
    "``` python \n",
    "# insert code here\n",
    "```\n",
    "Extract the key-value pairs from our tree dictionary in tuples, and store the values in a single list, item_list."
   ]
  },
  {
   "cell_type": "code",
   "execution_count": 15,
   "id": "e1a200da-65f9-4556-ad68-b3da5bfb67f7",
   "metadata": {},
   "outputs": [
    {
     "name": "stdout",
     "output_type": "stream",
     "text": [
      "{'tree_type': 'Pepper-bark tree', 'age': 15, 'family': 'Canellaceae'}\n"
     ]
    }
   ],
   "source": [
    "tree = {'tree_type': 'Pepper-bark tree', 'age': 15, 'family': 'Canellaceae'}\n",
    "print(tree)"
   ]
  },
  {
   "cell_type": "code",
   "execution_count": 16,
   "id": "46bc9b84-884f-4c31-a392-94002e15d58d",
   "metadata": {},
   "outputs": [
    {
     "name": "stdout",
     "output_type": "stream",
     "text": [
      "15\n"
     ]
    }
   ],
   "source": [
    "print(tree['age'])"
   ]
  },
  {
   "cell_type": "code",
   "execution_count": 17,
   "id": "5bc2a050-d8bd-413d-8793-dd8b9d961a7a",
   "metadata": {},
   "outputs": [
    {
     "name": "stdout",
     "output_type": "stream",
     "text": [
      "{'tree_type': 'Pepper-bark tree', 'age': 15, 'family': 'Canellaceae', 'kingdom': 'Plantae'}\n"
     ]
    }
   ],
   "source": [
    "tree['kingdom'] = 'Plantae'\n",
    "print(tree)"
   ]
  },
  {
   "cell_type": "code",
   "execution_count": 18,
   "id": "8009ddb8-0b3a-4a16-bfef-41692d9f5691",
   "metadata": {},
   "outputs": [
    {
     "name": "stdout",
     "output_type": "stream",
     "text": [
      "{'tree_type': 'Pepper-bark tree', 'age': 15, 'kingdom': 'Plantae'}\n"
     ]
    }
   ],
   "source": [
    "del tree['family']\n",
    "print(tree)"
   ]
  },
  {
   "cell_type": "code",
   "execution_count": 21,
   "id": "f6ae607d-f3ef-48ef-ba5d-f9610626b366",
   "metadata": {},
   "outputs": [
    {
     "name": "stdout",
     "output_type": "stream",
     "text": [
      "{'tree_type': 'Wild Cinnamon', 'age': 15, 'kingdom': 'Plantae'}\n"
     ]
    }
   ],
   "source": [
    "tree[\"tree_type\"] = \"Wild Cinnamon\"\n",
    "print(tree)"
   ]
  },
  {
   "cell_type": "code",
   "execution_count": 24,
   "id": "6e25e1e3-2dd3-4879-8868-d73ca577d08e",
   "metadata": {},
   "outputs": [
    {
     "name": "stdout",
     "output_type": "stream",
     "text": [
      "['tree_type', 'age', 'kingdom']\n",
      "['Wild Cinnamon', 15, 'Plantae']\n"
     ]
    }
   ],
   "source": [
    "key_list = tree.keys()\n",
    "value_list = tree.values()\n",
    "print(list(key_list))\n",
    "print(list(value_list))"
   ]
  },
  {
   "cell_type": "code",
   "execution_count": 25,
   "id": "64506851-b3b5-4171-88a2-64d368707c52",
   "metadata": {},
   "outputs": [
    {
     "name": "stdout",
     "output_type": "stream",
     "text": [
      "[('tree_type', 'Wild Cinnamon'), ('age', 15), ('kingdom', 'Plantae')]\n"
     ]
    }
   ],
   "source": [
    "item_list = tree.items()\n",
    "print(list(item_list))"
   ]
  },
  {
   "cell_type": "markdown",
   "id": "a37b25e2-bdd1-4cc4-acbf-c616836ca87f",
   "metadata": {},
   "source": [
    "### Exercise 2\n",
    "We have been provided with a basic nested dictionary containing African tree species. We have just received more detailed information on these trees and need to add it to this nested dictionary. Use the code provided as a starting point, adding in the extra information where required.\n",
    "\n",
    "``` python\n",
    "# basic dictionary provided \n",
    "african_trees = {\n",
    "    \"Baobab\": {\n",
    "        \"common_name\": \"Baobab\",\n",
    "        \"scientific_name\": \"Adansonia\",\n",
    "    },\n",
    "    \"Acacia\": {\n",
    "        \"common_name\": \"Acacia\",\n",
    "        \"scientific_name\": \"Acacia\",\n",
    "    }\n",
    "}\n",
    "print(african_trees)\n",
    "```\n",
    "New information\n",
    "\n",
    "Baobab:\n",
    "\n",
    "- country – Zimbabwe\n",
    "- average_height – 25\n",
    "\n",
    "Acacia:\n",
    "\n",
    "- country – South Africa\n",
    "- average_height – 15\n",
    "\n",
    "Hint:\n",
    "\n",
    "- Print the dictionary to view the current structure.\n",
    "- Use the keys to access the Baobab and Acacia dictionaries and append the additional information.\n",
    "- The new keys will be country and average_height.\n",
    "\n",
    "``` python\n",
    "# insert code here\n",
    "```"
   ]
  },
  {
   "cell_type": "code",
   "execution_count": 26,
   "id": "a6b5dbaf-3de8-458e-9234-f25426e38aeb",
   "metadata": {},
   "outputs": [
    {
     "name": "stdout",
     "output_type": "stream",
     "text": [
      "{'Baobab': {'common_name': 'Baobab', 'scientific_name': 'Adansonia'}, 'Acacia': {'common_name': 'Acacia', 'scientific_name': 'Acacia'}}\n"
     ]
    }
   ],
   "source": [
    "# basic dictionary provided \n",
    "african_trees = {\n",
    "    \"Baobab\": {\n",
    "        \"common_name\": \"Baobab\",\n",
    "        \"scientific_name\": \"Adansonia\",\n",
    "    },\n",
    "    \"Acacia\": {\n",
    "        \"common_name\": \"Acacia\",\n",
    "        \"scientific_name\": \"Acacia\",\n",
    "    }\n",
    "}\n",
    "print(african_trees)"
   ]
  },
  {
   "cell_type": "code",
   "execution_count": 28,
   "id": "81fb8490-97e1-45c7-bc54-b4b9b0433126",
   "metadata": {},
   "outputs": [
    {
     "name": "stdout",
     "output_type": "stream",
     "text": [
      "{'Baobab': {'common_name': 'Baobab', 'scientific_name': 'Adansonia', 'country': 'Zimbabwe', 'average_height ': 25}, 'Acacia': {'common_name': 'Acacia', 'scientific_name': 'Acacia', 'country': 'South Africa', 'average_height ': 15}}\n"
     ]
    }
   ],
   "source": [
    "african_trees['Baobab']['country'] = 'Zimbabwe'\n",
    "african_trees['Baobab']['average_height '] = 25\n",
    "\n",
    "african_trees['Acacia']['country'] = 'South Africa'\n",
    "african_trees['Acacia']['average_height '] = 15\n",
    "\n",
    "print(african_trees)"
   ]
  }
 ],
 "metadata": {
  "kernelspec": {
   "display_name": "Python 3 (ipykernel)",
   "language": "python",
   "name": "python3"
  },
  "language_info": {
   "codemirror_mode": {
    "name": "ipython",
    "version": 3
   },
   "file_extension": ".py",
   "mimetype": "text/x-python",
   "name": "python",
   "nbconvert_exporter": "python",
   "pygments_lexer": "ipython3",
   "version": "3.12.7"
  }
 },
 "nbformat": 4,
 "nbformat_minor": 5
}
