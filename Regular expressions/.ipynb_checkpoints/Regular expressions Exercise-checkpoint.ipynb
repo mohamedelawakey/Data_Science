{
 "cells": [
  {
   "cell_type": "markdown",
   "id": "d8a06fdc-7607-4600-b390-6a8e1b6119b6",
   "metadata": {},
   "source": [
    "# Exercises"
   ]
  },
  {
   "cell_type": "code",
   "execution_count": 10,
   "id": "ddac6dde-3cd3-4822-a919-bf26c6e344ff",
   "metadata": {},
   "outputs": [],
   "source": [
    "import re"
   ]
  },
  {
   "cell_type": "markdown",
   "id": "6d777660-d3e8-4612-b761-aafcac63d5fa",
   "metadata": {},
   "source": [
    "You have been tasked with a data science project where the goal is to analyse social media posts related to forest conservation. The project involves extracting specific information from the compilation of social media posts below."
   ]
  },
  {
   "cell_type": "code",
   "execution_count": 11,
   "id": "a96e2c24-3e3a-48b1-b65d-f250c460206a",
   "metadata": {},
   "outputs": [],
   "source": [
    "social_media_posts = \"\"\"\n",
    "Great news! The GreenWood Project has successfully planted 10000 trees in the Amazon Rainforest #GreenEarth #Conservation\n",
    "Update: ForestCoverApp shows a 12% increase in forest cover in the last 5 years. #TechForGood\n",
    "Sad to see illegal logging in Madagascan rainforests. We need stricter laws! #SaveForests #ActNow\n",
    "Celebrating World Environment Day with a pledge to plant 20000 trees. Join us! #EnvironmentDay #GoGreen\n",
    "Interesting study published in NatureJournal: Rainforest biodiversity is crucial for ecological balance. #ScienceForNature\n",
    "\"\"\""
   ]
  },
  {
   "cell_type": "markdown",
   "id": "06c7bd03-123e-4f97-b5dc-26d20d8f8c17",
   "metadata": {},
   "source": [
    "### Exercise 1\n",
    "**Scenario**: Your first task is to analyse the hashtags used in these posts, as they can give insights into popular environmental campaigns.\n",
    "\n",
    "**Exercise**: Write a Python function called extract_hashtags to extract all unique hashtags from the social media posts.\n",
    "```python\n",
    "# insert code here\n",
    "\n",
    "# Test with the provided text\n",
    "print(extract_hashtags(social_media_posts))\n",
    "```"
   ]
  },
  {
   "cell_type": "code",
   "execution_count": 13,
   "id": "63b6e11d-f54b-4191-a035-b05bc04b6bb8",
   "metadata": {},
   "outputs": [
    {
     "name": "stdout",
     "output_type": "stream",
     "text": [
      "{'#Conservation', '#ActNow', '#ScienceForNature', '#EnvironmentDay', '#SaveForests', '#TechForGood', '#GoGreen', '#GreenEarth'}\n"
     ]
    }
   ],
   "source": [
    "# insert code here\n",
    "def extract_hashtags(text):\n",
    "    pattern = r'#\\w+'\n",
    "    hashtags = re.findall(pattern, text)\n",
    "    return set(hashtags)\n",
    "\n",
    "# Test with the provided text\n",
    "print(extract_hashtags(social_media_posts))"
   ]
  },
  {
   "cell_type": "markdown",
   "id": "876c46e4-1c9b-425c-92a2-1e222b683b78",
   "metadata": {},
   "source": [
    "### Exercise 2\n",
    "**Scenario**: You want to quantify the impact of these conservation efforts. For this, extracting numerical data from the posts will be helpful.\n",
    "\n",
    "**Exercise**: Write a Python function called extract_numbers to find all numbers mentioned in the posts.\n",
    "```python\n",
    "# insert code here\n",
    "\n",
    "# Test with the provided text\n",
    "print(extract_numbers(social_media_posts))\n",
    "```"
   ]
  },
  {
   "cell_type": "code",
   "execution_count": 16,
   "id": "20c80d9e-02dc-4182-8442-a31ded04226d",
   "metadata": {},
   "outputs": [
    {
     "name": "stdout",
     "output_type": "stream",
     "text": [
      "['10000', '12', '5', '20000']\n"
     ]
    }
   ],
   "source": [
    "# insert code here\n",
    "def extract_numbers(text):\n",
    "    pattern = r'\\b\\d+\\b'\n",
    "    numbers = re.findall(pattern, text)\n",
    "    return numbers\n",
    "\n",
    "# Test with the provided text\n",
    "print(extract_numbers(social_media_posts))"
   ]
  },
  {
   "cell_type": "markdown",
   "id": "407ecf7d-0627-4366-a934-f8f15212dee9",
   "metadata": {},
   "source": [
    "### Exercise 3\n",
    "**Scenario**: To understand public sentiment, you need to count how often words related to negative impacts (like \"illegal\", \"logging\") appear.\n",
    "\n",
    "**Exercise**: Write a function called count_specific_words to count the occurrences of the words \"illegal\" and \"logging\" in the posts.\n",
    "```python\n",
    "# insert code here\n",
    "\n",
    "# Test with the provided text\n",
    "print(count_specific_words(social_media_posts))\n",
    "```"
   ]
  },
  {
   "cell_type": "code",
   "execution_count": 20,
   "id": "e9aa40f2-ce77-4c8e-b39f-1d36b5eb3834",
   "metadata": {},
   "outputs": [
    {
     "name": "stdout",
     "output_type": "stream",
     "text": [
      "2\n"
     ]
    }
   ],
   "source": [
    "# insert code here\n",
    "def count_specific_words(text):\n",
    "    pattern = r'\\billegal\\b|\\blogging\\b'\n",
    "    return len(re.findall(pattern, text))\n",
    "\n",
    "# Test with the provided text\n",
    "print(count_specific_words(social_media_posts))"
   ]
  },
  {
   "cell_type": "markdown",
   "id": "61ff4d7b-a965-4b16-899f-ea57a0ff17fa",
   "metadata": {},
   "source": [
    "### Exercise 4\n",
    "**Scenario**: For geographical analysis, you need to extract mentioned locations such as \"Amazon Rainforest\" and \"Madagascan rainforests\".\n",
    "\n",
    "**Exercise**: Write a function to extract proper names that refer to locations.\n",
    "```python\n",
    "# insert code here\n",
    "\n",
    "# Test with the provided text\n",
    "print(extract_locations(social_media_posts))\n",
    "```"
   ]
  },
  {
   "cell_type": "code",
   "execution_count": 21,
   "id": "19006f1c-559d-4f4f-944f-e6c53b3d11d0",
   "metadata": {},
   "outputs": [
    {
     "name": "stdout",
     "output_type": "stream",
     "text": [
      "['Amazon Rainforest', 'Madagascan rainforests']\n"
     ]
    }
   ],
   "source": [
    "# insert code here\n",
    "def extract_locations(text):\n",
    "    pattern = r'\\b[A-Z][a-z]+(?:\\s[A-Z][a-z]+)*(?:\\s[rR]ainforests?)?\\b'\n",
    "    potential_locations = re.findall(pattern, text)\n",
    "    locations = [loc for loc in potential_locations if not loc.endswith(':') and 'rainforest' in loc.lower() and loc != 'Rainforest']\n",
    "    return locations\n",
    "    \n",
    "# Test with the provided text\n",
    "print(extract_locations(social_media_posts))"
   ]
  }
 ],
 "metadata": {
  "kernelspec": {
   "display_name": "Python 3 (ipykernel)",
   "language": "python",
   "name": "python3"
  },
  "language_info": {
   "codemirror_mode": {
    "name": "ipython",
    "version": 3
   },
   "file_extension": ".py",
   "mimetype": "text/x-python",
   "name": "python",
   "nbconvert_exporter": "python",
   "pygments_lexer": "ipython3",
   "version": "3.12.7"
  }
 },
 "nbformat": 4,
 "nbformat_minor": 5
}
