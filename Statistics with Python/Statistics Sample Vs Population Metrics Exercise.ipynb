{
 "cells": [
  {
   "cell_type": "markdown",
   "id": "c2b4d20d-d0c7-4c1b-9a31-e0b73c0a53c3",
   "metadata": {},
   "source": [
    "# Exercises"
   ]
  },
  {
   "cell_type": "markdown",
   "id": "9bbc5da6-8462-4e41-b2b3-58d8691617d0",
   "metadata": {},
   "source": [
    "Suppose we are data scientists working for an environmental organisation. Our task is to analyse data related to forest areas across different regions to help formulate conservation strategies. The dataset includes forest areas (in square kilometres) from over 1,000 regions worldwide."
   ]
  },
  {
   "cell_type": "markdown",
   "id": "db47dc76-26d0-4704-b9d8-710f1b99f62e",
   "metadata": {},
   "source": [
    "### Exercise 1\n",
    "We are working with a dataset that contains information about different species found in national parks around the world. The dataset includes data on the number of individual animals of each species found in these parks.\n",
    "\n",
    "Task: Calculate the population mean (population_mean) and variance (population_variance) of the species count.\n",
    "```python\n",
    "import pandas as pd\n",
    "import numpy as np\n",
    "\n",
    "# Generating random data. Fixed seed for reproducibility\n",
    "np.random.seed(0)\n",
    "forest_areas = np.random.randint(500, 10000, size=1000)  # Forest areas in sq km\n",
    "regions = ['Region' + str(i) for i in range(1, 1001)]\n",
    "\n",
    "# Creating a dictionary\n",
    "data = {'Region': regions, 'Forest_Area': forest_areas}\n",
    "\n",
    "# Converting to a pandas DataFrame\n",
    "df = pd.DataFrame(data)\n",
    "\n",
    "# insert code here\n",
    "```"
   ]
  },
  {
   "cell_type": "code",
   "execution_count": 25,
   "id": "189c4ff2-a334-4aab-b716-801ace89e4e2",
   "metadata": {},
   "outputs": [
    {
     "name": "stdout",
     "output_type": "stream",
     "text": [
      "Population Mean: 5378.98\n",
      "Population Variance: 7517438.4416000135\n"
     ]
    }
   ],
   "source": [
    "import pandas as pd\n",
    "import numpy as np\n",
    "\n",
    "# Generating random data. Fixed seed for reproducibility\n",
    "np.random.seed(0)\n",
    "forest_areas = np.random.randint(500, 10000, size=1000)  # Forest areas in sq km\n",
    "regions = ['Region' + str(i) for i in range(1, 1001)]\n",
    "\n",
    "# Creating a dictionary\n",
    "data = {'Region': regions, 'Forest_Area': forest_areas}\n",
    "\n",
    "# Converting to a pandas DataFrame\n",
    "df = pd.DataFrame(data)\n",
    "\n",
    "# insert code here\n",
    "population_mean = df['Forest_Area'].mean()\n",
    "population_variance = df['Forest_Area'].var(ddof=0)\n",
    "\n",
    "print(\"Population Mean:\", population_mean)\n",
    "print(\"Population Variance:\", population_variance)"
   ]
  },
  {
   "cell_type": "markdown",
   "id": "28007b86-1675-41e8-a9d4-1b3718836631",
   "metadata": {},
   "source": [
    "### Exercise 2\n",
    "Select a random sample of 30 regions from the dataset and calculate sample mean and variance. Compare these with population metrics.\n",
    "```python\n",
    "# insert code here\n",
    "```"
   ]
  },
  {
   "cell_type": "code",
   "execution_count": 33,
   "id": "f82ce229-9f79-481d-8a09-e340164eabf2",
   "metadata": {},
   "outputs": [
    {
     "name": "stdout",
     "output_type": "stream",
     "text": [
      "Sample mean: 203.63\n",
      "Sample variance: 5368974.254022988\n",
      "\n",
      "Comparison:\n",
      "Difference in means: 5175.349999999999\n",
      "Difference in variances: 2148464.187577026\n"
     ]
    }
   ],
   "source": [
    "# insert code here\n",
    "sample = df.sample(30)\n",
    "ample_mean = sample['Forest_Area'].mean()\n",
    "sample_variance = sample['Forest_Area'].var(ddof=1)\n",
    "\n",
    "print(\"Sample mean:\", sample_mean)\n",
    "print(\"Sample variance:\", sample_variance)\n",
    "\n",
    "print(\"\\nComparison:\")\n",
    "print(\"Difference in means:\", population_mean - sample_mean)\n",
    "print(\"Difference in variances:\", population_variance - sample_variance)"
   ]
  },
  {
   "cell_type": "markdown",
   "id": "3616566d-e228-4f1d-be1f-6f234990e37e",
   "metadata": {},
   "source": [
    "### Exercise 3\n",
    "Demonstrate the central limit theorem (CLT) by plotting the distribution of sample means.\n",
    "```python\n",
    "# insert code here\n",
    "```"
   ]
  },
  {
   "cell_type": "code",
   "execution_count": 34,
   "id": "202641c8-1c52-426e-8274-0c50d49601b8",
   "metadata": {},
   "outputs": [
    {
     "data": {
      "image/png": "[encoded data removed]",
      "text/plain": [
       "<Figure size 640x480 with 1 Axes>"
      ]
     },
     "metadata": {},
     "output_type": "display_data"
    }
   ],
   "source": [
    "import matplotlib.pyplot as plt\n",
    "\n",
    "sample_means = [df['Forest_Area'].sample(30).mean() for _ in range(100)]\n",
    "\n",
    "plt.hist(sample_means, bins=10, edgecolor='black')\n",
    "plt.xlabel('Sample Mean')\n",
    "plt.ylabel('Frequency')\n",
    "plt.title('Distribution of Sample Means')\n",
    "plt.show()"
   ]
  },
  {
   "cell_type": "markdown",
   "id": "c096fdb3-4796-4e3f-9b01-49b0be4a5fc5",
   "metadata": {},
   "source": [
    "### Exercise 4\n",
    "Calculate a 95% confidence interval for the mean of a sample.\n",
    "```python\n",
    "# insert code here\n",
    "```"
   ]
  },
  {
   "cell_type": "code",
   "execution_count": 35,
   "id": "0410f8f4-54b4-4b09-b8b1-188feb1c03e1",
   "metadata": {},
   "outputs": [
    {
     "name": "stdout",
     "output_type": "stream",
     "text": [
      "95% Confidence Interval: (4942.212213744986, 6672.654452921681)\n"
     ]
    }
   ],
   "source": [
    "import scipy.stats as stats\n",
    "\n",
    "sample_data = sample['Forest_Area']\n",
    "\n",
    "mean = np.mean(sample_data)\n",
    "standard_error = stats.sem(sample_data)\n",
    "confidence_level = 0.95\n",
    "degrees_freedom = len(sample_data) - 1\n",
    "confidence_interval = stats.t.interval(confidence_level, degrees_freedom, mean, standard_error)\n",
    "\n",
    "print(\"95% Confidence Interval:\", confidence_interval)"
   ]
  }
 ],
 "metadata": {
  "kernelspec": {
   "display_name": "Python 3 (ipykernel)",
   "language": "python",
   "name": "python3"
  },
  "language_info": {
   "codemirror_mode": {
    "name": "ipython",
    "version": 3
   },
   "file_extension": ".py",
   "mimetype": "text/x-python",
   "name": "python",
   "nbconvert_exporter": "python",
   "pygments_lexer": "ipython3",
   "version": "3.12.7"
  }
 },
 "nbformat": 4,
 "nbformat_minor": 5
}
