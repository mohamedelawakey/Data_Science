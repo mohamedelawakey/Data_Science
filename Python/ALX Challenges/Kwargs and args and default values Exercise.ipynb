{
 "cells": [
  {
   "cell_type": "markdown",
   "id": "c20a8f78-ac6e-4d50-af8c-f47b7b375fc8",
   "metadata": {},
   "source": [
    "# Exercises"
   ]
  },
  {
   "cell_type": "markdown",
   "id": "2a079685-40d2-426c-aafc-9b7c56a89a10",
   "metadata": {},
   "source": [
    "### Exercise 1\n",
    "Write a Python function called calculate_forest_area that takes two parameters: trees and area_per_tree. The function should calculate and return the total area covered by the given number of trees. By default, assume that each tree covers 10 square metres of land. Additionally, the function should accept an optional parameter, deforestation_factor, with a default value of 0.2. This factor represents the percentage of the total area that has been deforested. The function should return the net forest area after considering deforestation.\n",
    "\n",
    "```python\n",
    "# Your code here...\n",
    "```\n",
    "\n",
    "Use the above function to calculate the area of a forest with 50 trees, assuming each tree covers 5 square metres, with a deforestation factor of 0.3. Print the result.\n",
    "\n",
    "```python\n",
    "# Your code here...\n",
    "```"
   ]
  },
  {
   "cell_type": "code",
   "execution_count": 4,
   "id": "e4980ea1-81fd-48cf-b0b3-3d08ea5ccfd5",
   "metadata": {},
   "outputs": [],
   "source": [
    "def calculate_forest_area(trees, area_per_tree = 10, deforestation_factor = 0.2):\n",
    "    \"\"\"\n",
    "    Calculate the net forest area after considering deforestation.\n",
    "\n",
    "    Parameters:\n",
    "    - trees (int): The number of trees.\n",
    "    - area_per_tree (int, optional): Area covered by each tree. Default is 10 square metres.\n",
    "    - deforestation_factor (float, optional): Percentage of total area deforested. Default is 0.2.\n",
    "\n",
    "    Returns:\n",
    "    float: The net forest area.\n",
    "    \"\"\"\n",
    "    total_area = trees * area_per_tree\n",
    "    net_area = total_area * (1 - deforestation_factor)\n",
    "    return net_area"
   ]
  },
  {
   "cell_type": "code",
   "execution_count": 5,
   "id": "b38cdaa1-e707-4e3b-82f8-c14d74c1b583",
   "metadata": {},
   "outputs": [
    {
     "data": {
      "text/plain": [
       "175.0"
      ]
     },
     "execution_count": 5,
     "metadata": {},
     "output_type": "execute_result"
    }
   ],
   "source": [
    "calculate_forest_area(50, 5, 0.3 )"
   ]
  },
  {
   "cell_type": "markdown",
   "id": "459c1611-e6c5-485c-939b-9028efdb89c5",
   "metadata": {},
   "source": [
    "### Exercise 2\n",
    "Create a function named tree_planting_campaign to track the progress of tree planting campaigns. The function should take two parameters: initial_trees, representing the current number of trees and trees_per_campaign, representing the number of trees planted in each additional campaign. The user should be able to enter the number of trees planted for a variable number of campaigns based on the actual campaigns that occurred. The function should return the total number of trees after the campaigns.\n",
    "\n",
    "Hints:\n",
    "\n",
    "- Define the function tree_planting_campaign with parameters initial_trees and an *args parameter named trees_per_campaign.\n",
    "- Create a variable total_trees with the value of initial_trees.\n",
    "- Iterate through *trees_per_campaign and add each value to total_trees.\n",
    "- Return the final value of total_trees.\n",
    "\n",
    "```python\n",
    "# Your code here...\n",
    "```\n",
    "\n",
    "Use the above function to track and print the progress of a few tree planting campaigns. The forest started with 100 trees. In subsequent campaigns, the first campaign produced 20 additional trees, the second 30, and the third 50 trees.\n",
    "\n",
    "```python\n",
    "# Your code here...\n",
    "```"
   ]
  },
  {
   "cell_type": "code",
   "execution_count": 9,
   "id": "de1812cf-c846-471b-8141-d901c737fb40",
   "metadata": {},
   "outputs": [],
   "source": [
    "def tree_planting_campaign(initial_trees, *trees_per_campaign):\n",
    "    \"\"\"\n",
    "    Track the progress of a tree planting campaign.\n",
    "\n",
    "    Parameters:\n",
    "    - initial_trees (int): Current number of trees.\n",
    "    - *trees_per_campaign (int): Number of trees planted in each additional campaign.\n",
    "\n",
    "    Returns:\n",
    "    int: Total number of trees after the campaign.\n",
    "    \"\"\"\n",
    "    \n",
    "    total_trees = initial_trees\n",
    "    for trees_planted in trees_per_campaign:\n",
    "        total_trees += trees_planted\n",
    "    return total_trees"
   ]
  },
  {
   "cell_type": "code",
   "execution_count": 10,
   "id": "e6b27948-048d-46a6-8379-ccc69c145cf6",
   "metadata": {},
   "outputs": [
    {
     "data": {
      "text/plain": [
       "200"
      ]
     },
     "execution_count": 10,
     "metadata": {},
     "output_type": "execute_result"
    }
   ],
   "source": [
    "tree_planting_campaign(100, 20, 30, 50)"
   ]
  },
  {
   "cell_type": "markdown",
   "id": "65ad276f-edc5-467e-b41d-54f42ec7c9da",
   "metadata": {},
   "source": [
    "### Exercise 3\n",
    "Create a function named deforestation_impact_report to generate a report on the impact of deforestation. The function should allow the user to enter a variable number of impacts and their values representing different aspects of deforestation, such as \"loss_of_biodiversity,\" \"carbon_emission,\" etc. The function should print a labelled list of the provided impact aspects and their corresponding values.\n",
    "\n",
    "Hints:\n",
    "\n",
    "- Define the function deforestation_impact_report with impact_value as a **kwargs parameter.\n",
    "- Iterate through **impact_value and print a labelled list for each aspect and its value.\n",
    "\n",
    "```python\n",
    "# Your code here...\n",
    "```\n",
    "\n",
    "Create a report on the impact of deforestation using the above function, noting a 30% loss of biodiversity, a carbon emission of 500 units, and soil erosion of 20 units.\n",
    "\n",
    "```python\n",
    "# Your code here...\n",
    "```"
   ]
  },
  {
   "cell_type": "code",
   "execution_count": 11,
   "id": "eb2b8f29-fd70-4fad-880f-877a567e8c81",
   "metadata": {},
   "outputs": [],
   "source": [
    "def deforestation_impact_report(**impact_value):\n",
    "    for x in impact_value:\n",
    "        print(x,':', impact_value[x])"
   ]
  },
  {
   "cell_type": "code",
   "execution_count": 12,
   "id": "5043ae2f-71e9-429d-9e70-0d7995651c2f",
   "metadata": {},
   "outputs": [
    {
     "name": "stdout",
     "output_type": "stream",
     "text": [
      "loss_of_biodiversity : 30\n",
      "carbon_emission : 500\n",
      "soil_erosion : 20\n"
     ]
    }
   ],
   "source": [
    "deforestation_impact_report(\n",
    "    loss_of_biodiversity=30,\n",
    "    carbon_emission=500,\n",
    "    soil_erosion=20\n",
    ")"
   ]
  }
 ],
 "metadata": {
  "kernelspec": {
   "display_name": "Python 3 (ipykernel)",
   "language": "python",
   "name": "python3"
  },
  "language_info": {
   "codemirror_mode": {
    "name": "ipython",
    "version": 3
   },
   "file_extension": ".py",
   "mimetype": "text/x-python",
   "name": "python",
   "nbconvert_exporter": "python",
   "pygments_lexer": "ipython3",
   "version": "3.12.7"
  }
 },
 "nbformat": 4,
 "nbformat_minor": 5
}
