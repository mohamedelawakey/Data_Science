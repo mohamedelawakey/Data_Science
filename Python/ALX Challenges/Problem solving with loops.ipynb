{
 "cells": [
  {
   "cell_type": "markdown",
   "id": "d5a960b7-58c0-43ce-a70a-4f229e3b0ae8",
   "metadata": {},
   "source": [
    "# Exercises"
   ]
  },
  {
   "cell_type": "markdown",
   "id": "1d48ac09-a3f0-4923-821b-b744a503e019",
   "metadata": {},
   "source": [
    "### Exercise 1: Ocean cleanup analysis\n",
    "Instructions: Rearrange the code blocks to create a program that calculates the total amount of waste collected in an ocean cleanup campaign over a week. Each day's collection is stored in a list.\n",
    "```python\n",
    "total_waste_collected = 0\n",
    "for daily_collection in weekly_collection:\n",
    "print(f\"Total waste collected over the week: {total_waste_collected} kg\")\n",
    "weekly_collection = [340, 220, 455, 300, 385, 520, 410]\n",
    "total_waste_collected += daily_collection\n",
    "```\n",
    "Rearranged code:\n",
    "```python\n",
    "# Insert your code here\n",
    "```\n",
    "**Expected result:** Total waste collected over the week: 2630 kg"
   ]
  },
  {
   "cell_type": "code",
   "execution_count": 5,
   "id": "a4c37178-1221-4481-9564-bf25c739ac43",
   "metadata": {},
   "outputs": [
    {
     "name": "stdout",
     "output_type": "stream",
     "text": [
      "Total waste collected over the week: 2630 kg\n"
     ]
    }
   ],
   "source": [
    "weekly_collection = [340, 220, 455, 300, 385, 520, 410]\n",
    "total_waste_collected = 0\n",
    "for daily_collection in weekly_collection:\n",
    "    total_waste_collected += daily_collection\n",
    "print(f\"Total waste collected over the week: {total_waste_collected} kg\")"
   ]
  },
  {
   "cell_type": "markdown",
   "id": "af73d32d-f239-4579-9f62-c221582cf223",
   "metadata": {},
   "source": [
    "### Exercise 2: Endangered species monitoring\n",
    "Instructions: Rearrange the code to create a program that tracks sightings of endangered species over a month, stopping if a certain species is spotted.\n",
    "\n",
    "```python\n",
    "endangered_species = ['Tiger', 'Blue Whale', 'Mountain Gorilla']\n",
    "sightings = ['Deer', 'Tiger', 'Blue Whale', 'Mountain Gorilla', 'Elephant']\n",
    "for species in sightings:\n",
    "if species in endangered_species:\n",
    "print(f\"Endangered species spotted: {species}\")\n",
    "break\n",
    "```\n",
    "Rearranged code:\n",
    "```python\n",
    "# Insert your code here\n",
    "```\n",
    "Expected result: Endangered species spotted: Tiger"
   ]
  },
  {
   "cell_type": "code",
   "execution_count": 6,
   "id": "efa39168-60d8-4b5d-803c-cd379b666012",
   "metadata": {},
   "outputs": [
    {
     "name": "stdout",
     "output_type": "stream",
     "text": [
      "Endangered species spotted: Tiger\n"
     ]
    }
   ],
   "source": [
    "endangered_species = ['Tiger', 'Blue Whale', 'Mountain Gorilla']\n",
    "sightings = ['Deer', 'Tiger', 'Blue Whale', 'Mountain Gorilla', 'Elephant']\n",
    "for species in sightings:\n",
    "    if species in endangered_species:\n",
    "        break\n",
    "print(f\"Endangered species spotted: {species}\")"
   ]
  },
  {
   "cell_type": "markdown",
   "id": "0b86ea01-c260-4684-8843-a45d1a8d50b4",
   "metadata": {},
   "source": [
    "### Exercise 3: Forest growth monitoring\n",
    "Instructions: Rearrange the code blocks to create a program that simulates the growth of a forest over years until it reaches a specified threshold area. The forest growth is compounded annually.\n",
    "```python\n",
    "forest_area = 1000 # Initial forest area in square kilometres\n",
    "growth_rate = 1.05 # 5% annual growth\n",
    "while forest_area < 1500:\n",
    "print(f\"Forest area after {year} years: {forest_area:.2f} sq km\")\n",
    "forest_area *= growth_rate\n",
    "year = 0\n",
    "year += 1\n",
    "```\n",
    "Rearranged code:\n",
    "```python\n",
    "# Insert your code here\n",
    "```\n",
    "Expected result:\n",
    "\n",
    "Forest area after 1 years: 1050.00 sq km\n",
    "\n",
    "Forest area after 2 years: 1102.50 sq km\n",
    "\n",
    "Forest area after 3 years: 1157.62 sq km\n",
    "\n",
    "Forest area after 4 years: 1215.51 sq km\n",
    "\n",
    "Forest area after 5 years: 1276.28 sq km\n",
    "\n",
    "Forest area after 6 years: 1340.10 sq km\n",
    "\n",
    "Forest area after 7 years: 1407.10 sq km\n",
    "\n",
    "Forest area after 8 years: 1477.46 sq km\n",
    "\n",
    "Forest area after 9 years: 1551.33 sq km"
   ]
  },
  {
   "cell_type": "code",
   "execution_count": 9,
   "id": "11493c96-3b47-42f0-8eec-5bfac4b6731f",
   "metadata": {},
   "outputs": [
    {
     "name": "stdout",
     "output_type": "stream",
     "text": [
      "Forest area after 1 years: 1050.00 sq km\n",
      "\n",
      "Forest area after 2 years: 1102.50 sq km\n",
      "\n",
      "Forest area after 3 years: 1157.62 sq km\n",
      "\n",
      "Forest area after 4 years: 1215.51 sq km\n",
      "\n",
      "Forest area after 5 years: 1276.28 sq km\n",
      "\n",
      "Forest area after 6 years: 1340.10 sq km\n",
      "\n",
      "Forest area after 7 years: 1407.10 sq km\n",
      "\n",
      "Forest area after 8 years: 1477.46 sq km\n",
      "\n",
      "Forest area after 9 years: 1551.33 sq km\n",
      "\n"
     ]
    }
   ],
   "source": [
    "forest_area = 1000 # Initial forest area in square kilometres\n",
    "growth_rate = 1.05 # 5% annual growth\n",
    "year = 0\n",
    "while forest_area < 1500:\n",
    "    forest_area *= growth_rate\n",
    "    year += 1\n",
    "    print(f\"Forest area after {year} years: {forest_area:.2f} sq km\\n\")"
   ]
  }
 ],
 "metadata": {
  "kernelspec": {
   "display_name": "Python 3 (ipykernel)",
   "language": "python",
   "name": "python3"
  },
  "language_info": {
   "codemirror_mode": {
    "name": "ipython",
    "version": 3
   },
   "file_extension": ".py",
   "mimetype": "text/x-python",
   "name": "python",
   "nbconvert_exporter": "python",
   "pygments_lexer": "ipython3",
   "version": "3.12.7"
  }
 },
 "nbformat": 4,
 "nbformat_minor": 5
}
