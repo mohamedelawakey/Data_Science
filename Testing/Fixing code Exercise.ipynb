{
 "cells": [
  {
   "cell_type": "markdown",
   "id": "e043ff73-2f8d-4d7e-917a-cc6f56c8d232",
   "metadata": {},
   "source": [
    "# Exercises"
   ]
  },
  {
   "cell_type": "markdown",
   "id": "02de3a95-ffeb-4fe5-a1b6-973580ae36a9",
   "metadata": {},
   "source": [
    "### Exercise 1\n",
    "The following code defines a function to calculate the area of a rectangular piece of land. However, the function lacks input validation, leading to potential errors if negative values are provided for length or width.\n",
    "\n",
    "```python\n",
    "def calculate_habitat_area(length, width):\n",
    "    \"\"\"\n",
    "    Calculates the total area of a wildlife habitat given the lengths of its sides.\n",
    "\n",
    "    Args:\n",
    "        length (float): Length of the habitat.\n",
    "        width (float): Width of the habitat.\n",
    "\n",
    "    Returns:\n",
    "        float: Total area of the habitat.\n",
    "    \"\"\"\n",
    "    area = length * width\n",
    "    return area\n",
    "\n",
    "\n",
    "# Test the function with potentially invalid input\n",
    "length = -5\n",
    "width = 10\n",
    "area = calculate_habitat_area(length, width)\n",
    "print(f\"The habitat area is: {area}\")\n",
    "```\n",
    "\n",
    "Modify the code to include input validation and return an appropriate error message if invalid values are detected.\n",
    "\n",
    "```python\n",
    "# insert code here\n",
    "```"
   ]
  },
  {
   "cell_type": "code",
   "execution_count": 7,
   "id": "899d3179-8589-411a-9fab-459842666c64",
   "metadata": {},
   "outputs": [
    {
     "name": "stdout",
     "output_type": "stream",
     "text": [
      "The habitat area is: Invalid input: Length and width must be positive numbers.\n"
     ]
    }
   ],
   "source": [
    "def calculate_habitat_area(length, width):\n",
    "    \"\"\"\n",
    "    Calculates the total area of a wildlife habitat given the lengths of its sides.\n",
    "\n",
    "    Args:\n",
    "        length (float): Length of the habitat.\n",
    "        width (float): Width of the habitat.\n",
    "\n",
    "    Returns:\n",
    "        float: Total area of the habitat.\n",
    "    \"\"\"\n",
    "    if length <= 0 or width <= 0:\n",
    "        return \"Invalid input: Length and width must be positive numbers.\"\n",
    "    else:\n",
    "        return length * width\n",
    "\n",
    "\n",
    "# Test the function with potentially invalid input\n",
    "length = -5\n",
    "width = 10\n",
    "area = calculate_habitat_area(length, width)\n",
    "print(f\"The habitat area is: {area}\")"
   ]
  },
  {
   "cell_type": "markdown",
   "id": "d2f96ae4-20f3-4d46-9bf8-6b87c49232f7",
   "metadata": {},
   "source": [
    "### Exercise 2\n",
    "```python\n",
    "def get_element(data, index):\n",
    "    \"\"\"\n",
    "    Retrieves an element from the list based on the given index.\n",
    "\n",
    "    Parameters:\n",
    "    - data (list): The input list.\n",
    "    - index (int): The index of the element to retrieve.\n",
    "\n",
    "    Returns:\n",
    "    - int: The retrieved element.\n",
    "    \"\"\"\n",
    "    return data[index]\n",
    "\n",
    "# Test the function with a list and an invalid index\n",
    "values = [10, 20, 30, 40]\n",
    "result = get_element(values, 5)\n",
    "print(\"Result:\", result)\n",
    "```\n",
    "The original code attempts to access an element in a list without checking for a valid index range, potentially causing a list index error. The corrected code ensures safe list access with proper index validation and an error message."
   ]
  },
  {
   "cell_type": "code",
   "execution_count": 11,
   "id": "d65d23fc-ee67-462d-a1b4-8a5112b6b2d0",
   "metadata": {},
   "outputs": [
    {
     "name": "stdout",
     "output_type": "stream",
     "text": [
      "Result: Invalid index. Index should be between 0 and 3.\n"
     ]
    }
   ],
   "source": [
    "def get_element(data, index):\n",
    "    \"\"\"\n",
    "    Retrieves an element from the list based on the given index.\n",
    "\n",
    "    Parameters:\n",
    "    - data (list): The input list.\n",
    "    - index (int): The index of the element to retrieve.\n",
    "\n",
    "    Returns:\n",
    "    - int: The retrieved element.\n",
    "    \"\"\"\n",
    "    if 0 <= index < len(data):\n",
    "        return data[index]\n",
    "    else:\n",
    "        return f\"Invalid index. Index should be between 0 and {len(data)-1}.\"\n",
    "\n",
    "# Test the function with a list and an invalid index\n",
    "values = [10, 20, 30, 40]\n",
    "result = get_element(values, 5)\n",
    "print(\"Result:\", result)"
   ]
  },
  {
   "cell_type": "markdown",
   "id": "48583332-f668-454e-850a-d86a57ce0e23",
   "metadata": {},
   "source": [
    "### Exercise 3\n",
    "This function aims to count the number of unique species in a given list. However, there is an AttributeError preventing it from providing any results.\n",
    "```python\n",
    "def biodiversity_counter(species_list):\n",
    "    \"\"\"\n",
    "    Count the number of unique species in the given list.\n",
    "\n",
    "    Args:\n",
    "    - species_list (list): A list of species.\n",
    "\n",
    "    Returns:\n",
    "    - int: The number of unique species.\n",
    "    \"\"\"\n",
    "    unique_species = set()\n",
    "    for species in species_list:\n",
    "        unique_species.append(species)\n",
    "    return len(unique_species)\n",
    "\n",
    "\n",
    "# Test the function with example input\n",
    "species_list = ['Lion', 'Tiger', 'Bear', 'Lion', 'Elephant', 'Tiger']\n",
    "result = biodiversity_counter(species_list)\n",
    "print(result)  # This should print 4\n",
    "```\n",
    "Identify the issue and modify the code to ensure the function runs as intended.\n",
    "```python\n",
    "# insert code here\n",
    "```"
   ]
  },
  {
   "cell_type": "code",
   "execution_count": 12,
   "id": "6ce5e01d-845b-4ea9-a833-167e28b2d574",
   "metadata": {},
   "outputs": [
    {
     "name": "stdout",
     "output_type": "stream",
     "text": [
      "4\n"
     ]
    }
   ],
   "source": [
    "def biodiversity_counter(species_list):\n",
    "    \"\"\"\n",
    "    Count the number of unique species in the given list.\n",
    "\n",
    "    Args:\n",
    "    - species_list (list): A list of species.\n",
    "\n",
    "    Returns:\n",
    "    - int: The number of unique species.\n",
    "    \"\"\"\n",
    "    unique_species = set(species_list)\n",
    "    return len(unique_species)\n",
    "\n",
    "\n",
    "# Test the function with example input\n",
    "species_list = ['Lion', 'Tiger', 'Bear', 'Lion', 'Elephant', 'Tiger']\n",
    "result = biodiversity_counter(species_list)\n",
    "print(result)  # This should print 4"
   ]
  },
  {
   "cell_type": "markdown",
   "id": "3e9d6049-8db4-46e0-9365-e4d080c361e4",
   "metadata": {},
   "source": [
    "### Exercise 4\n",
    "This function is designed to identify whether a given species is invasive based on a predefined list. However, there is a fault in the code, preventing accurate detection.\n",
    "```python\n",
    "def is_species_invasive(species):\n",
    "    \"\"\"\n",
    "    Identifies whether a given species is invasive based on a predefined list.\n",
    "\n",
    "    Args:\n",
    "        species (str): The species to be checked.\n",
    "\n",
    "    Returns:\n",
    "        bool: True if the species is invasive, False otherwise.\n",
    "    \"\"\"\n",
    "    invasive_species = ['Mongoose', 'Kudzu', 'Cane Toad', 'European Starling']\n",
    "    return species in invasive_species\n",
    "\n",
    "# Test the function with example input\n",
    "species = 'mongoose'\n",
    "result = is_species_invasive(species)\n",
    "result\n",
    "```\n",
    "Based on the result of the function, find the error and fix it.\n",
    "```python\n",
    "# insert code here\n",
    "```"
   ]
  },
  {
   "cell_type": "code",
   "execution_count": 14,
   "id": "ea6f8c5b-e1f7-40e6-9058-18f8dbd6be3d",
   "metadata": {},
   "outputs": [
    {
     "data": {
      "text/plain": [
       "True"
      ]
     },
     "execution_count": 14,
     "metadata": {},
     "output_type": "execute_result"
    }
   ],
   "source": [
    "def is_species_invasive(species):\n",
    "    \"\"\"\n",
    "    Identifies whether a given species is invasive based on a predefined list.\n",
    "\n",
    "    Args:\n",
    "        species (str): The species to be checked.\n",
    "\n",
    "    Returns:\n",
    "        bool: True if the species is invasive, False otherwise.\n",
    "    \"\"\"\n",
    "    invasive_species = ['Mongoose', 'Kudzu', 'Cane Toad', 'European Starling']\n",
    "    return species.title() in invasive_species\n",
    "\n",
    "# Test the function with example input\n",
    "species = 'mongoose'\n",
    "result = is_species_invasive(species)\n",
    "result"
   ]
  },
  {
   "cell_type": "markdown",
   "id": "2dd3b68a-bc92-4803-b294-8f83a22e2c9e",
   "metadata": {},
   "source": [
    "### Exercise 5\n",
    "The following code represents a countdown to the launch of our eco_friendly campaign's online platform. However, a logical flaw is present. With input n, the expected functionality is to display a countdown from n to 'Eco-Friendly Blastoff!'.\n",
    "```python\n",
    "def eco_friendly_countdown(n):\n",
    "    \"\"\"\n",
    "    Function representing an eco-friendly countdown.\n",
    "\n",
    "    Parameters:\n",
    "    - n (int): The initial count value.\n",
    "\n",
    "    Returns:\n",
    "    - str: Message indicating the eco-friendly blastoff.\n",
    "    \"\"\"\n",
    "    while n > 0:\n",
    "        print(n)\n",
    "        n += 1\n",
    "    return \"Eco-Friendly Blastoff!\"\n",
    "\n",
    "# Uncomment the code below to see the result of the function. Hint! Interrupt the kernel to stop the loop.\n",
    "#result = eco_friendly_countdown(10)\n",
    "#result\n",
    "```\n",
    "Identify the issue and modify the code to ensure proper countdown termination.\n",
    "```python\n",
    "# insert code here\n",
    "```"
   ]
  },
  {
   "cell_type": "code",
   "execution_count": 17,
   "id": "d222eef5-6752-4bac-96d2-a5f57c69c97f",
   "metadata": {},
   "outputs": [
    {
     "name": "stdout",
     "output_type": "stream",
     "text": [
      "10\n",
      "9\n",
      "8\n",
      "7\n",
      "6\n",
      "5\n",
      "4\n",
      "3\n",
      "2\n",
      "1\n",
      "Blastoff!\n"
     ]
    }
   ],
   "source": [
    "def countdown(n):\n",
    "    \"\"\"\n",
    "    Function representing an eco-friendly countdown.\n",
    "\n",
    "    Parameters:\n",
    "    - n (int): The initial count value.\n",
    "\n",
    "    Returns:\n",
    "    - str: Message indicating the eco-friendly blastoff.\n",
    "    \"\"\"\n",
    "    while n > 0:\n",
    "        print(n)\n",
    "        n -= 1  # Correct increment\n",
    "    print(\"Blastoff!\")\n",
    "\n",
    "# Test the function with an initial value\n",
    "countdown(10)"
   ]
  }
 ],
 "metadata": {
  "kernelspec": {
   "display_name": "Python 3 (ipykernel)",
   "language": "python",
   "name": "python3"
  },
  "language_info": {
   "codemirror_mode": {
    "name": "ipython",
    "version": 3
   },
   "file_extension": ".py",
   "mimetype": "text/x-python",
   "name": "python",
   "nbconvert_exporter": "python",
   "pygments_lexer": "ipython3",
   "version": "3.12.7"
  }
 },
 "nbformat": 4,
 "nbformat_minor": 5
}
