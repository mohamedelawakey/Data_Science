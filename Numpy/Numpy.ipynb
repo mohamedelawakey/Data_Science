{
  "nbformat": 4,
  "nbformat_minor": 0,
  "metadata": {
    "colab": {
      "provenance": []
    },
    "kernelspec": {
      "name": "python3",
      "display_name": "Python 3"
    },
    "language_info": {
      "name": "python"
    }
  },
  "cells": [
    {
      "cell_type": "code",
      "execution_count": 1,
      "metadata": {
        "id": "SqA0qzkPI54C"
      },
      "outputs": [],
      "source": [
        "import numpy as np"
      ]
    },
    {
      "cell_type": "markdown",
      "source": [
        "# the difference between numpy and lists (numpy is very fast)"
      ],
      "metadata": {
        "id": "KK6IApIQLbQH"
      }
    },
    {
      "cell_type": "code",
      "source": [
        "my_arr = np.arange(1000000)\n",
        "my_list = list(range(1000000))\n",
        "\n",
        "%timeit my_arr2 = my_arr * 2"
      ],
      "metadata": {
        "colab": {
          "base_uri": "https://localhost:8080/"
        },
        "id": "av-g9gCpJLih",
        "outputId": "e7428c0b-9266-4947-a159-8318b2f4a074"
      },
      "execution_count": 2,
      "outputs": [
        {
          "output_type": "stream",
          "name": "stdout",
          "text": [
            "2.04 ms ± 745 µs per loop (mean ± std. dev. of 7 runs, 1000 loops each)\n"
          ]
        }
      ]
    },
    {
      "cell_type": "code",
      "source": [
        "%timeit my_list2 = [x * 2 for x in my_list]"
      ],
      "metadata": {
        "colab": {
          "base_uri": "https://localhost:8080/"
        },
        "id": "7aavLQ5MJZ8l",
        "outputId": "aa29e980-1b74-4ad4-c133-1cbd1c3de374"
      },
      "execution_count": 3,
      "outputs": [
        {
          "output_type": "stream",
          "name": "stdout",
          "text": [
            "71.6 ms ± 13.5 ms per loop (mean ± std. dev. of 7 runs, 10 loops each)\n"
          ]
        }
      ]
    },
    {
      "cell_type": "markdown",
      "source": [
        "# A Multidimensional Array Object"
      ],
      "metadata": {
        "id": "aGAPtrIEYMCI"
      }
    },
    {
      "cell_type": "code",
      "source": [
        "data = np.array([[1.5, -0.1, 3],[0, -3, 6.5]])\n",
        "\n",
        "print(data)\n",
        "print('-' * 30)\n",
        "print(data + data)\n",
        "print('-' * 30)\n",
        "print(data * 10)\n",
        "print('-' * 30)\n",
        "print(data.shape) # return the shape of the matrixe\n",
        "print('-' * 30)\n",
        "print(data.dtype) # return the type of the elements"
      ],
      "metadata": {
        "colab": {
          "base_uri": "https://localhost:8080/"
        },
        "id": "6Zhw2MtEJj3j",
        "outputId": "b854c773-26d5-484e-ae38-8c4de238d750"
      },
      "execution_count": 4,
      "outputs": [
        {
          "output_type": "stream",
          "name": "stdout",
          "text": [
            "[[ 1.5 -0.1  3. ]\n",
            " [ 0.  -3.   6.5]]\n",
            "------------------------------\n",
            "[[ 3.  -0.2  6. ]\n",
            " [ 0.  -6.  13. ]]\n",
            "------------------------------\n",
            "[[ 15.  -1.  30.]\n",
            " [  0. -30.  65.]]\n",
            "------------------------------\n",
            "(2, 3)\n",
            "------------------------------\n",
            "float64\n"
          ]
        }
      ]
    },
    {
      "cell_type": "markdown",
      "source": [
        "# Creating ndarrays"
      ],
      "metadata": {
        "id": "on6zmj0aY5NO"
      }
    },
    {
      "cell_type": "code",
      "source": [
        "d1 = [6, 7.5, 8, 0, 1]\n",
        "d2 = [[1, 2, 3, 4], [5, 6, 7, 8]]\n",
        "arr1 = np.array(d1)\n",
        "arr2 = np.array(d2)\n",
        "\n",
        "print(arr1)\n",
        "print('-' * 30)\n",
        "print(arr2)\n",
        "print('-' * 30)\n",
        "print(arr2.ndim) # return the number of dimentions\n",
        "print('-' * 30)\n",
        "print(arr2.shape) # return the shape of the matrixe\n",
        "print('-' * 30)\n",
        "print(arr1.dtype)\n",
        "print('-' * 30)\n",
        "print(arr2.dtype)\n",
        "print('-' * 30)\n",
        "print(np.zeros(10)) # return matrix from 10 elements\n",
        "print('-' * 30)\n",
        "print(np.zeros((3, 6))) # return matrix from 3 row and 6 columns\n",
        "print('-' * 30)\n",
        "print(np.empty(((2, 3, 2)))) # return 2 matrixes, 3 row and 2 columns\n",
        "print('-' * 30)\n",
        "print(np.arange(15)) # return numpy array instead of list\n",
        "print('-' * 30)"
      ],
      "metadata": {
        "colab": {
          "base_uri": "https://localhost:8080/"
        },
        "id": "u5QVmC9jXUqO",
        "outputId": "377754ff-0323-4ac5-eb6a-23d10438c3ca"
      },
      "execution_count": 5,
      "outputs": [
        {
          "output_type": "stream",
          "name": "stdout",
          "text": [
            "[6.  7.5 8.  0.  1. ]\n",
            "------------------------------\n",
            "[[1 2 3 4]\n",
            " [5 6 7 8]]\n",
            "------------------------------\n",
            "2\n",
            "------------------------------\n",
            "(2, 4)\n",
            "------------------------------\n",
            "float64\n",
            "------------------------------\n",
            "int64\n",
            "------------------------------\n",
            "[0. 0. 0. 0. 0. 0. 0. 0. 0. 0.]\n",
            "------------------------------\n",
            "[[0. 0. 0. 0. 0. 0.]\n",
            " [0. 0. 0. 0. 0. 0.]\n",
            " [0. 0. 0. 0. 0. 0.]]\n",
            "------------------------------\n",
            "[[[6.73760189e-310 0.00000000e+000]\n",
            "  [2.10077583e-312 6.79038654e-313]\n",
            "  [2.22809558e-312 2.14321575e-312]]\n",
            "\n",
            " [[2.35541533e-312 6.79038654e-313]\n",
            "  [2.22809558e-312 2.14321575e-312]\n",
            "  [2.46151512e-312 2.41907520e-312]]]\n",
            "------------------------------\n",
            "[ 0  1  2  3  4  5  6  7  8  9 10 11 12 13 14]\n",
            "------------------------------\n"
          ]
        }
      ]
    },
    {
      "cell_type": "markdown",
      "source": [
        "# Data Types for ndarrays & Casting"
      ],
      "metadata": {
        "id": "8Y6c62SBe_CW"
      }
    },
    {
      "cell_type": "code",
      "source": [
        "arr11 = np.array([1, 2, 3], dtype = np.float64) # determine the type of data\n",
        "arr22 = np.array([1, 2, 3], dtype = np.int32)\n",
        "a = np.array([1, 2, 3, 4, 5, 6])\n",
        "float_a = a.astype(np.float64) # convert from type to another\n",
        "\n",
        "print(arr11.dtype)\n",
        "print('-' * 30)\n",
        "print(arr22.dtype)\n",
        "print('-' * 30)\n",
        "print(a.dtype)\n",
        "print('-' * 30)\n",
        "print(float_a.dtype)\n",
        "print('-' * 30)\n",
        "\n",
        "int_Arr = np.arange(10)\n",
        "calibers = np.array([.22, .270, .357, .380, .44, .50], dtype = np.float64)\n",
        "print(int_Arr)\n",
        "print(calibers)\n",
        "print(int_Arr.astype(calibers.dtype))\n",
        "print('-' * 30)\n",
        "\n",
        "numeric_string = np.array(['1.25', '-9.6', '42'], dtype=np.float64)\n",
        "print(numeric_string.astype(float))\n",
        "print('-' * 30)\n",
        "\n",
        "zeros_unit32 = np.zeros(8, dtype = 'u4')\n",
        "print(zeros_unit32)\n",
        "zeros_unit32"
      ],
      "metadata": {
        "colab": {
          "base_uri": "https://localhost:8080/"
        },
        "id": "ezf9pMkoZDha",
        "outputId": "c472bc4f-1108-4f46-8277-0606ad7de317"
      },
      "execution_count": 6,
      "outputs": [
        {
          "output_type": "stream",
          "name": "stdout",
          "text": [
            "float64\n",
            "------------------------------\n",
            "int32\n",
            "------------------------------\n",
            "int64\n",
            "------------------------------\n",
            "float64\n",
            "------------------------------\n",
            "[0 1 2 3 4 5 6 7 8 9]\n",
            "[0.22  0.27  0.357 0.38  0.44  0.5  ]\n",
            "[0. 1. 2. 3. 4. 5. 6. 7. 8. 9.]\n",
            "------------------------------\n",
            "[ 1.25 -9.6  42.  ]\n",
            "------------------------------\n",
            "[0 0 0 0 0 0 0 0]\n"
          ]
        },
        {
          "output_type": "execute_result",
          "data": {
            "text/plain": [
              "array([0, 0, 0, 0, 0, 0, 0, 0], dtype=uint32)"
            ]
          },
          "metadata": {},
          "execution_count": 6
        }
      ]
    },
    {
      "cell_type": "markdown",
      "source": [
        "# Arithmetic with NumPy Arrays"
      ],
      "metadata": {
        "id": "txzcp8G-o_EL"
      }
    },
    {
      "cell_type": "code",
      "source": [
        "ar_arr1 = np.array([[1., 2., 3.],[4., 5., 6.]])\n",
        "\n",
        "print(ar_arr1 * ar_arr1)\n",
        "print('-' * 30)\n",
        "print(ar_arr1 - ar_arr1)\n",
        "print('-' * 30)\n",
        "print(1 / ar_arr1)\n",
        "print('-' * 30)\n",
        "print(ar_arr1 ** 2)\n",
        "print('-' * 30)\n",
        "\n",
        "ar_arr2 = np.array([[0., 4., 1.], [7., 2., 12.]])\n",
        "print(ar_arr2)\n",
        "print('-' * 30)\n",
        "print(ar_arr2 > ar_arr1)"
      ],
      "metadata": {
        "colab": {
          "base_uri": "https://localhost:8080/"
        },
        "id": "sHUSz6_4iSQ9",
        "outputId": "220b7d99-1c15-4177-d858-18c1b66dc72b"
      },
      "execution_count": 7,
      "outputs": [
        {
          "output_type": "stream",
          "name": "stdout",
          "text": [
            "[[ 1.  4.  9.]\n",
            " [16. 25. 36.]]\n",
            "------------------------------\n",
            "[[0. 0. 0.]\n",
            " [0. 0. 0.]]\n",
            "------------------------------\n",
            "[[1.         0.5        0.33333333]\n",
            " [0.25       0.2        0.16666667]]\n",
            "------------------------------\n",
            "[[ 1.  4.  9.]\n",
            " [16. 25. 36.]]\n",
            "------------------------------\n",
            "[[ 0.  4.  1.]\n",
            " [ 7.  2. 12.]]\n",
            "------------------------------\n",
            "[[False  True False]\n",
            " [ True False  True]]\n"
          ]
        }
      ]
    },
    {
      "cell_type": "markdown",
      "source": [
        "# Basic Indexing and Slicing"
      ],
      "metadata": {
        "id": "GPnK1cAIr2Qy"
      }
    },
    {
      "cell_type": "code",
      "source": [
        "in_arr = np.arange(10)\n",
        "\n",
        "print(in_arr[5]) # determine the element 5\n",
        "print('-' * 30)\n",
        "print(in_arr[5:8]) # determine the elements from 5 to 8\n",
        "print('-' * 30)\n",
        "\n",
        "in_arr[5:8] = 12 # update the elements from 5 to 8 to be 12\n",
        "print(in_arr)\n",
        "print('-' * 30)\n",
        "arr_slice = in_arr[5:8]\n",
        "print(arr_slice)\n",
        "print('-' * 30)\n",
        "arr_slice[1] = 1234\n",
        "print(arr_slice)\n",
        "print('-' * 30)\n",
        "arr_slice[:] = 64\n",
        "print(in_arr)\n",
        "print('-' * 30)\n",
        "\n",
        "# 3 x 3 matrix\n",
        "mat_arr = np.array([[1, 2, 3], [4, 5, 6], [7, 8, 9]])\n",
        "print(mat_arr[2])\n",
        "print('-' * 30)\n",
        "print(mat_arr[2][0])\n",
        "print('-' * 30)\n",
        "\n",
        "# 2 × 2 × 3 array\n",
        "in_arr2 = np.array([[[1, 2, 3], [4, 5, 6]], [[7, 8, 9], [10, 11, 12]]])\n",
        "print(in_arr2)\n",
        "print('-' * 30)\n",
        "print(in_arr2[0])\n",
        "print('-' * 30)\n",
        "print(in_arr2[0][0])\n",
        "print('-' * 30)\n",
        "print(in_arr2[0][0][1])\n",
        "print('-' * 30)\n",
        "print(in_arr2[1, 0])\n",
        "print('-' * 30)\n",
        "\n",
        "# copy of data\n",
        "old_values = in_arr2[0].copy()\n",
        "in_arr2[0] = 42\n",
        "print(in_arr2)\n",
        "print('-' * 30)\n",
        "in_arr2[0] = old_values\n",
        "print(in_arr2)\n",
        "print('-' * 30)\n",
        "x = in_arr2[1]\n",
        "print(x)\n",
        "print('-' * 30)\n",
        "print(x[0])\n",
        "print('-' * 30)\n",
        "\n",
        "# Indexing with slices\n",
        "print(in_arr)\n",
        "print('-' * 30)\n",
        "print(in_arr[1:6])\n",
        "print('-' * 30)\n",
        "print(mat_arr)\n",
        "print('-' * 30)\n",
        "print(mat_arr[:2])\n",
        "print('-' * 30)\n",
        "print(mat_arr[:2, 1:])\n",
        "print('-' * 30)\n",
        "lower_dim_slice = mat_arr[1, :2]\n",
        "print(lower_dim_slice.shape)\n",
        "print('-' * 30)\n",
        "print(mat_arr[:2, 2])\n",
        "print('-' * 30)\n",
        "print(mat_arr[:, :1])\n",
        "print('-' * 30)\n",
        "mat_arr[:2, 1:] = 0\n",
        "print(mat_arr)\n",
        "print('-' * 30)"
      ],
      "metadata": {
        "colab": {
          "base_uri": "https://localhost:8080/"
        },
        "id": "zYai9L58q1gV",
        "outputId": "afb4b8ec-d19b-42c3-ff36-1438f0df5575"
      },
      "execution_count": 8,
      "outputs": [
        {
          "output_type": "stream",
          "name": "stdout",
          "text": [
            "5\n",
            "------------------------------\n",
            "[5 6 7]\n",
            "------------------------------\n",
            "[ 0  1  2  3  4 12 12 12  8  9]\n",
            "------------------------------\n",
            "[12 12 12]\n",
            "------------------------------\n",
            "[  12 1234   12]\n",
            "------------------------------\n",
            "[ 0  1  2  3  4 64 64 64  8  9]\n",
            "------------------------------\n",
            "[7 8 9]\n",
            "------------------------------\n",
            "7\n",
            "------------------------------\n",
            "[[[ 1  2  3]\n",
            "  [ 4  5  6]]\n",
            "\n",
            " [[ 7  8  9]\n",
            "  [10 11 12]]]\n",
            "------------------------------\n",
            "[[1 2 3]\n",
            " [4 5 6]]\n",
            "------------------------------\n",
            "[1 2 3]\n",
            "------------------------------\n",
            "2\n",
            "------------------------------\n",
            "[7 8 9]\n",
            "------------------------------\n",
            "[[[42 42 42]\n",
            "  [42 42 42]]\n",
            "\n",
            " [[ 7  8  9]\n",
            "  [10 11 12]]]\n",
            "------------------------------\n",
            "[[[ 1  2  3]\n",
            "  [ 4  5  6]]\n",
            "\n",
            " [[ 7  8  9]\n",
            "  [10 11 12]]]\n",
            "------------------------------\n",
            "[[ 7  8  9]\n",
            " [10 11 12]]\n",
            "------------------------------\n",
            "[7 8 9]\n",
            "------------------------------\n",
            "[ 0  1  2  3  4 64 64 64  8  9]\n",
            "------------------------------\n",
            "[ 1  2  3  4 64]\n",
            "------------------------------\n",
            "[[1 2 3]\n",
            " [4 5 6]\n",
            " [7 8 9]]\n",
            "------------------------------\n",
            "[[1 2 3]\n",
            " [4 5 6]]\n",
            "------------------------------\n",
            "[[2 3]\n",
            " [5 6]]\n",
            "------------------------------\n",
            "(2,)\n",
            "------------------------------\n",
            "[3 6]\n",
            "------------------------------\n",
            "[[1]\n",
            " [4]\n",
            " [7]]\n",
            "------------------------------\n",
            "[[1 0 0]\n",
            " [4 0 0]\n",
            " [7 8 9]]\n",
            "------------------------------\n"
          ]
        }
      ]
    },
    {
      "cell_type": "markdown",
      "source": [
        "# Boolean Indexing"
      ],
      "metadata": {
        "id": "XWYzdo_hrMCB"
      }
    },
    {
      "cell_type": "code",
      "source": [
        "names = np.array([\"Bob\", \"Joe\", \"Will\", \"Bob\", \"Will\", \"Joe\", \"Joe\"])\n",
        "data = np.array([[4, 7], [0, 2], [-5, 6], [0, 0], [1, 2],[-12, -4], [3, 4]])\n",
        "\n",
        "print(names)\n",
        "print('-' * 30)\n",
        "print(data)\n",
        "print('-' * 30)\n",
        "print(names == 'Bob')\n",
        "print('-' * 30)\n",
        "print(data[names == 'Bob', 1:])\n",
        "print('-' * 30)\n",
        "print(data[names == 'Bob', 1])\n",
        "print('-' * 30)\n",
        "print(names != 'Bob')\n",
        "print('-' * 30)\n",
        "print(~(names == 'Bob'))\n",
        "print('-' * 30)\n",
        "cond = names == 'Bob'\n",
        "print(data[~cond])\n",
        "print('-' * 30)\n",
        "\n",
        "mask = (names == 'Bob') | (names == 'Will')\n",
        "print(mask)\n",
        "print('-' * 30)\n",
        "print(data[mask])\n",
        "print('-' * 30)\n",
        "data[data < 0] = 0\n",
        "print(data)\n",
        "print('-' * 30)\n",
        "data[names != ['Joe']] = 7\n",
        "print(data)"
      ],
      "metadata": {
        "colab": {
          "base_uri": "https://localhost:8080/"
        },
        "id": "8UjZuUEgsCtj",
        "outputId": "129ee192-f63f-410c-83ef-013c6f7ddbfa"
      },
      "execution_count": 9,
      "outputs": [
        {
          "output_type": "stream",
          "name": "stdout",
          "text": [
            "['Bob' 'Joe' 'Will' 'Bob' 'Will' 'Joe' 'Joe']\n",
            "------------------------------\n",
            "[[  4   7]\n",
            " [  0   2]\n",
            " [ -5   6]\n",
            " [  0   0]\n",
            " [  1   2]\n",
            " [-12  -4]\n",
            " [  3   4]]\n",
            "------------------------------\n",
            "[ True False False  True False False False]\n",
            "------------------------------\n",
            "[[7]\n",
            " [0]]\n",
            "------------------------------\n",
            "[7 0]\n",
            "------------------------------\n",
            "[False  True  True False  True  True  True]\n",
            "------------------------------\n",
            "[False  True  True False  True  True  True]\n",
            "------------------------------\n",
            "[[  0   2]\n",
            " [ -5   6]\n",
            " [  1   2]\n",
            " [-12  -4]\n",
            " [  3   4]]\n",
            "------------------------------\n",
            "[ True False  True  True  True False False]\n",
            "------------------------------\n",
            "[[ 4  7]\n",
            " [-5  6]\n",
            " [ 0  0]\n",
            " [ 1  2]]\n",
            "------------------------------\n",
            "[[4 7]\n",
            " [0 2]\n",
            " [0 6]\n",
            " [0 0]\n",
            " [1 2]\n",
            " [0 0]\n",
            " [3 4]]\n",
            "------------------------------\n",
            "[[7 7]\n",
            " [0 2]\n",
            " [7 7]\n",
            " [7 7]\n",
            " [7 7]\n",
            " [0 0]\n",
            " [3 4]]\n"
          ]
        }
      ]
    },
    {
      "cell_type": "markdown",
      "source": [
        "# Fancy Indexing"
      ],
      "metadata": {
        "id": "jVHMRSnr19kk"
      }
    },
    {
      "cell_type": "code",
      "source": [
        "fn_arr = np.zeros((8, 4)) # 8 × 4 array\n",
        "\n",
        "for i in range(8):\n",
        "  fn_arr[i] = i\n",
        "\n",
        "print(fn_arr)\n",
        "print('-' * 30)\n",
        "print(fn_arr[[4, 3, 0, 6]]) # select rows 4, 3, 0, 6\n",
        "print('-' * 30)\n",
        "print(fn_arr[[-3, -5, -7]]) # select rows -3, -5, -7\n",
        "print('-' * 30)\n",
        "arr_n = np.arange(32).reshape((8, 4))\n",
        "print(arr_n)\n",
        "print('-' * 30)\n",
        "print(arr_n[[1, 5, 7, 2], [0, 3, 1, 2]]) # select the index [1,0], [5,3],..\n",
        "print('-' * 30)\n",
        "print(arr_n[[1, 5, 7, 2]][:, [0, 3, 1, 2]]) # select the rows 1, 5, 7, 2 then select all rows then chanage the Column arrangement\n",
        "print('-' * 30)\n",
        "arr_n[[1, 5, 7, 2], [0, 3, 1, 2]] = 0 # update the index [1,0], [5,3],... to be 0\n",
        "print(arr_n)\n",
        "print('-' * 30)"
      ],
      "metadata": {
        "id": "OspFkP5Zsmww",
        "colab": {
          "base_uri": "https://localhost:8080/"
        },
        "outputId": "72378ee7-1877-4a3a-9c4e-a002562710ab"
      },
      "execution_count": 10,
      "outputs": [
        {
          "output_type": "stream",
          "name": "stdout",
          "text": [
            "[[0. 0. 0. 0.]\n",
            " [1. 1. 1. 1.]\n",
            " [2. 2. 2. 2.]\n",
            " [3. 3. 3. 3.]\n",
            " [4. 4. 4. 4.]\n",
            " [5. 5. 5. 5.]\n",
            " [6. 6. 6. 6.]\n",
            " [7. 7. 7. 7.]]\n",
            "------------------------------\n",
            "[[4. 4. 4. 4.]\n",
            " [3. 3. 3. 3.]\n",
            " [0. 0. 0. 0.]\n",
            " [6. 6. 6. 6.]]\n",
            "------------------------------\n",
            "[[5. 5. 5. 5.]\n",
            " [3. 3. 3. 3.]\n",
            " [1. 1. 1. 1.]]\n",
            "------------------------------\n",
            "[[ 0  1  2  3]\n",
            " [ 4  5  6  7]\n",
            " [ 8  9 10 11]\n",
            " [12 13 14 15]\n",
            " [16 17 18 19]\n",
            " [20 21 22 23]\n",
            " [24 25 26 27]\n",
            " [28 29 30 31]]\n",
            "------------------------------\n",
            "[ 4 23 29 10]\n",
            "------------------------------\n",
            "[[ 4  7  5  6]\n",
            " [20 23 21 22]\n",
            " [28 31 29 30]\n",
            " [ 8 11  9 10]]\n",
            "------------------------------\n",
            "[[ 0  1  2  3]\n",
            " [ 0  5  6  7]\n",
            " [ 8  9  0 11]\n",
            " [12 13 14 15]\n",
            " [16 17 18 19]\n",
            " [20 21 22  0]\n",
            " [24 25 26 27]\n",
            " [28  0 30 31]]\n",
            "------------------------------\n"
          ]
        }
      ]
    },
    {
      "cell_type": "markdown",
      "source": [
        "# Transposing Arrays and Swapping Axes"
      ],
      "metadata": {
        "id": "wH-96-02zIUA"
      }
    },
    {
      "cell_type": "code",
      "source": [
        "tr_sw_arr = np.arange(15) # array from 15 numbers\n",
        "print(tr_sw_arr)\n",
        "print('-' * 30)\n",
        "tr_sw_arr = np.arange(15).reshape((3, 5)) # array from 15 numbers with shape of 3 rows and 5 columns\n",
        "print(tr_sw_arr)\n",
        "print('-' * 30)\n",
        "print(tr_sw_arr.T) # Transpose the matrix (convert the row to column and the column to row)\n",
        "print('-' * 30)\n",
        "tr_sw_arr_n = np.array([[0, 1, 0], [1, 2, -2], [6, 3, 2], [-1, 0, -1], [1, 0, 1]])\n",
        "print(tr_sw_arr_n)\n",
        "print('-' * 30)\n",
        "print(np.dot(tr_sw_arr_n.T, tr_sw_arr_n)) # matrix multiplication between tr_sw_arr_n and tr_sw_arr_n Transpose\n",
        "print('-' * 30)\n",
        "print(tr_sw_arr_n.T @ tr_sw_arr_n) # abbreviation of matrix multiplication between tr_sw_arr_n and tr_sw_arr_n Transpose\n",
        "print('-' * 30)\n",
        "print(tr_sw_arr_n)\n",
        "print('-' * 30)\n",
        "print(tr_sw_arr_n.swapaxes(0, 1)) # Switch the axes 0 and 1 in the tr_sw_arr_n (0 -> rows), (1 -> columns), it's like T (Transpose)\n",
        "print('-' * 30)"
      ],
      "metadata": {
        "id": "pn_VC4AX2Q78",
        "colab": {
          "base_uri": "https://localhost:8080/"
        },
        "outputId": "2c0c38a9-7a7f-4147-df65-693cd8c11053"
      },
      "execution_count": 11,
      "outputs": [
        {
          "output_type": "stream",
          "name": "stdout",
          "text": [
            "[ 0  1  2  3  4  5  6  7  8  9 10 11 12 13 14]\n",
            "------------------------------\n",
            "[[ 0  1  2  3  4]\n",
            " [ 5  6  7  8  9]\n",
            " [10 11 12 13 14]]\n",
            "------------------------------\n",
            "[[ 0  5 10]\n",
            " [ 1  6 11]\n",
            " [ 2  7 12]\n",
            " [ 3  8 13]\n",
            " [ 4  9 14]]\n",
            "------------------------------\n",
            "[[ 0  1  0]\n",
            " [ 1  2 -2]\n",
            " [ 6  3  2]\n",
            " [-1  0 -1]\n",
            " [ 1  0  1]]\n",
            "------------------------------\n",
            "[[39 20 12]\n",
            " [20 14  2]\n",
            " [12  2 10]]\n",
            "------------------------------\n",
            "[[39 20 12]\n",
            " [20 14  2]\n",
            " [12  2 10]]\n",
            "------------------------------\n",
            "[[ 0  1  0]\n",
            " [ 1  2 -2]\n",
            " [ 6  3  2]\n",
            " [-1  0 -1]\n",
            " [ 1  0  1]]\n",
            "------------------------------\n",
            "[[ 0  1  6 -1  1]\n",
            " [ 1  2  3  0  0]\n",
            " [ 0 -2  2 -1  1]]\n",
            "------------------------------\n"
          ]
        }
      ]
    },
    {
      "cell_type": "markdown",
      "source": [
        "# Pseudorandom Number Generation"
      ],
      "metadata": {
        "id": "x_jdSg9I3LiJ"
      }
    },
    {
      "cell_type": "code",
      "source": [
        "samples = np.random.standard_normal(size=(4, 4)) # generate random numbers with Standard Normal Distribution (mean=0, std=1)\n",
        "print(samples)\n",
        "print('-' * 60)\n",
        "\n",
        "from random import normalvariate # generate one number in each one\n",
        "\n",
        "n = 1000000\n",
        "\n",
        "%timeit samples = [normalvariate(0, 1) for _ in range(n)] # generate 1m numbers Every time a random number is generated\n",
        "print('-' * 60)\n",
        "%timeit np.random.standard_normal(n) # generate 1m numbers lump sum\n",
        "print('-' * 60)\n",
        "\n",
        "rng = np.random.default_rng(seed=12345) # generate random numbers\n",
        "data = rng.standard_normal((2, 3)) # generate random numbers with Standard Normal Distribution (mean=0, std=1)\n",
        "print(data)\n",
        "print('-' * 60)\n",
        "print(type(rng))\n",
        "print('-' * 60)"
      ],
      "metadata": {
        "colab": {
          "base_uri": "https://localhost:8080/"
        },
        "id": "gmjdvMkrzTO8",
        "outputId": "4345fc05-323e-4b48-f3cc-46b7d0263dae"
      },
      "execution_count": 12,
      "outputs": [
        {
          "output_type": "stream",
          "name": "stdout",
          "text": [
            "[[ 0.16344042 -0.83484396 -2.26841829 -0.40042746]\n",
            " [ 0.16606094 -1.04806158 -0.23974326  0.63937119]\n",
            " [-0.36403292 -1.56731667 -0.72049395 -0.8806193 ]\n",
            " [ 1.10616229 -0.57290737 -0.43545059  0.39968561]]\n",
            "------------------------------------------------------------\n",
            "664 ms ± 14.4 ms per loop (mean ± std. dev. of 7 runs, 1 loop each)\n",
            "------------------------------------------------------------\n",
            "40.4 ms ± 7.9 ms per loop (mean ± std. dev. of 7 runs, 10 loops each)\n",
            "------------------------------------------------------------\n",
            "[[-1.42382504  1.26372846 -0.87066174]\n",
            " [-0.25917323 -0.07534331 -0.74088465]]\n",
            "------------------------------------------------------------\n",
            "<class 'numpy.random._generator.Generator'>\n",
            "------------------------------------------------------------\n"
          ]
        }
      ]
    },
    {
      "cell_type": "markdown",
      "source": [
        "# Universal Functions: Fast Element-Wise Array Functions"
      ],
      "metadata": {
        "id": "qUVBjx6788G6"
      }
    },
    {
      "cell_type": "code",
      "source": [
        "un_arr = np.arange(10)\n",
        "print(un_arr)\n",
        "print('-' * 70)\n",
        "print(np.sqrt(un_arr)) # get the sqare root for each number in array\n",
        "print('-' * 70)\n",
        "print(np.exp(un_arr)) # get the exponential for each number in array\n",
        "print('-' * 70)\n",
        "\n",
        "x_un = rng.standard_normal(8) # generate random numbers with Standard Normal Distribution (mean=0, std=1)\n",
        "y_un = rng.standard_normal(8) # generate random numbers with Standard Normal Distribution (mean=0, std=1)\n",
        "\n",
        "print(x_un)\n",
        "print('-' * 70)\n",
        "print(y_un)\n",
        "print('-' * 70)\n",
        "print(np.maximum(x_un, y_un)) # Compares element to element between the two arrays and returns the largest value for each position.\n",
        "print('-' * 70)\n",
        "\n",
        "arr_un = rng.standard_normal(7) * 5 # generate 7 random numbers with Standard Normal Distribution (mean=0, std=1) then mul them with 5 and it will (mean=0, std=5)\n",
        "print(arr_un)\n",
        "print('-' * 70)\n",
        "\n",
        "remainder, whole_part = np.modf(arr_un) # Separates the fractional part from the integer part of each element in the array.\n",
        "print(remainder) # fractional part\n",
        "print()\n",
        "print(whole_part) # integer part\n",
        "print('-' * 70)\n",
        "print(arr_un)\n",
        "print('-' * 70)\n",
        "\n",
        "out = np.zeros_like(arr_un) # Create an array of zeros in the same form as arr_un to store the results\n",
        "print(np.add(arr_un, 1)) # Add 1 for each element in arr_un, and return a new array with the result\n",
        "print('-' * 70)\n",
        "print(np.add(arr_un, 1, out=out)) # Add 1 for each element in arr_un, and store the result directly in the out array\n",
        "print('-' * 70)\n",
        "print(out)"
      ],
      "metadata": {
        "colab": {
          "base_uri": "https://localhost:8080/"
        },
        "id": "UXG74Yr73bub",
        "outputId": "bb76f103-bb29-4c92-c007-c83f57da04c3"
      },
      "execution_count": 13,
      "outputs": [
        {
          "output_type": "stream",
          "name": "stdout",
          "text": [
            "[0 1 2 3 4 5 6 7 8 9]\n",
            "----------------------------------------------------------------------\n",
            "[0.         1.         1.41421356 1.73205081 2.         2.23606798\n",
            " 2.44948974 2.64575131 2.82842712 3.        ]\n",
            "----------------------------------------------------------------------\n",
            "[1.00000000e+00 2.71828183e+00 7.38905610e+00 2.00855369e+01\n",
            " 5.45981500e+01 1.48413159e+02 4.03428793e+02 1.09663316e+03\n",
            " 2.98095799e+03 8.10308393e+03]\n",
            "----------------------------------------------------------------------\n",
            "[-1.3677927   0.6488928   0.36105811 -1.95286306  2.34740965  0.96849691\n",
            " -0.75938718  0.90219827]\n",
            "----------------------------------------------------------------------\n",
            "[-0.46695317 -0.06068952  0.78884434 -1.25666813  0.57585751  1.39897899\n",
            "  1.32229806 -0.29969852]\n",
            "----------------------------------------------------------------------\n",
            "[-0.46695317  0.6488928   0.78884434 -1.25666813  2.34740965  1.39897899\n",
            "  1.32229806  0.90219827]\n",
            "----------------------------------------------------------------------\n",
            "[ 4.51459671 -8.10791367 -0.7909463   2.24741966 -6.71800536 -0.40843795\n",
            "  8.62369966]\n",
            "----------------------------------------------------------------------\n",
            "[ 0.51459671 -0.10791367 -0.7909463   0.24741966 -0.71800536 -0.40843795\n",
            "  0.62369966]\n",
            "\n",
            "[ 4. -8. -0.  2. -6. -0.  8.]\n",
            "----------------------------------------------------------------------\n",
            "[ 4.51459671 -8.10791367 -0.7909463   2.24741966 -6.71800536 -0.40843795\n",
            "  8.62369966]\n",
            "----------------------------------------------------------------------\n",
            "[ 5.51459671 -7.10791367  0.2090537   3.24741966 -5.71800536  0.59156205\n",
            "  9.62369966]\n",
            "----------------------------------------------------------------------\n",
            "[ 5.51459671 -7.10791367  0.2090537   3.24741966 -5.71800536  0.59156205\n",
            "  9.62369966]\n",
            "----------------------------------------------------------------------\n",
            "[ 5.51459671 -7.10791367  0.2090537   3.24741966 -5.71800536  0.59156205\n",
            "  9.62369966]\n"
          ]
        }
      ]
    },
    {
      "cell_type": "code",
      "source": [
        "points = np.arange(-5,5,0.01) # create an array from -5 to just before 5 with step 0.01\n",
        "xs, ys = np.meshgrid(points, points) # create coordinate matrices for X and Y values\n",
        "print(xs)\n",
        "print('-' * 40)\n",
        "print(ys)\n",
        "print('-' * 40)\n",
        "z = np.sqrt(xs ** 2 + ys ** 2) # Calculate the distance from the origin (0, 0)\n",
        "print(z)\n",
        "print('-' * 40)\n",
        "\n",
        "import matplotlib.pyplot as plt\n",
        "plt.imshow(z, cmap=plt.cm.gray, extent=[-5, 5, -5, 5])\n",
        "plt.colorbar()\n",
        "plt.title(\"Image plot of $\\sqrt{x^2 + y^2}$ for a grid of values\")"
      ],
      "metadata": {
        "id": "2rPND-TK9JHA",
        "colab": {
          "base_uri": "https://localhost:8080/",
          "height": 896
        },
        "outputId": "22df59f5-8feb-4e7e-ce68-7789dbcaaa8d"
      },
      "execution_count": 14,
      "outputs": [
        {
          "output_type": "stream",
          "name": "stdout",
          "text": [
            "[[-5.   -4.99 -4.98 ...  4.97  4.98  4.99]\n",
            " [-5.   -4.99 -4.98 ...  4.97  4.98  4.99]\n",
            " [-5.   -4.99 -4.98 ...  4.97  4.98  4.99]\n",
            " ...\n",
            " [-5.   -4.99 -4.98 ...  4.97  4.98  4.99]\n",
            " [-5.   -4.99 -4.98 ...  4.97  4.98  4.99]\n",
            " [-5.   -4.99 -4.98 ...  4.97  4.98  4.99]]\n",
            "----------------------------------------\n",
            "[[-5.   -5.   -5.   ... -5.   -5.   -5.  ]\n",
            " [-4.99 -4.99 -4.99 ... -4.99 -4.99 -4.99]\n",
            " [-4.98 -4.98 -4.98 ... -4.98 -4.98 -4.98]\n",
            " ...\n",
            " [ 4.97  4.97  4.97 ...  4.97  4.97  4.97]\n",
            " [ 4.98  4.98  4.98 ...  4.98  4.98  4.98]\n",
            " [ 4.99  4.99  4.99 ...  4.99  4.99  4.99]]\n",
            "----------------------------------------\n",
            "[[7.07106781 7.06400028 7.05693985 ... 7.04988652 7.05693985 7.06400028]\n",
            " [7.06400028 7.05692568 7.04985815 ... 7.04279774 7.04985815 7.05692568]\n",
            " [7.05693985 7.04985815 7.04278354 ... 7.03571603 7.04278354 7.04985815]\n",
            " ...\n",
            " [7.04988652 7.04279774 7.03571603 ... 7.0286414  7.03571603 7.04279774]\n",
            " [7.05693985 7.04985815 7.04278354 ... 7.03571603 7.04278354 7.04985815]\n",
            " [7.06400028 7.05692568 7.04985815 ... 7.04279774 7.04985815 7.05692568]]\n",
            "----------------------------------------\n"
          ]
        },
        {
          "output_type": "execute_result",
          "data": {
            "text/plain": [
              "Text(0.5, 1.0, 'Image plot of $\\\\sqrt{x^2 + y^2}$ for a grid of values')"
            ]
          },
          "metadata": {},
          "execution_count": 14
        },
        {
          "output_type": "display_data",
          "data": {
            "text/plain": [
              "<Figure size 640x480 with 2 Axes>"
            ],
            "image/png": "[encoded data removed]"
          },
          "metadata": {}
        }
      ]
    },
    {
      "cell_type": "markdown",
      "source": [
        "# Expressing Conditional Logic as Array Operations"
      ],
      "metadata": {
        "id": "VGZSXNitr9MR"
      }
    },
    {
      "cell_type": "code",
      "source": [
        "xarr = np.array([1.1, 1.2, 1.3, 1.4, 1.5])\n",
        "yarr = np.array([2.1, 2.2, 2.3, 2.4, 2.5])\n",
        "cond = np.array([True, False, True, True, False])\n",
        "\n",
        "result = [(x if c else y) for x, y, c in zip(xarr, yarr, cond)] # colect xarr, yarr, cond in an array and check if c if true return x else y\n",
        "print(result)\n",
        "print('-' * 40)\n",
        "arr_ex = rng.standard_normal((4, 4)) # create a matrix 4 * 4 with a normal distribution\n",
        "print(arr_ex)\n",
        "print('-' * 40)\n",
        "print(arr_ex > 0) # check each element in the array if it bigger than 0\n",
        "print('-' * 40)\n",
        "print(np.where(arr_ex > 0, 2, -2)) # check each element in the array if it bigger than 0, if true replace with 2 if false replace with -2\n",
        "print('-' * 40)\n",
        "print(np.where(arr_ex > 0 , 2, arr_ex)) # check each element in the array if it bigger than 0, if true replace with 2 if false replace with the element\n",
        "print('-' * 40)"
      ],
      "metadata": {
        "colab": {
          "base_uri": "https://localhost:8080/"
        },
        "id": "066sY6oYUr7u",
        "outputId": "ae5026a6-72d8-4045-aee7-cf1c10d9bad3"
      },
      "execution_count": 15,
      "outputs": [
        {
          "output_type": "stream",
          "name": "stdout",
          "text": [
            "[np.float64(1.1), np.float64(2.2), np.float64(1.3), np.float64(1.4), np.float64(2.5)]\n",
            "----------------------------------------\n",
            "[[ 2.61815943  0.77736134  0.8286332  -0.95898831]\n",
            " [-1.20938829 -1.41229201  0.54154683  0.7519394 ]\n",
            " [-0.65876032 -1.22867499  0.25755777  0.31290292]\n",
            " [-0.13081169  1.26998312 -0.09296246 -0.06615089]]\n",
            "----------------------------------------\n",
            "[[ True  True  True False]\n",
            " [False False  True  True]\n",
            " [False False  True  True]\n",
            " [False  True False False]]\n",
            "----------------------------------------\n",
            "[[ 2  2  2 -2]\n",
            " [-2 -2  2  2]\n",
            " [-2 -2  2  2]\n",
            " [-2  2 -2 -2]]\n",
            "----------------------------------------\n",
            "[[ 2.          2.          2.         -0.95898831]\n",
            " [-1.20938829 -1.41229201  2.          2.        ]\n",
            " [-0.65876032 -1.22867499  2.          2.        ]\n",
            " [-0.13081169  2.         -0.09296246 -0.06615089]]\n",
            "----------------------------------------\n"
          ]
        }
      ]
    },
    {
      "cell_type": "markdown",
      "source": [
        " # Mathematical and Statistical Methods"
      ],
      "metadata": {
        "id": "sGEcf1dQ2vpv"
      }
    },
    {
      "cell_type": "code",
      "source": [
        "arr_mth = rng.standard_normal((5, 4)) # create a matrix 5 * 4 with a normal distribution\n",
        "print(arr_mth)\n",
        "print('-' * 70)\n",
        "print(arr_mth.mean()) # get the mean of the matrix\n",
        "print('-' * 70)\n",
        "print(arr_mth.sum()) # get the sum of the matrix\n",
        "print('-' * 70)\n",
        "print(arr_mth.sum(axis=0)) # get the sum of each column\n",
        "print('-' * 70)\n",
        "print(arr_mth.mean(axis=1)) # get the mean of each row\n",
        "print('-' * 70)\n",
        "\n",
        "arr_m = np.array([0, 1, 2, 3, 4, 5, 6, 7])\n",
        "print(arr_m.cumsum()) # Cumulative Sum, start from first element of list, add it to the next, to the end of the list\n",
        "print('-' * 70)\n",
        "arr_mtx = np.array([[0, 1, 2], [3, 4, 5], [6, 7, 8]])\n",
        "print(arr_mtx)\n",
        "print('-' * 70)\n",
        "print(arr_mtx.cumsum(axis = 0)) # get the sum of each column Cumulative: 0 → 0+3=3 → 3+6=9\n",
        "print('-' * 70)\n",
        "print(arr_mtx.cumsum(axis = 1)) # get the mean of each row Cumulative: 0 → 0+1=1 → 1+2=3\n",
        "print('-' * 70)"
      ],
      "metadata": {
        "colab": {
          "base_uri": "https://localhost:8080/"
        },
        "id": "89BnbXatsDX1",
        "outputId": "cd0bde9e-75cf-423f-b52b-0b51bbcf6040"
      },
      "execution_count": 33,
      "outputs": [
        {
          "output_type": "stream",
          "name": "stdout",
          "text": [
            "[[-0.06682368  0.23911172 -1.30500814 -0.73123644]\n",
            " [-1.62440684  0.00525051  2.22215696  0.74130922]\n",
            " [-0.86542971 -0.7076847   0.97589876 -0.47440938]\n",
            " [-1.60848203 -1.02291555 -1.05425642 -1.02139871]\n",
            " [ 0.67595082  0.07070287 -1.48863945 -0.53979699]]\n",
            "----------------------------------------------------------------------\n",
            "-0.37900535904914884\n",
            "----------------------------------------------------------------------\n",
            "-7.580107180982977\n",
            "----------------------------------------------------------------------\n",
            "[-3.48919143 -1.41553515 -0.6498483  -2.0255323 ]\n",
            "----------------------------------------------------------------------\n",
            "[-0.46598914  0.33607746 -0.26790626 -1.17676318 -0.32044569]\n",
            "----------------------------------------------------------------------\n",
            "[ 0  1  3  6 10 15 21 28]\n",
            "----------------------------------------------------------------------\n",
            "[[0 1 2]\n",
            " [3 4 5]\n",
            " [6 7 8]]\n",
            "----------------------------------------------------------------------\n",
            "[[ 0  1  2]\n",
            " [ 3  5  7]\n",
            " [ 9 12 15]]\n",
            "----------------------------------------------------------------------\n",
            "[[ 0  1  3]\n",
            " [ 3  7 12]\n",
            " [ 6 13 21]]\n",
            "----------------------------------------------------------------------\n"
          ]
        }
      ]
    },
    {
      "cell_type": "markdown",
      "source": [
        "# Methods for Boolean Arrays"
      ],
      "metadata": {
        "id": "RbtU_hpntlFJ"
      }
    },
    {
      "cell_type": "code",
      "source": [
        "arr_bo = rng.standard_normal(100)\n",
        "print(arr_bo)\n",
        "print('-' * 50)\n",
        "print((arr_bo > 0).sum()) # Number of positive values\n",
        "print('-' * 50)\n",
        "print((arr_bo <= 0).sum()) # Number of non-positive values\n",
        "print('-' * 50)\n",
        "bools = np.array([False, False, True, False])\n",
        "print(bools.any()) # return true if at least 1 value = True\n",
        "print('-' * 50)\n",
        "print(bools.all()) # return true if all values = True\n",
        "print('-' * 50)"
      ],
      "metadata": {
        "colab": {
          "base_uri": "https://localhost:8080/"
        },
        "id": "dd6ZGD-ihT0T",
        "outputId": "658276a6-23d7-42d3-bb3e-272baba7c87a"
      },
      "execution_count": 39,
      "outputs": [
        {
          "output_type": "stream",
          "name": "stdout",
          "text": [
            "[ 0.59370641  0.93322266  0.34644167  0.8773103   0.58894385 -0.23223774\n",
            " -0.14278637  0.61756154 -0.54985719  1.15527732  1.22211314 -2.02892326\n",
            " -0.06679858 -0.74795741 -0.6313992   0.14763065 -0.16671603  0.5672833\n",
            "  0.32397068  0.37278448 -0.78092377 -0.34631839  1.46062736 -2.47755133\n",
            "  1.71945608 -0.55927351  1.18097398 -2.59346818 -0.41724221  0.84984526\n",
            "  0.15123585  1.01700015 -0.87368424 -0.55838239 -0.65281023  0.50868355\n",
            "  0.46357206 -0.12148208 -0.26291562 -0.29078393  0.08816318 -0.94719049\n",
            " -0.05579492 -0.14262801 -0.53880368 -0.56881062  1.47837068 -0.61325784\n",
            "  0.4131896   1.36901951  0.74144946  0.02122233  1.01479931 -1.42454369\n",
            " -1.22979084 -0.39544501 -0.21922184 -0.09460687  1.88075025  1.68899606\n",
            " -0.03711867  0.25607027 -0.9063257   0.31981033 -1.34149193  1.40031595\n",
            " -0.51822772  0.55835265 -1.30547512  1.39204144  0.61210855  1.96032218\n",
            "  0.06880822 -1.61927444 -0.78365554 -1.25498393  1.57890107 -0.62403514\n",
            " -0.75208855  0.59610419  0.26692355  0.4933126  -0.50147834 -1.99770485\n",
            " -1.35874699 -2.19554107  1.28115129  0.91071166 -0.37366723  0.62449402\n",
            "  0.6740171   0.63701604  0.53295507  0.88498964  0.08319981 -2.21975447\n",
            " -2.76714798  1.26613253  0.59850924 -2.51309108]\n",
            "--------------------------------------------------\n",
            "51\n",
            "--------------------------------------------------\n",
            "49\n",
            "--------------------------------------------------\n",
            "True\n",
            "--------------------------------------------------\n",
            "False\n",
            "--------------------------------------------------\n"
          ]
        }
      ]
    },
    {
      "cell_type": "markdown",
      "source": [
        "# Sorting"
      ],
      "metadata": {
        "id": "kNL-69KbvMxE"
      }
    },
    {
      "cell_type": "code",
      "source": [
        "arr_sort = rng.standard_normal(6)\n",
        "print(arr_sort)\n",
        "print('-' * 50)\n",
        "arr_sort.sort() # sort the array\n",
        "print(arr_sort)\n",
        "print('-' * 60)\n",
        "arr_sort_mtx = rng.standard_normal((5, 3)) # create a matrix 5 * 3 with a normal distribution\n",
        "print(arr_sort_mtx)\n",
        "print('-' * 50)\n",
        "arr_sort_mtx.sort(axis = 0) # sort each column separately\n",
        "print(arr_sort_mtx)\n",
        "print('-' * 50)\n",
        "arr_sort_mtx.sort(axis = 1) # sort each row separately\n",
        "print(arr_sort_mtx)\n",
        "print('-' * 50)\n",
        "arr_sort2 = np.array([5, -10, 7, 1, 0, -3])\n",
        "arr_sorted = np.sort(arr_sort2)\n",
        "print(arr_sorted)\n",
        "print('-' * 50)"
      ],
      "metadata": {
        "colab": {
          "base_uri": "https://localhost:8080/"
        },
        "id": "5-GTLrbGtr0d",
        "outputId": "c2b68e73-d3d0-46ec-bbbc-6beb1dd991d8"
      },
      "execution_count": 49,
      "outputs": [
        {
          "output_type": "stream",
          "name": "stdout",
          "text": [
            "[-0.43089318  0.47262313  2.60178026 -0.06975678 -0.55302769 -0.94124853]\n",
            "--------------------------------------------------\n",
            "[-0.94124853 -0.55302769 -0.43089318 -0.06975678  0.47262313  2.60178026]\n",
            "------------------------------------------------------------\n",
            "[[ 0.89360757  0.1456107  -0.67772594]\n",
            " [-0.7575229   0.10953267 -0.92632813]\n",
            " [ 2.18799835 -0.11289456 -0.09870238]\n",
            " [-0.01159632 -1.73974683 -1.37611535]\n",
            " [-0.28289792  0.05640479 -1.16277153]]\n",
            "--------------------------------------------------\n",
            "[[-0.7575229  -1.73974683 -1.37611535]\n",
            " [-0.28289792 -0.11289456 -1.16277153]\n",
            " [-0.01159632  0.05640479 -0.92632813]\n",
            " [ 0.89360757  0.10953267 -0.67772594]\n",
            " [ 2.18799835  0.1456107  -0.09870238]]\n",
            "--------------------------------------------------\n",
            "[[-1.73974683 -1.37611535 -0.7575229 ]\n",
            " [-1.16277153 -0.28289792 -0.11289456]\n",
            " [-0.92632813 -0.01159632  0.05640479]\n",
            " [-0.67772594  0.10953267  0.89360757]\n",
            " [-0.09870238  0.1456107   2.18799835]]\n",
            "--------------------------------------------------\n",
            "[-10  -3   0   1   5   7]\n",
            "--------------------------------------------------\n"
          ]
        }
      ]
    },
    {
      "cell_type": "markdown",
      "source": [
        "# Unique and Other Set Logic"
      ],
      "metadata": {
        "id": "JerQ-tdN6UKb"
      }
    },
    {
      "cell_type": "code",
      "source": [
        "names = np.array([\"Bob\", \"Will\", \"Joe\", \"Bob\", \"Will\", \"Joe\", \"Joe\"])\n",
        "ints = np.array([3, 3, 3, 2, 2, 1, 1, 4, 4])\n",
        "print(np.unique(names)) # get unique elements\n",
        "print('-' * 50)\n",
        "print(np.unique(ints))\n",
        "print('-' * 50)\n",
        "print(sorted(set(names))) # sort the list alphabetic, convert to set\n",
        "print('-' * 50)\n",
        "values = np.array([6, 0, 0, 3, 2, 5, 6])\n",
        "print(np.isin(values, [2, 3, 6])) # Check for each element in 'values' whether it is in [2, 3, 6]\n",
        "print('-' * 50)"
      ],
      "metadata": {
        "colab": {
          "base_uri": "https://localhost:8080/"
        },
        "id": "kY-wEc4DvuPq",
        "outputId": "dbf8edf4-260e-4943-c594-4fafed3a2799"
      },
      "execution_count": 58,
      "outputs": [
        {
          "output_type": "stream",
          "name": "stdout",
          "text": [
            "['Bob' 'Joe' 'Will']\n",
            "--------------------------------------------------\n",
            "[1 2 3 4]\n",
            "--------------------------------------------------\n",
            "[np.str_('Bob'), np.str_('Joe'), np.str_('Will')]\n",
            "--------------------------------------------------\n",
            "[ True False False  True  True False  True]\n",
            "--------------------------------------------------\n"
          ]
        }
      ]
    },
    {
      "cell_type": "markdown",
      "source": [
        "# File Input and Output with Arrays"
      ],
      "metadata": {
        "id": "RyvKYJ8a80mT"
      }
    },
    {
      "cell_type": "code",
      "source": [
        "arr = np.arange(10)\n",
        "np.save(\"some_array\", arr) # save as some_array.npy"
      ],
      "metadata": {
        "id": "OgRNSNd06abe"
      },
      "execution_count": 70,
      "outputs": []
    },
    {
      "cell_type": "code",
      "source": [
        "np.load(\"some_array.npy\") # load file some_array.npy to read it"
      ],
      "metadata": {
        "colab": {
          "base_uri": "https://localhost:8080/"
        },
        "id": "X1u6wg5489MX",
        "outputId": "c363f0eb-82a5-4de9-8bc5-ec1eedb715fd"
      },
      "execution_count": 71,
      "outputs": [
        {
          "output_type": "execute_result",
          "data": {
            "text/plain": [
              "array([0, 1, 2, 3, 4, 5, 6, 7, 8, 9])"
            ]
          },
          "metadata": {},
          "execution_count": 71
        }
      ]
    },
    {
      "cell_type": "code",
      "source": [
        "np.savez(\"array_archive.npz\", a=arr, b=arr) # save more than array in the same file array_archive.npz"
      ],
      "metadata": {
        "id": "X0azyY9N9F6y"
      },
      "execution_count": 72,
      "outputs": []
    },
    {
      "cell_type": "code",
      "source": [
        "arch = np.load(\"array_archive.npz\") # load file array_archive.npz to read it\n",
        "arch[\"b\"] # select the array b from file"
      ],
      "metadata": {
        "colab": {
          "base_uri": "https://localhost:8080/"
        },
        "id": "8IOLaFvr9gEv",
        "outputId": "d82c6acb-e0ce-4231-e96e-704002078d97"
      },
      "execution_count": 73,
      "outputs": [
        {
          "output_type": "execute_result",
          "data": {
            "text/plain": [
              "array([0, 1, 2, 3, 4, 5, 6, 7, 8, 9])"
            ]
          },
          "metadata": {},
          "execution_count": 73
        }
      ]
    },
    {
      "cell_type": "code",
      "source": [
        "np.savez_compressed(\"arrays_compressed.npz\", a=arr, b=arr) # save more than array in the same file array_archive.npz but with compresse"
      ],
      "metadata": {
        "id": "O6WFSxE49hoU"
      },
      "execution_count": 74,
      "outputs": []
    },
    {
      "cell_type": "code",
      "source": [
        "compres = np.load(\"arrays_compressed.npz\") # load file arrays_compressed.npz to read it\n",
        "compres[\"b\"] # select the array b from file"
      ],
      "metadata": {
        "colab": {
          "base_uri": "https://localhost:8080/"
        },
        "id": "h93G1HQh-eo7",
        "outputId": "b2192575-dcbb-4439-f90c-3c0c2c2c723c"
      },
      "execution_count": 75,
      "outputs": [
        {
          "output_type": "execute_result",
          "data": {
            "text/plain": [
              "array([0, 1, 2, 3, 4, 5, 6, 7, 8, 9])"
            ]
          },
          "metadata": {},
          "execution_count": 75
        }
      ]
    },
    {
      "cell_type": "markdown",
      "source": [
        "# Linear Algebra"
      ],
      "metadata": {
        "id": "LT28IGhi-n5C"
      }
    },
    {
      "cell_type": "code",
      "source": [
        "a = np.array([[1., 2., 3.], [4., 5., 6.]])\n",
        "b = np.array([[6., 23.], [-1, 7], [8, 9]])\n",
        "\n",
        "print(a) # shape (2, 3)\n",
        "print('-' * 50)\n",
        "print(b) # shape (3, 2)\n",
        "print('-' * 50)\n",
        "# matrix multiplication 1.shape (2, 3), 2.shape (3, 2), so the shape will (2,2)\n",
        "# take a row * column\n",
        "# (1*6) + (2*-1) + (3*8) = 6 - 2 + 24 = 28, (1*23) + (2*7) + (3*9) = 23 + 14 + 27 = 64\n",
        "# (4*6) + (5*-1) + (6*8) = 24 - 5 + 48 = 67, (4*23) + (5*7) + (6*9) = 92 + 35 + 54 = 181\n",
        "print(a.dot(b))\n",
        "print('-' * 50)\n",
        "# multiplication a matrix with vector\n",
        "# np.ones(3) = [1, 1, 1], @ = dot()\n",
        "# a = [[1., 2., 3.], [4., 5., 6.]]\n",
        "# 1*1 + 2*1 + 3*1 = 6\n",
        "# 4*1 + 5*1 + 6*1 = 15\n",
        "print(a @ np.ones(3))\n",
        "print('-' * 50)\n",
        "from numpy.linalg import inv, qr # matrix inverse, Q -> orthogonal and R -> upper triangular\n",
        "arr_gib = rng.standard_normal((5, 5))\n",
        "mat = arr_gib.T @ arr_gib # matrix * transpose of matrix\n",
        "print(inv(mat)) # inverse matrix\n",
        "print('-' * 50)\n",
        "print(mat @ inv(mat)) # matrix × inverse(matrix) → yields Identity Matrix"
      ],
      "metadata": {
        "colab": {
          "base_uri": "https://localhost:8080/"
        },
        "id": "50zlgCe1-koU",
        "outputId": "49e74aa8-46b7-41ec-9dd6-526468d55ca5"
      },
      "execution_count": 90,
      "outputs": [
        {
          "output_type": "stream",
          "name": "stdout",
          "text": [
            "[[1. 2. 3.]\n",
            " [4. 5. 6.]]\n",
            "--------------------------------------------------\n",
            "[[ 6. 23.]\n",
            " [-1.  7.]\n",
            " [ 8.  9.]]\n",
            "--------------------------------------------------\n",
            "[[ 28.  64.]\n",
            " [ 67. 181.]]\n",
            "--------------------------------------------------\n",
            "[ 6. 15.]\n",
            "--------------------------------------------------\n",
            "[[ 0.74429752 -0.09909092  0.24512856 -0.14584711  0.29712463]\n",
            " [-0.09909092  0.15784893 -0.22265907 -0.01199779 -0.05163007]\n",
            " [ 0.24512856 -0.22265907  1.28108758 -0.01627008  1.49726281]\n",
            " [-0.14584711 -0.01199779 -0.01627008  0.13361466 -0.28950217]\n",
            " [ 0.29712463 -0.05163007  1.49726281 -0.28950217  5.45733984]]\n",
            "--------------------------------------------------\n",
            "[[ 1.00000000e+00  4.74276782e-18 -1.21325001e-16 -1.14930671e-17\n",
            "  -2.16651271e-16]\n",
            " [-2.06249991e-18  1.00000000e+00 -6.62984731e-16  1.19872512e-16\n",
            "  -9.41499863e-16]\n",
            " [ 3.33630869e-17  1.11279836e-16  1.00000000e+00 -3.14338317e-17\n",
            "  -4.90222017e-16]\n",
            " [ 3.39088867e-16 -1.97821732e-17  8.68204317e-17  1.00000000e+00\n",
            "  -4.13248270e-16]\n",
            " [-3.33169824e-17 -8.92085566e-18 -1.82546876e-17  6.79385145e-18\n",
            "   1.00000000e+00]]\n"
          ]
        }
      ]
    },
    {
      "cell_type": "markdown",
      "source": [
        "# Example: Random Walks"
      ],
      "metadata": {
        "id": "rsKj12WELFxT"
      }
    },
    {
      "cell_type": "code",
      "source": [
        "import random\n",
        "position = 0\n",
        "walk = [position]\n",
        "nsteps = 1000\n",
        "for _ in range(nsteps):\n",
        "  step = 1 if random.randint(0, 1) else -1\n",
        "  position += step\n",
        "  walk.append(position)\n",
        "\n",
        "plt.plot(walk[:100])"
      ],
      "metadata": {
        "colab": {
          "base_uri": "https://localhost:8080/",
          "height": 447
        },
        "id": "C8MP3sej-zqZ",
        "outputId": "6746cd44-573b-4a86-ec42-dad5f24b686f"
      },
      "execution_count": 99,
      "outputs": [
        {
          "output_type": "execute_result",
          "data": {
            "text/plain": [
              "[<matplotlib.lines.Line2D at 0x7c004f3dc610>]"
            ]
          },
          "metadata": {},
          "execution_count": 99
        },
        {
          "output_type": "display_data",
          "data": {
            "text/plain": [
              "<Figure size 640x480 with 1 Axes>"
            ],
            "image/png": "[encoded data removed]"
          },
          "metadata": {}
        }
      ]
    },
    {
      "cell_type": "code",
      "source": [
        "nsteps = 1000\n",
        "rnng = np.random.default_rng(seed=12345)\n",
        "draws = rnng.integers(0, 2, size = nsteps)\n",
        "steps = np.where(draws == 0, 1, -1)\n",
        "walk = steps.cumsum()\n",
        "\n",
        "print(walk.min())\n",
        "print(walk.max())\n",
        "print((np.abs(walk) >= 10).argmax())"
      ],
      "metadata": {
        "colab": {
          "base_uri": "https://localhost:8080/"
        },
        "id": "NYVFJfV5LIkg",
        "outputId": "022b4997-2e52-4c47-aa30-daabd000e53f"
      },
      "execution_count": 103,
      "outputs": [
        {
          "output_type": "stream",
          "name": "stdout",
          "text": [
            "-8\n",
            "50\n",
            "155\n"
          ]
        }
      ]
    },
    {
      "cell_type": "code",
      "source": [],
      "metadata": {
        "id": "FGU4X8pMN-4h"
      },
      "execution_count": null,
      "outputs": []
    }
  ]
}