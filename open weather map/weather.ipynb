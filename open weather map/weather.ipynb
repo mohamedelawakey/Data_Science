{
  "nbformat": 4,
  "nbformat_minor": 0,
  "metadata": {
    "colab": {
      "provenance": []
    },
    "kernelspec": {
      "name": "python3",
      "display_name": "Python 3"
    },
    "language_info": {
      "name": "python"
    }
  },
  "cells": [
    {
      "cell_type": "code",
      "source": [
        "import requests\n",
        "def display_weather(data_dic):\n",
        "  for key, value in data_dic.items():\n",
        "    print(f'{key.title()} : {value}')\n",
        "\n",
        "def get_weather_data(city):\n",
        "  my_key = 'dc402c46b6fbac9cfa06b3c65e169bca'\n",
        "  url = f'https://api.openweathermap.org/data/2.5/weather?q={city}&appid={my_key}&units=metric&lang=ar'\n",
        "  response = requests.get(url)\n",
        "  data = response.json()\n",
        "  if data['cod'] == '404':\n",
        "    print('city not found')\n",
        "    return\n",
        "  else:\n",
        "    print('* data of weather * ')\n",
        "    return display_weather(data['main'])"
      ],
      "metadata": {
        "id": "CrvZtAt5WWWY"
      },
      "execution_count": 28,
      "outputs": []
    },
    {
      "cell_type": "code",
      "source": [
        "get_weather_data('Cairo')"
      ],
      "metadata": {
        "colab": {
          "base_uri": "https://localhost:8080/"
        },
        "id": "FeH1r6ybXdiS",
        "outputId": "3b3c32cb-ee52-4d89-e504-1ca88543e93a"
      },
      "execution_count": 29,
      "outputs": [
        {
          "output_type": "stream",
          "name": "stdout",
          "text": [
            "* data of weather * \n",
            "Temp : 35.42\n",
            "Feels_Like : 34.86\n",
            "Temp_Min : 35.23\n",
            "Temp_Max : 35.42\n",
            "Pressure : 1005\n",
            "Humidity : 28\n",
            "Sea_Level : 1005\n",
            "Grnd_Level : 999\n"
          ]
        }
      ]
    },
    {
      "cell_type": "code",
      "source": [
        "%%writefile weather.py\n",
        "\n",
        "import requests\n",
        "def display_weather(data_dic):\n",
        "  for key, value in data_dic.items():\n",
        "    print(f'{key.title()} : {value}')\n",
        "\n",
        "def get_weather_data(city):\n",
        "  my_key = 'dc402c46b6fbac9cfa06b3c65e169bca'\n",
        "  url = f'https://api.openweathermap.org/data/2.5/weather?q={city}&appid={my_key}&units=metric&lang=ar'\n",
        "  response = requests.get(url)\n",
        "  data = response.json()\n",
        "  if data['cod'] == '404':\n",
        "    print('city not found')\n",
        "    return\n",
        "  else:\n",
        "    print('* data of weather * ')\n",
        "    return display_weather(data['main'])\n",
        "\n",
        "city = input('enter the cety name: ')\n",
        "get_weather_data(city)"
      ],
      "metadata": {
        "colab": {
          "base_uri": "https://localhost:8080/"
        },
        "id": "Tj3FuS2ZYDAi",
        "outputId": "664fbd2b-da41-4b54-ad00-b976798ad57d"
      },
      "execution_count": 30,
      "outputs": [
        {
          "output_type": "stream",
          "name": "stdout",
          "text": [
            "Writing weather.py\n"
          ]
        }
      ]
    },
    {
      "cell_type": "code",
      "source": [
        "!python weather.py"
      ],
      "metadata": {
        "colab": {
          "base_uri": "https://localhost:8080/"
        },
        "id": "0Oc3UbRLZBs5",
        "outputId": "ba2a6f39-1bbc-4589-b1e9-7581c7b1efab"
      },
      "execution_count": 32,
      "outputs": [
        {
          "output_type": "stream",
          "name": "stdout",
          "text": [
            "enter the cety name: cairo\n",
            "* data of weather * \n",
            "Temp : 35.42\n",
            "Feels_Like : 34.86\n",
            "Temp_Min : 35.23\n",
            "Temp_Max : 35.42\n",
            "Pressure : 1005\n",
            "Humidity : 28\n",
            "Sea_Level : 1005\n",
            "Grnd_Level : 999\n"
          ]
        }
      ]
    },
    {
      "cell_type": "code",
      "source": [],
      "metadata": {
        "id": "lmFfEYQoaFwy"
      },
      "execution_count": null,
      "outputs": []
    }
  ]
}