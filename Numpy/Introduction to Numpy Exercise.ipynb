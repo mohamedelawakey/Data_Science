{
 "cells": [
  {
   "cell_type": "markdown",
   "id": "adac0196-f6db-4fa3-989a-e97a2dbe59c6",
   "metadata": {},
   "source": [
    "# Exercises"
   ]
  },
  {
   "cell_type": "code",
   "execution_count": 36,
   "id": "a243639a-540f-4d77-9c66-974120f7fefc",
   "metadata": {},
   "outputs": [],
   "source": [
    "import numpy as np"
   ]
  },
  {
   "cell_type": "markdown",
   "id": "804b0c04-508e-4bed-b84b-cd7d6056c622",
   "metadata": {},
   "source": [
    "### Exercise 1\n",
    "Given a 2D NumPy array, pollution_data, representing daily air quality index values of a city for a week (rows for days and columns for different pollutants), write a code snippet to return the day (row) with the highest average pollution level.\n",
    "```python\n",
    "pollution_data = np.array([[45, 65, 70], [55, 60, 50], [60, 58, 67]])\n",
    "```\n",
    "```python\n",
    "# insert code here\n",
    "```"
   ]
  },
  {
   "cell_type": "code",
   "execution_count": 54,
   "id": "0a48d395-d8f3-4f7a-9888-6faf57ba8741",
   "metadata": {},
   "outputs": [
    {
     "data": {
      "text/plain": [
       "2"
      ]
     },
     "execution_count": 54,
     "metadata": {},
     "output_type": "execute_result"
    }
   ],
   "source": [
    "pollution_data = np.array(\n",
    "    [[45, 65, 70],\n",
    "    [55, 60, 50],\n",
    "    [60, 58, 67]]\n",
    ")\n",
    "\n",
    "# insert code here\n",
    "most_polluted_day_index  = np.argmax(pollution_data.mean(axis = 1))\n",
    "most_polluted_day_index"
   ]
  },
  {
   "cell_type": "markdown",
   "id": "7ff0b431-27b6-447f-bc18-d2150bd3ae1e",
   "metadata": {},
   "source": [
    "### Exercise 2\n",
    "A forest department is monitoring deforestation by analysing satellite data of five similarly sized regions. When the monitoring started, each region had full forest coverage (i.e. 100). The most recent data collected has been stored in a 1D NumPy array, forest_coverage, where each element represents the percentage of forest cover in different regions. Write code to calculate the total percentage of coverage lost, if each 1% reduction in forest cover equals 100 square kilometres.\n",
    "\n",
    "```python\n",
    "forest_coverage = np.array([70, 80, 65, 90, 85])\n",
    "```\n",
    "```python\n",
    "# insert code here\n",
    "```"
   ]
  },
  {
   "cell_type": "code",
   "execution_count": 55,
   "id": "2227e270-0400-484c-9257-f5492c136dc8",
   "metadata": {},
   "outputs": [
    {
     "data": {
      "text/plain": [
       "11000"
      ]
     },
     "execution_count": 55,
     "metadata": {},
     "output_type": "execute_result"
    }
   ],
   "source": [
    "forest_coverage = np.array([70, 80, 65, 90, 85])\n",
    "\n",
    "# insert code here\n",
    "total_forest_cover_lost = (100 - forest_coverage).sum() * 100\n",
    "total_forest_cover_lost "
   ]
  },
  {
   "cell_type": "markdown",
   "id": "5b6ffdb7-f8ad-4d31-ad08-d507f05b084f",
   "metadata": {},
   "source": [
    "### Exercise 3\n",
    "For a study on water conservation, we have a 2D NumPy array, water_quality, representing different water quality parameters (columns) for various water bodies (rows). Write code to find the water body index (row index) with the worst average quality parameter.\n",
    "```python\n",
    "water_quality = np.array([[7.8, 6.5, 8.0], [5.4, 7.2, 6.5]])\n",
    "```\n",
    "```python\n",
    "# insert code here\n",
    "```"
   ]
  },
  {
   "cell_type": "code",
   "execution_count": 56,
   "id": "0d8a865e-3cbe-4525-9072-ef09265c0f68",
   "metadata": {},
   "outputs": [
    {
     "data": {
      "text/plain": [
       "1"
      ]
     },
     "execution_count": 56,
     "metadata": {},
     "output_type": "execute_result"
    }
   ],
   "source": [
    "water_quality = np.array(\n",
    "    [[7.8, 6.5, 8.0],\n",
    "    [5.4, 7.2, 6.5]]\n",
    ")\n",
    "\n",
    "# insert code here\n",
    "water_quality_worst_average = np.argmin(water_quality.mean(axis = 1))\n",
    "water_quality_worst_average"
   ]
  },
  {
   "cell_type": "markdown",
   "id": "d1ed5bbf-ee44-4208-b116-e9a0462546ae",
   "metadata": {},
   "source": [
    "### Exercise 4\n",
    "Biologists tracking caracal movement have recorded the number of caracals spotted in different regions in a 2D NumPy array, animal_sightings. Each row represents a different region, and columns represent different days. Write a code snippet to find the index of the region with the highest average number of sightings.\n",
    "```python\n",
    "nimal_sightings = np.array([[5, 7, 8], [3, 4, 6], [9, 10, 7]])\n",
    "```\n",
    "```python\n",
    "# insert code here\n",
    "```"
   ]
  },
  {
   "cell_type": "code",
   "execution_count": 57,
   "id": "654fb9a2-f468-444c-b25f-68eb461879ec",
   "metadata": {},
   "outputs": [
    {
     "data": {
      "text/plain": [
       "2"
      ]
     },
     "execution_count": 57,
     "metadata": {},
     "output_type": "execute_result"
    }
   ],
   "source": [
    "animal_sightings = np.array(\n",
    "    [[5, 7, 8],\n",
    "    [3, 4, 6],\n",
    "    [9, 10, 7]]\n",
    ")\n",
    "\n",
    "# insert code here\n",
    "animal_sightings_highest_average = np.argmax(animal_sightings.mean(axis = 1))\n",
    "animal_sightings_highest_average"
   ]
  },
  {
   "cell_type": "markdown",
   "id": "b70c2295-0e0f-4455-b508-b1466b1bce10",
   "metadata": {},
   "source": [
    "### Exercise 5\n",
    "np.reshape() allows us to change the shape of an array without changing its data. For example, we can reshape a 1D array into a 2D array (matrix) or vice versa, as long as the total number of elements remains the same. Remember to read more about functions in the NumPy documentation if anything is unclear.\n",
    "\n",
    "Biologists have collected data on bird sightings in a region over a month, stored in a 1D NumPy array where each element represents the number of sightings on a particular day. Reshape this data into a 2D array (matrix) representing weeks and days (assume 4 weeks in a month, 7 days per week), and calculate the total sightings for each week.\n",
    "```python\n",
    "bird_sightings = np.array([3, 4, 2, 5, 1, 0, 4, 3, 5, 2, 1, 7, 8, 1, 2, 3, 4, 1, 0, 5, 6, 2, 3, 4, 1, 4, 6, 7])\n",
    "```\n",
    "```python\n",
    "# insert code here\n",
    "```"
   ]
  },
  {
   "cell_type": "code",
   "execution_count": 68,
   "id": "8e647f55-f8f7-4ab6-a838-77021c3f0641",
   "metadata": {},
   "outputs": [
    {
     "data": {
      "text/plain": [
       "array([19, 27, 21, 27])"
      ]
     },
     "execution_count": 68,
     "metadata": {},
     "output_type": "execute_result"
    }
   ],
   "source": [
    "bird_sightings = np.array([3, 4, 2, 5, 1, 0, 4, 3, 5, 2, 1, 7, 8, 1, 2, 3, 4, 1, 0, 5, 6, 2, 3, 4, 1, 4, 6, 7])\n",
    "\n",
    "# insert code here\n",
    "reshaped_sightings = bird_sightings.reshape(4, 7)\n",
    "total_sightings = reshaped_sightings.sum(axis = 1)\n",
    "total_sightings"
   ]
  },
  {
   "cell_type": "markdown",
   "id": "3bc24e34-c264-46d6-b9c9-16444bf7518c",
   "metadata": {},
   "source": [
    "### Exercise 6\n",
    "np.transpose() is a NumPy function that flips a matrix over its diagonal, switching the row and column indices of the array. This means that the first row becomes the first column, the second row becomes the second column, and so on.\n",
    "\n",
    "Meteorologists have recorded temperature and precipitation data over a year in a 2D array (rows for months, columns for temperature and precipitation). Transpose the array so that rows represent temperature and precipitation, and columns represent months. Then calculate the average temperature and precipitation over the year.\n",
    "```python\n",
    "climate_data = np.array([[22, 50], [25, 43], [28, 35], [30, 20], [27, 25], [25, 30], [23, 40], [24, 55], [22, 60], [20, 65], [18, 70], [22, 58]])\n",
    "```\n",
    "```python\n",
    "# insert code here\n",
    "```"
   ]
  },
  {
   "cell_type": "code",
   "execution_count": 74,
   "id": "953a446b-53ab-46ea-a965-8176aeb78d3b",
   "metadata": {},
   "outputs": [
    {
     "name": "stdout",
     "output_type": "stream",
     "text": [
      "[[22 25 28 30 27 25 23 24 22 20 18 22]\n",
      " [50 43 35 20 25 30 40 55 60 65 70 58]]\n",
      "23.833333333333332\n",
      "45.916666666666664\n"
     ]
    }
   ],
   "source": [
    "climate_data = np.array(\n",
    "    [[22, 50],\n",
    "     [25, 43],\n",
    "     [28, 35],\n",
    "     [30, 20],\n",
    "     [27, 25],\n",
    "     [25, 30],\n",
    "     [23, 40],\n",
    "     [24, 55],\n",
    "     [22, 60],\n",
    "     [20, 65],\n",
    "     [18, 70],\n",
    "     [22, 58]]\n",
    ")\n",
    "\n",
    "# insert code here\n",
    "climate_data_transposed = climate_data.T\n",
    "print(climate_data_transposed)\n",
    "average_temperature = climate_data_transposed[0].mean()\n",
    "average_precipitation = climate_data_transposed[1].mean()\n",
    "print(average_temperature)\n",
    "print(average_precipitation)"
   ]
  }
 ],
 "metadata": {
  "kernelspec": {
   "display_name": "Python 3 (ipykernel)",
   "language": "python",
   "name": "python3"
  },
  "language_info": {
   "codemirror_mode": {
    "name": "ipython",
    "version": 3
   },
   "file_extension": ".py",
   "mimetype": "text/x-python",
   "name": "python",
   "nbconvert_exporter": "python",
   "pygments_lexer": "ipython3",
   "version": "3.12.7"
  }
 },
 "nbformat": 4,
 "nbformat_minor": 5
}
