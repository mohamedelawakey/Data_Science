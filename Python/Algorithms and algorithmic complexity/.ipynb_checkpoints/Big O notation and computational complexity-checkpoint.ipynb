{
 "cells": [
  {
   "cell_type": "markdown",
   "id": "c94293c4-d62b-44ff-aa01-d1ecae3095f2",
   "metadata": {},
   "source": [
    "# O(1)"
   ]
  },
  {
   "cell_type": "code",
   "execution_count": 6,
   "id": "6ab7439b-fd97-4eae-afd8-6f768e87efa6",
   "metadata": {},
   "outputs": [
    {
     "data": {
      "text/plain": [
       "False"
      ]
     },
     "execution_count": 6,
     "metadata": {},
     "output_type": "execute_result"
    }
   ],
   "source": [
    "def is_first_element_null(elements):\n",
    "    return elements[0] == None\n",
    "\n",
    "is_first_element_null([10, 20, 30, 40])"
   ]
  },
  {
   "cell_type": "markdown",
   "id": "4c4bc659-a247-4667-9283-0511adfd922f",
   "metadata": {},
   "source": [
    "# O(N)"
   ]
  },
  {
   "cell_type": "code",
   "execution_count": 16,
   "id": "17bacd6a-8a0d-4024-8d33-bf24037cae01",
   "metadata": {},
   "outputs": [
    {
     "name": "stdout",
     "output_type": "stream",
     "text": [
      "True\n",
      "False\n"
     ]
    }
   ],
   "source": [
    "def contains_value(elements, string_value):\n",
    "    \"\"\"Run through all elements in the list and compare to string_value.\"\"\"\n",
    "    for e in elements:\n",
    "        if e == string_value:\n",
    "            return True\n",
    "    return False\n",
    "\n",
    "print(contains_value(['Mohamed', 'Ahmed', 'Ali', 'Nada', 'Sara', 'Alaa'], 'Nada'))\n",
    "print(contains_value(['Mohamed', 'Ahmed', 'Ali', 'Nada', 'Sara', 'Alaa'], 'jo'))"
   ]
  },
  {
   "cell_type": "markdown",
   "id": "dd8c358b-bbba-4d17-9924-4770195f1d49",
   "metadata": {},
   "source": [
    "# $O(N^2)$"
   ]
  },
  {
   "cell_type": "code",
   "execution_count": 17,
   "id": "565a355d-4b23-4b93-9eba-83ea7aa19844",
   "metadata": {},
   "outputs": [
    {
     "name": "stdout",
     "output_type": "stream",
     "text": [
      "False\n"
     ]
    }
   ],
   "source": [
    "def contains_duplicates(elements):\n",
    "    \"\"\"Check if any element in a list occurs more than once\"\"\"\n",
    "    for i, e1 in enumerate(elements):\n",
    "        for j, e2 in enumerate(elements):\n",
    "            \"\"\"return a true if the elements indices are different and the elements are the same\"\"\"\n",
    "            if ((i != j) & (e1 == e2)):\n",
    "                return True\n",
    "    return False\n",
    "\n",
    "print(contains_duplicates(['Mohamed', 'Ahmed', 'Ali', 'Nada', 'Sara', 'Alaa']))"
   ]
  },
  {
   "cell_type": "markdown",
   "id": "1701af40-788f-4698-a32b-7af4622439f7",
   "metadata": {},
   "source": [
    "# $O(2^N)$"
   ]
  },
  {
   "cell_type": "code",
   "execution_count": 18,
   "id": "da3cb1b9-9e88-4fce-9697-1c747858b695",
   "metadata": {},
   "outputs": [
    {
     "data": {
      "text/plain": [
       "89"
      ]
     },
     "execution_count": 18,
     "metadata": {},
     "output_type": "execute_result"
    }
   ],
   "source": [
    "def fibonacci(number):\n",
    "    \"\"\"\n",
    "    The Fibonacci sequence is characterised by the fact that every number \n",
    "    after the first two is the sum of the two preceding ones        \n",
    "    \"\"\"\n",
    "    if number <= 1:\n",
    "        return 1\n",
    "    return fibonacci(number - 2) + fibonacci(number - 1)\n",
    "\n",
    "fibonacci(10)"
   ]
  },
  {
   "cell_type": "markdown",
   "id": "e0d94e01-9d61-4b13-925d-23a44ffbd9dc",
   "metadata": {},
   "source": [
    "# O(logN) --> Binary search algorithm"
   ]
  },
  {
   "cell_type": "code",
   "execution_count": 25,
   "id": "1455e2a8-0d31-4a1d-a407-9b3efe10cce8",
   "metadata": {},
   "outputs": [
    {
     "data": {
      "text/plain": [
       "4"
      ]
     },
     "execution_count": 25,
     "metadata": {},
     "output_type": "execute_result"
    }
   ],
   "source": [
    "def binary_search(elements, string_val):\n",
    "\n",
    "    if len(elements) == 1:\n",
    "        return 0 if elements[0] == string_val else None\n",
    "\n",
    "    mid = len(elements) // 2\n",
    "    if string_val == elements[mid]:\n",
    "        return mid\n",
    "\n",
    "    if string_val < elements[mid]:\n",
    "        return binary_search(elements[:mid], string_val)\n",
    "    else:\n",
    "        return mid + binary_search(elements[mid:], string_val)\n",
    "\n",
    "binary_search([1, 2, 3, 4, 5, 6, 7, 8, 9, 10], 5)"
   ]
  },
  {
   "cell_type": "markdown",
   "id": "23c375b5-3027-48fa-8a79-09c4daf0c773",
   "metadata": {},
   "source": [
    "# In order from best to worst:\n",
    "\n",
    "- O(1)\n",
    "- O(logN)\n",
    "- O(N)\n",
    "- $O(N^2)$\n",
    "- $O(2^N)$"
   ]
  }
 ],
 "metadata": {
  "kernelspec": {
   "display_name": "Python 3 (ipykernel)",
   "language": "python",
   "name": "python3"
  },
  "language_info": {
   "codemirror_mode": {
    "name": "ipython",
    "version": 3
   },
   "file_extension": ".py",
   "mimetype": "text/x-python",
   "name": "python",
   "nbconvert_exporter": "python",
   "pygments_lexer": "ipython3",
   "version": "3.12.7"
  }
 },
 "nbformat": 4,
 "nbformat_minor": 5
}
