{
 "cells": [
  {
   "cell_type": "markdown",
   "id": "ce86e62e-5ae0-432b-bfad-81ad42839304",
   "metadata": {},
   "source": [
    "# Exercises"
   ]
  },
  {
   "cell_type": "markdown",
   "id": "9fd4fa6f-e7b5-4620-9d05-f28874b71139",
   "metadata": {},
   "source": [
    "### Exercise 1\n",
    "Write a function named linear_merge that takes two lists as inputs. Both input lists are sorted in increasing order.\n",
    "\n",
    "The function should return a merged list of all the elements in sorted order.\n",
    "\n",
    "Note:\n",
    "\n",
    "- The solution should operate in linear time complexity. This means the function should ideally make only a single pass through each list.\n",
    "- Avoid using Python's built-in sorting functions, as they are slower than linear time."
   ]
  },
  {
   "cell_type": "code",
   "execution_count": 1,
   "id": "73e45132-ad12-425b-aa78-bd426f4317bd",
   "metadata": {},
   "outputs": [
    {
     "name": "stdout",
     "output_type": "stream",
     "text": [
      "['aa', 'bb', 'cc', 'xx', 'zz']\n",
      "['apple', 'searching', 'small', 'sorting', 'van']\n",
      "['funny', 'giant', 'hello', 'world', 'zoo']\n",
      "['egg', 'patch', 'stall', 'tour', 'yak', 'zombie']\n",
      "['aab', 'aac', 'aad', 'aae', 'aaf']\n"
     ]
    }
   ],
   "source": [
    "### START FUNCTION\n",
    "def linear_merge(list1, list2):\n",
    "    # your code here\n",
    "    result = []\n",
    "    i = j = 0\n",
    "\n",
    "    while i < len(list1) and j < len(list2):\n",
    "        if list1[i] <= list2[j]:\n",
    "            result.append(list1[i])\n",
    "            i += 1\n",
    "        else:\n",
    "            result.append(list2[j])\n",
    "            j += 1\n",
    "            \n",
    "    result.extend(list1[i:])\n",
    "    result.extend(list2[j:])\n",
    "    return result\n",
    "### END FUNCTION\n",
    "\n",
    "print(linear_merge(['aa', 'xx', 'zz'], ['bb', 'cc']))\n",
    "print(linear_merge(['searching', 'sorting', 'van'], ['apple', 'small']))\n",
    "print(linear_merge(['hello', 'world'], ['funny', 'giant', 'zoo']))\n",
    "print(linear_merge(['patch', 'tour', 'yak', 'zombie'], ['egg', 'stall']))\n",
    "print(linear_merge(['aab', 'aad', 'aaf'], ['aac', 'aae']))"
   ]
  }
 ],
 "metadata": {
  "kernelspec": {
   "display_name": "Python 3 (ipykernel)",
   "language": "python",
   "name": "python3"
  },
  "language_info": {
   "codemirror_mode": {
    "name": "ipython",
    "version": 3
   },
   "file_extension": ".py",
   "mimetype": "text/x-python",
   "name": "python",
   "nbconvert_exporter": "python",
   "pygments_lexer": "ipython3",
   "version": "3.12.7"
  }
 },
 "nbformat": 4,
 "nbformat_minor": 5
}
