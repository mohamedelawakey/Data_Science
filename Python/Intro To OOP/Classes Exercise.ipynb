{
 "cells": [
  {
   "cell_type": "markdown",
   "id": "15c7bd88-a5ed-4939-966c-e265561e9d64",
   "metadata": {},
   "source": [
    "# Exercises"
   ]
  },
  {
   "cell_type": "markdown",
   "id": "e74f708d-5810-4b12-885d-4cd42485791b",
   "metadata": {},
   "source": [
    "### Encapsulation\n",
    "Create a Python class called Ecosystem that represents an ecosystem. This class should have the following attributes:\n",
    "\n",
    "- name (string): The name of the ecosystem (e.g., \"Rainforest\", \"Savanna\").\n",
    "- description (string): A brief description of the ecosystem.\n",
    "- biodiversity_index (float): A numerical value representing the biodiversity index of the ecosystem (ranging from to 1, where 1 indicates high biodiversity). \n",
    "* Implement methods to:\n",
    "    - Initialise an Ecosystem object with a name, description, and biodiversity index.\n",
    "    - Display the details of the ecosystem, including its name, description, and biodiversity index.\n",
    "    - Update the description of the ecosystem.\n",
    "\n",
    "```python\n",
    "# insert code here\n",
    "```"
   ]
  },
  {
   "cell_type": "code",
   "execution_count": 3,
   "id": "c7ec3702-609b-4fa2-9ec4-8bca9f7c0582",
   "metadata": {},
   "outputs": [
    {
     "name": "stdout",
     "output_type": "stream",
     "text": [
      "Ecosystem Details:\n",
      "Ecosystem Name: Rainforest\n",
      "Description: Lush and diverse tropical rainforest\n",
      "Biodiversity Index: 0.85\n",
      "\n",
      "Updated Ecosystem Description:\n",
      "Ecosystem Name: Rainforest\n",
      "Description: Diverse and vital tropical rainforest\n",
      "Biodiversity Index: 0.85\n"
     ]
    }
   ],
   "source": [
    "class Ecosystem:\n",
    "    def __init__(self, name, description, biodiversity_index):\n",
    "        self.name = name\n",
    "        self.description = description\n",
    "        self.biodiversity_index = biodiversity_index\n",
    "    def display_details(self):\n",
    "        print(f\"Ecosystem Name: {self.name}\")\n",
    "        print(f\"Description: {self.description}\")\n",
    "        print(f\"Biodiversity Index: {self.biodiversity_index}\")\n",
    "\n",
    "    def update_description(self, new_description):\n",
    "        self.description = new_description\n",
    "\n",
    "ecosystem = Ecosystem(\"Rainforest\", \"Lush and diverse tropical rainforest\", 0.85)\n",
    "\n",
    "print(\"Ecosystem Details:\")\n",
    "ecosystem.display_details()\n",
    "\n",
    "ecosystem.update_description(\"Diverse and vital tropical rainforest\")\n",
    "\n",
    "print(\"\\nUpdated Ecosystem Description:\")\n",
    "ecosystem.display_details()"
   ]
  },
  {
   "cell_type": "markdown",
   "id": "68490b34-1953-4ebd-97f6-c8281181ac7b",
   "metadata": {},
   "source": [
    "### Inheritance\n",
    "Create a subclass of Ecosystem called Forest which should have the following additional attributes:\n",
    "\n",
    "- tree_species (list of strings): A list of tree species found in the forest (initially empty).\n",
    "- carbon_sequestration_rate (float): A numerical value representing the rate at which the forest sequesters carbon (measured in tons per year).\n",
    "\n",
    "* Implement methods to:\n",
    "    - Initialise a Forest object with a name, description, biodiversity index, and carbon sequestration rate.\n",
    "    - Add a tree species to the list of tree species.\n",
    "    - Display the tree species in the forest.\n",
    "```python\n",
    "# insert code here\n",
    "```"
   ]
  },
  {
   "cell_type": "code",
   "execution_count": 4,
   "id": "85b499f4-2bee-4937-b7f4-57e1df310815",
   "metadata": {},
   "outputs": [
    {
     "name": "stdout",
     "output_type": "stream",
     "text": [
      "Forest Details:\n",
      "Ecosystem Name: Tropical Forest\n",
      "Description: Dense tropical forest with diverse wildlife\n",
      "Biodiversity Index: 0.75\n",
      "\n",
      "Tree Species in the Forest:\n",
      "Tree Species in the Forest: Mahogany, Teak, Oak\n"
     ]
    }
   ],
   "source": [
    "class Forest(Ecosystem):\n",
    "    def __init__(self, name, description, biodiversity_index, carbon_sequestration_rate):\n",
    "        super().__init__(name, description, biodiversity_index)\n",
    "        self.tree_species = []\n",
    "        self.carbon_sequestration_rate = carbon_sequestration_rate\n",
    "\n",
    "    def add_tree_species(self, species):\n",
    "        self.tree_species.append(species)\n",
    "\n",
    "    def display_tree_species(self):\n",
    "        print(f\"Tree Species in the Forest: {', '.join(self.tree_species)}\")\n",
    "\n",
    "forest = Forest(\"Tropical Forest\", \"Dense tropical forest with diverse wildlife\", 0.75, 1000.0)\n",
    "\n",
    "print(\"Forest Details:\")\n",
    "forest.display_details()\n",
    "\n",
    "forest.add_tree_species(\"Mahogany\")\n",
    "forest.add_tree_species(\"Teak\")\n",
    "forest.add_tree_species(\"Oak\")\n",
    "\n",
    "print(\"\\nTree Species in the Forest:\")\n",
    "forest.display_tree_species()"
   ]
  },
  {
   "cell_type": "markdown",
   "id": "c48e973b-73f4-4809-b0ec-c4a08206182e",
   "metadata": {},
   "source": [
    "### Polymorphism\n",
    "Create a class called Wildlife that should have a method habitat that returns a string describing the habitat of the wildlife. Create two subclasses: Mammal and Bird. Each subclass should implement the habitat() method to describe the habitat of mammals and birds, respectively.\n",
    "\n",
    "```python\n",
    "# insert code here\n",
    "```"
   ]
  },
  {
   "cell_type": "code",
   "execution_count": 5,
   "id": "36ba6688-a6db-419d-b19b-ff47a1312077",
   "metadata": {},
   "outputs": [
    {
     "name": "stdout",
     "output_type": "stream",
     "text": [
      "Habitat of Mammals:\n",
      "Mammals can be found in various habitats, including forests, grasslands, and deserts.\n",
      "\n",
      "Habitat of Birds:\n",
      "Birds inhabit a wide range of environments, including forests, wetlands, and urban areas.\n"
     ]
    }
   ],
   "source": [
    "class Wildlife:\n",
    "    def habitat(self):\n",
    "        pass\n",
    "\n",
    "class Mammal(Wildlife):\n",
    "    def habitat(self):\n",
    "        return \"Mammals can be found in various habitats, including forests, grasslands, and deserts.\"\n",
    "\n",
    "class Bird(Wildlife):\n",
    "    def habitat(self):\n",
    "        return \"Birds inhabit a wide range of environments, including forests, wetlands, and urban areas.\"\n",
    "\n",
    "mammal = Mammal()\n",
    "bird = Bird()\n",
    "\n",
    "print(\"Habitat of Mammals:\")\n",
    "print(mammal.habitat())\n",
    "\n",
    "print(\"\\nHabitat of Birds:\")\n",
    "print(bird.habitat())"
   ]
  },
  {
   "cell_type": "markdown",
   "id": "da93946c-3b00-448a-865e-51173ebc703e",
   "metadata": {},
   "source": [
    "### Abstraction\n",
    "Create an abstract base class called ConservationEfforts that should have an abstract method implement_effort() to describe how a specific conservation effort is implemented. Create two subclasses: Reforestation and WildlifeProtection. Each subclass should implement the implement_effort()method to describe how reforestation and wildlife protection efforts are implemented.\n",
    "\n",
    "Hint: You can use from abc import ABC, abstractmethod to create an abstract base class with an abstract method for abstraction.\n",
    "\n",
    "```python\n",
    "# insert code here\n",
    "```"
   ]
  },
  {
   "cell_type": "code",
   "execution_count": 8,
   "id": "e0912ec4-4b98-41d2-96b3-c71ac77f94a9",
   "metadata": {},
   "outputs": [
    {
     "name": "stdout",
     "output_type": "stream",
     "text": [
      "Reforestation Effort:\n",
      "Reforestation involves planting trees in deforested areas to restore ecosystems and combat climate change.\n",
      "\n",
      "Wildlife Protection Effort:\n",
      "Wildlife protection efforts focus on conserving endangered species and their habitats.\n"
     ]
    }
   ],
   "source": [
    "from abc import ABC\n",
    "\n",
    "class ConservationEfforts(ABC):\n",
    "    def implement_effort(self):\n",
    "        pass\n",
    "\n",
    "class Reforestation(ConservationEfforts):\n",
    "    def implement_effort(self):\n",
    "        return \"Reforestation involves planting trees in deforested areas to restore ecosystems and combat climate change.\"\n",
    "\n",
    "class WildlifeProtection(ConservationEfforts):\n",
    "    def implement_effort(self):\n",
    "        return \"Wildlife protection efforts focus on conserving endangered species and their habitats.\"\n",
    "\n",
    "reforestation = Reforestation()\n",
    "wildlife_protection = WildlifeProtection()\n",
    "\n",
    "print(\"Reforestation Effort:\")\n",
    "print(reforestation.implement_effort())\n",
    "\n",
    "print(\"\\nWildlife Protection Effort:\")\n",
    "print(wildlife_protection.implement_effort())"
   ]
  }
 ],
 "metadata": {
  "kernelspec": {
   "display_name": "Python 3 (ipykernel)",
   "language": "python",
   "name": "python3"
  },
  "language_info": {
   "codemirror_mode": {
    "name": "ipython",
    "version": 3
   },
   "file_extension": ".py",
   "mimetype": "text/x-python",
   "name": "python",
   "nbconvert_exporter": "python",
   "pygments_lexer": "ipython3",
   "version": "3.12.7"
  }
 },
 "nbformat": 4,
 "nbformat_minor": 5
}
