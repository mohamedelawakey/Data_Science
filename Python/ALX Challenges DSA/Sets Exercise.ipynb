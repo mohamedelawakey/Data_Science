{
 "cells": [
  {
   "cell_type": "markdown",
   "id": "c265c0ad-e1c4-4880-a9b8-d8b3d850093c",
   "metadata": {},
   "source": [
    "# Exercises"
   ]
  },
  {
   "cell_type": "markdown",
   "id": "c1e8bb6c-c4d7-47eb-bb2b-aa4d250e4643",
   "metadata": {},
   "source": [
    "### Exercise 1\n",
    "1) Our forest rehabilitation centre contains various trees. To make sure we have all the species covered, we have to determine which unique trees we have already planted.\n",
    "\n",
    "Convert the provided tree_list to a set, tree_set.\n",
    "Confirm that our new variable is a set.\n",
    "Print the original variable, as well as our new variable. What can we notice about the order of elements?\n",
    "\n",
    "``` python \n",
    "# creating a list\n",
    "tree_list = ['Tamboti', 'Baobab', 'Umbrella thorn', 'Yellowwood', 'Fever Tree', 'Moringa',\n",
    "             'Marula', 'Waterpear','Baobab', 'Fountain Tree', 'Papaya Tree', 'Indian Laurel', 'Moringa']\n",
    "# insert your code here \n",
    "```\n",
    "- Compare the number of elements in tree_list to tree_set. Print the number of elements in each."
   ]
  },
  {
   "cell_type": "code",
   "execution_count": 21,
   "id": "6d3d13ed-ba8c-42f9-a3f0-b7c9ef1c07d5",
   "metadata": {},
   "outputs": [
    {
     "name": "stdout",
     "output_type": "stream",
     "text": [
      "['Tamboti', 'Baobab', 'Umbrella thorn', 'Yellowwood', 'Fever Tree', 'Moringa', 'Marula', 'Waterpear', 'Baobab', 'Fountain Tree', 'Papaya Tree', 'Indian Laurel', 'Moringa'] \n",
      "\n",
      "{'Yellowwood', 'Baobab', 'Umbrella thorn', 'Papaya Tree', 'Tamboti', 'Fountain Tree', 'Indian Laurel', 'Marula', 'Fever Tree', 'Waterpear', 'Moringa'}\n",
      "\n",
      "we can show that a list was have more elements cause it allow duplicates, but set no\n"
     ]
    }
   ],
   "source": [
    "# creating a list\n",
    "tree_list = ['Tamboti', 'Baobab', 'Umbrella thorn', 'Yellowwood', 'Fever Tree', 'Moringa',\n",
    "             'Marula', 'Waterpear','Baobab', 'Fountain Tree', 'Papaya Tree', 'Indian Laurel', 'Moringa']\n",
    "\n",
    "# insert your code here \n",
    "tree_set = set(tree_list)\n",
    "print(tree_list, '\\n')\n",
    "print(tree_set)\n",
    "print('\\nwe can show that a list was have more elements cause it allow duplicates, but set no')"
   ]
  },
  {
   "cell_type": "code",
   "execution_count": 26,
   "id": "1568e310-4552-442e-8d9a-a0306571da57",
   "metadata": {},
   "outputs": [
    {
     "name": "stdout",
     "output_type": "stream",
     "text": [
      "13\n",
      "11\n"
     ]
    }
   ],
   "source": [
    "print(len(tree_list))\n",
    "print(len(tree_set))"
   ]
  },
  {
   "cell_type": "markdown",
   "id": "8d30bd11-efbf-453f-b429-0547c9fc275f",
   "metadata": {},
   "source": [
    "# Exercise 2\n",
    "A conservationist recently spent two days in a national park in South Africa and was writing down tree types in a notebook. Each of the days was captured separately and we need to create two variables for these trees using sets: day_1_trees and day_2_trees.\n",
    "\n",
    "Day 1 captured the following tree types:\n",
    "Baobab, Buffalo Thorn, Bushwillow, Jackalberry, Knob Thorn, Lala Palm, Marula Tree, Umbrella Thorn, Weeping Boer Bean, Sausage Tree.\n",
    "\n",
    "Day 2 captured the following tree types:\n",
    "Mopane Tree, Bushwillow, Knob Thorn, Jackalberry, Nara Plant, Wild Date Palm, Natal Mahogany, Tamboti, Leadwood, Bushwillow.\n",
    "\n",
    "``` python\n",
    "# insert your code here \n",
    "```\n",
    "\n",
    "One of the benefits of using sets is that there are built-in methods that can be used on them. The following commands:\n",
    "\n",
    "- union\n",
    "- intersection\n",
    "- difference\n",
    "are especially useful when presented with sets we'd like to compare and manipulate based on their elements.\n",
    "1. Using the commands above, we have been tasked to do the following:\n",
    "- Create a set called union_result that combines day_1_trees and day_2_trees.\n",
    "- Create a set called both_days that returns trees that were seen on both day 1 and day 2, so are in both day_1_trees and day_2_trees.\n",
    "- Create a set that contains the trees that are in the day_2_trees set, but not in day_1_trees.\n",
    "- Create a set called one_set_result that contains trees found in one of these sets only.\n",
    "Hint: Take a look at the Python documentation if you're not sure where to start.\n",
    "\n",
    "``` python\n",
    "# insert your code here \n",
    "```\n",
    "\n",
    "Determine whether the both_days set is a subset of day_1_trees.\n",
    "Hint: If you haven't come across the command for this yet, try hitting the tab key to search for the relevant command or look it up in the Python documentation.\n",
    "\n",
    "``` python\n",
    "# insert your code here \n",
    "```\n",
    "\n",
    "Determine whether all of the elements in the following variable, hardwood_trees, are contained in day_2_trees. Ideally, we'd like to run a single command to test this.\n",
    "\n",
    "``` python\n",
    "hardwood_trees = {'Yellowwood', 'Leadwood', 'Blackwood'}\n",
    "\n",
    "# insert your code here\n",
    "```\n"
   ]
  },
  {
   "cell_type": "code",
   "execution_count": 53,
   "id": "8be107b8-6a08-4e5e-aec6-1e09d76fcbc5",
   "metadata": {},
   "outputs": [
    {
     "name": "stdout",
     "output_type": "stream",
     "text": [
      "{'Baobab', 'Weeping Boer Bean', 'Bushwillow', 'Sausage Tree', 'Marula Tree', 'Knob Thorn', 'Jackalberry', 'Buffalo Thorn', 'Umbrella Thorn', 'Lala Palm'} \n",
      "\n",
      "{'Bushwillow', 'Nara Plant', 'Jackalberry', 'Tamboti', 'Knob Thorn', 'Mopane Tree', 'Leadwood', 'Wild Date Palm', 'Natal Mahogany'}\n"
     ]
    }
   ],
   "source": [
    "day_1_trees = {\n",
    "    \"Baobab\", \"Buffalo Thorn\", \"Bushwillow\", \"Jackalberry\", \"Knob Thorn\",\n",
    "    \"Lala Palm\", \"Marula Tree\", \"Umbrella Thorn\", \"Weeping Boer Bean\", \"Sausage Tree\"\n",
    "}\n",
    "day_2_trees = {\n",
    "    \"Mopane Tree\", \"Bushwillow\", \"Knob Thorn\", \"Jackalberry\", \"Nara Plant\",\n",
    "    \"Wild Date Palm\", \"Natal Mahogany\", \"Tamboti\", \"Leadwood\", \"Bushwillow\"\n",
    "}\n",
    "print(day_1_trees, '\\n')\n",
    "print(day_2_trees)"
   ]
  },
  {
   "cell_type": "code",
   "execution_count": 61,
   "id": "ba37a9f0-d226-4020-b754-118bfcbda38b",
   "metadata": {},
   "outputs": [
    {
     "name": "stdout",
     "output_type": "stream",
     "text": [
      "Union Result: {'Bushwillow', 'Jackalberry', 'Tamboti', 'Buffalo Thorn', 'Leadwood', 'Wild Date Palm', 'Natal Mahogany', 'Baobab', 'Weeping Boer Bean', 'Sausage Tree', 'Marula Tree', 'Nara Plant', 'Knob Thorn', 'Mopane Tree', 'Umbrella Thorn', 'Lala Palm'}\n",
      "\n",
      "Both Days: {'Knob Thorn', 'Jackalberry', 'Bushwillow'}\n",
      "\n",
      "Day 2 only: {'Nara Plant', 'Tamboti', 'Mopane Tree', 'Leadwood', 'Wild Date Palm', 'Natal Mahogany'}\n",
      "\n",
      "One Set Result: {'Baobab', 'Weeping Boer Bean', 'Sausage Tree', 'Marula Tree', 'Nara Plant', 'Tamboti', 'Mopane Tree', 'Leadwood', 'Buffalo Thorn', 'Lala Palm', 'Umbrella Thorn', 'Wild Date Palm', 'Natal Mahogany'}\n"
     ]
    }
   ],
   "source": [
    "union_result = day_1_trees.union(day_2_trees)\n",
    "both_days = day_1_trees.intersection(day_2_trees)\n",
    "day2_not_day1 = day_2_trees.difference(day_1_trees)\n",
    "one_set_result = day_1_trees.symmetric_difference(day_2_trees)\n",
    "\n",
    "print(\"Union Result:\", union_result)\n",
    "print(\"\\nBoth Days:\", both_days)\n",
    "print(\"\\nDay 2 only:\", day2_not_day1)\n",
    "print(\"\\nOne Set Result:\", one_set_result)"
   ]
  },
  {
   "cell_type": "code",
   "execution_count": 62,
   "id": "8e8c6df0-68df-4960-92ba-a2cf50a4dacc",
   "metadata": {},
   "outputs": [
    {
     "name": "stdout",
     "output_type": "stream",
     "text": [
      "True\n"
     ]
    }
   ],
   "source": [
    "print(both_days.issubset(day_1_trees))"
   ]
  },
  {
   "cell_type": "code",
   "execution_count": 64,
   "id": "e4043705-257c-42ca-91d1-47a3ba8016c1",
   "metadata": {},
   "outputs": [
    {
     "name": "stdout",
     "output_type": "stream",
     "text": [
      "False\n"
     ]
    }
   ],
   "source": [
    "hardwood_trees = {'Yellowwood', 'Leadwood', 'Blackwood'}\n",
    "\n",
    "# insert your code here\n",
    "print(day_2_trees in hardwood_trees)"
   ]
  }
 ],
 "metadata": {
  "kernelspec": {
   "display_name": "Python 3 (ipykernel)",
   "language": "python",
   "name": "python3"
  },
  "language_info": {
   "codemirror_mode": {
    "name": "ipython",
    "version": 3
   },
   "file_extension": ".py",
   "mimetype": "text/x-python",
   "name": "python",
   "nbconvert_exporter": "python",
   "pygments_lexer": "ipython3",
   "version": "3.12.7"
  }
 },
 "nbformat": 4,
 "nbformat_minor": 5
}
