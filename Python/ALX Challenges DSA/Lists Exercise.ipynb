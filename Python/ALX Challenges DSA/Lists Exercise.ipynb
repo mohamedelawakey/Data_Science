{
 "cells": [
  {
   "cell_type": "markdown",
   "id": "b81abccc-bd0d-4b2c-8905-4de22745be63",
   "metadata": {},
   "source": [
    "# Exercises"
   ]
  },
  {
   "cell_type": "markdown",
   "id": "3f7075c8-1d74-4f28-9425-2bdb025a1e04",
   "metadata": {},
   "source": [
    "# Exercise 1\n",
    "Suppose we want to label the trees we plant in our plantation, using integer numbers. Let's create a list containing integers from 1 to 5, named first_trees.\n",
    "If this list was created by specifying each element individually, see whether you can find another way to create the variable.\n",
    "- Our plantation has expanded a lot in the last few weeks. We need to create a list of trees planted within 15 cm of an irrigation device. Create a list called tree_list, starting at 20, ranging to 140, in increments of 4 (i.e. 20, 24,...,140).\n",
    "- When we created our irrigation tree list, we forgot about a tree that is watered by an older irrigation system. Append the number 400 to the end of the tree_list.\n",
    "- We decide to install irrigation for three older trees that were planted long ago. Create a new variable called combined_trees by combining our existing tree_list with another list, old_trees = [500, 600, 700]. Your list should now contain 35 elements.\n",
    "- We are interested in creating a list of lists or nested list. We have two lists of seed-producing plants, conifers and cycads. Given these lists in the code block below, create a variable called gymnosperms, the family group to which these trees belong.\n",
    "``` python\n",
    "conifers = [\"Pine\", \"Fir\", \"Juniper\"]\n",
    "cycads = [\"Cycas\", \"Sago palm\", \"Zamia\"]\n",
    "\n",
    "# insert code here \n",
    "```\n",
    "- We are specifically interested in planting cycas and sago palms. Use indexing on the gymnosperms list to create a new list that consists of Cycas and Sago palm.\n",
    "- We need to combine the plants within the conifers and cycads lists, then sort them in alphabetical order. Create a list, ordered_plants, to store them in.\n",
    "* Hint: The list variable should contain all the plants as individual elements before sorting it."
   ]
  },
  {
   "cell_type": "code",
   "execution_count": 9,
   "id": "07c115a4-ecd6-45e0-9b77-9b5e9417a1b1",
   "metadata": {},
   "outputs": [
    {
     "name": "stdout",
     "output_type": "stream",
     "text": [
      "[1, 2, 3, 4, 5]\n"
     ]
    }
   ],
   "source": [
    "first_trees = [1, 2, 3, 4, 5]\n",
    "print(first_trees)"
   ]
  },
  {
   "cell_type": "code",
   "execution_count": 24,
   "id": "f2244412-9cae-45e1-8815-55649acd6ff9",
   "metadata": {},
   "outputs": [
    {
     "name": "stdout",
     "output_type": "stream",
     "text": [
      "[20, 24, 28, 32, 36, 40, 44, 48, 52, 56, 60, 64, 68, 72, 76, 80, 84, 88, 92, 96, 100, 104, 108, 112, 116, 120, 124, 128, 132, 136, 140]\n"
     ]
    }
   ],
   "source": [
    "tree_list = list(range(20, 141, 4))\n",
    "print(tree_list)"
   ]
  },
  {
   "cell_type": "code",
   "execution_count": 25,
   "id": "48f3d432-c7a3-498b-9a87-c69c20db550f",
   "metadata": {},
   "outputs": [
    {
     "name": "stdout",
     "output_type": "stream",
     "text": [
      "[20, 24, 28, 32, 36, 40, 44, 48, 52, 56, 60, 64, 68, 72, 76, 80, 84, 88, 92, 96, 100, 104, 108, 112, 116, 120, 124, 128, 132, 136, 140, 400]\n"
     ]
    }
   ],
   "source": [
    "tree_list.append(400)\n",
    "print(tree_list)"
   ]
  },
  {
   "cell_type": "code",
   "execution_count": 26,
   "id": "f7250451-8b40-44ea-95b4-df34a013e5fd",
   "metadata": {},
   "outputs": [
    {
     "name": "stdout",
     "output_type": "stream",
     "text": [
      "[20, 24, 28, 32, 36, 40, 44, 48, 52, 56, 60, 64, 68, 72, 76, 80, 84, 88, 92, 96, 100, 104, 108, 112, 116, 120, 124, 128, 132, 136, 140, 400, 500, 600, 700]\n"
     ]
    }
   ],
   "source": [
    "old_trees = [500, 600, 700]\n",
    "\n",
    "combined_trees = tree_list + old_trees\n",
    "print(combined_trees)"
   ]
  },
  {
   "cell_type": "code",
   "execution_count": 30,
   "id": "4d5f6a63-42d1-4d74-b676-c8eabd5015e1",
   "metadata": {},
   "outputs": [
    {
     "name": "stdout",
     "output_type": "stream",
     "text": [
      "[['Pine', 'Fir', 'Juniper'], ['Cycas', 'Sago palm', 'Zamia']]\n"
     ]
    }
   ],
   "source": [
    "conifers = [\"Pine\", \"Fir\", \"Juniper\"]\n",
    "cycads = [\"Cycas\", \"Sago palm\", \"Zamia\"]\n",
    "gymnosperms = [conifers, cycads]\n",
    "print(gymnosperms)"
   ]
  },
  {
   "cell_type": "code",
   "execution_count": 32,
   "id": "dc172440-cc72-496a-b712-5df1539826ea",
   "metadata": {},
   "outputs": [
    {
     "name": "stdout",
     "output_type": "stream",
     "text": [
      "['Cycas', 'Sago palm']\n"
     ]
    }
   ],
   "source": [
    "new_gymnosperms = [gymnosperms[1][0] , gymnosperms[1][1]]\n",
    "print(new_gymnosperms)"
   ]
  },
  {
   "cell_type": "code",
   "execution_count": 34,
   "id": "8742b625-0804-4216-bb34-c696e9c3e63d",
   "metadata": {},
   "outputs": [
    {
     "name": "stdout",
     "output_type": "stream",
     "text": [
      "[['Cycas', 'Sago palm', 'Zamia'], ['Pine', 'Fir', 'Juniper']]\n"
     ]
    }
   ],
   "source": [
    "ordered_plants = sorted([conifers, cycads])\n",
    "print(ordered_plants)"
   ]
  }
 ],
 "metadata": {
  "kernelspec": {
   "display_name": "Python 3 (ipykernel)",
   "language": "python",
   "name": "python3"
  },
  "language_info": {
   "codemirror_mode": {
    "name": "ipython",
    "version": 3
   },
   "file_extension": ".py",
   "mimetype": "text/x-python",
   "name": "python",
   "nbconvert_exporter": "python",
   "pygments_lexer": "ipython3",
   "version": "3.12.7"
  }
 },
 "nbformat": 4,
 "nbformat_minor": 5
}
