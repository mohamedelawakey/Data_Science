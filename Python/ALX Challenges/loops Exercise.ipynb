{
 "cells": [
  {
   "cell_type": "markdown",
   "id": "58eda96c-f93d-476b-b062-808b32e9ef01",
   "metadata": {},
   "source": [
    "# Exercises"
   ]
  },
  {
   "cell_type": "markdown",
   "id": "a40f7d8b-aeaa-4b19-90b7-e192508c90aa",
   "metadata": {},
   "source": [
    "### Exercise 1: Basic for loop\n",
    "Objective: Print each animal's name from the animals list using a for loop.\n",
    "``` python\n",
    "animals = ['Great White Shark', 'Blue Whale', 'African Elephant', 'Bald Eagle', 'Orangutan', 'Tiger', 'Panda', 'Koala']\n",
    "\n",
    "# Write a for loop to print each animal's name\n",
    "```"
   ]
  },
  {
   "cell_type": "code",
   "execution_count": 2,
   "id": "116e99d7-adf5-4795-9514-1b27e757118f",
   "metadata": {},
   "outputs": [
    {
     "name": "stdout",
     "output_type": "stream",
     "text": [
      "Great White Shark\n",
      "Blue Whale\n",
      "African Elephant\n",
      "Bald Eagle\n",
      "Orangutan\n",
      "Tiger\n",
      "Panda\n",
      "Koala\n"
     ]
    }
   ],
   "source": [
    "animals = ['Great White Shark', 'Blue Whale', 'African Elephant', 'Bald Eagle', 'Orangutan', 'Tiger', 'Panda', 'Koala']\n",
    "\n",
    "# Write a for loop to print each animal's name\n",
    "for animal in animals:\n",
    "    print(animal)"
   ]
  },
  {
   "cell_type": "markdown",
   "id": "c83a9728-60c9-42be-b976-5154014071a7",
   "metadata": {},
   "source": [
    "### Exercise 2: while loop with condition\n",
    "Objective: Use a while loop to print numbers from 0 to 4.\n",
    "``` python\n",
    "# Initialize a variable 'i' to 0\n",
    "\n",
    "# Write a while loop that prints 'i' and increments it by 1 each time, until it reaches 4\n",
    "```"
   ]
  },
  {
   "cell_type": "code",
   "execution_count": 4,
   "id": "d4a6aeb2-cb86-4cfe-aec9-b1db68769f31",
   "metadata": {},
   "outputs": [
    {
     "name": "stdout",
     "output_type": "stream",
     "text": [
      "0\n",
      "1\n",
      "2\n",
      "3\n",
      "4\n"
     ]
    }
   ],
   "source": [
    "# Initialize a variable 'i' to 0\n",
    "i = 0\n",
    "# Write a while loop that prints 'i' and increments it by 1 each time, until it reaches 4\n",
    "while i < 5:\n",
    "    print(i)\n",
    "    i += 1"
   ]
  },
  {
   "cell_type": "markdown",
   "id": "a6c28ca0-e58f-4b1a-b8d8-5ff0db539525",
   "metadata": {},
   "source": [
    "### Exercise 3: Using break in a loop\n",
    "Objective: Stop the loop once you find Orangutan in the animals list.\n",
    "```python\n",
    "# Write a for loop with a break statement to stop the loop when 'Orangutan' is found\n",
    "```"
   ]
  },
  {
   "cell_type": "code",
   "execution_count": 6,
   "id": "06789acb-5e83-4faa-8924-e00f4c648f27",
   "metadata": {},
   "outputs": [
    {
     "name": "stdout",
     "output_type": "stream",
     "text": [
      "Great White Shark\n",
      "Blue Whale\n",
      "African Elephant\n",
      "Bald Eagle\n"
     ]
    }
   ],
   "source": [
    "# Write a for loop with a break statement to stop the loop when 'Orangutan' is found\n",
    "for animal in animals:\n",
    "    if animal == 'Orangutan':\n",
    "        break\n",
    "    print(animal)"
   ]
  },
  {
   "cell_type": "markdown",
   "id": "0db2dbc9-3903-4399-861d-1dd173acc738",
   "metadata": {},
   "source": [
    "### Exercise 4: Using continue in a loop\n",
    "Objective: Print all animals except 'Bald Eagle' using a for loop and continue statement.\n",
    "```python\n",
    "# Write a for loop with a continue statement to skip 'Bald Eagle' and print other animals\n",
    "```"
   ]
  },
  {
   "cell_type": "code",
   "execution_count": 7,
   "id": "63b58610-5ed2-4595-8524-8ae54beac464",
   "metadata": {},
   "outputs": [
    {
     "name": "stdout",
     "output_type": "stream",
     "text": [
      "Great White Shark\n",
      "Blue Whale\n",
      "African Elephant\n",
      "Orangutan\n",
      "Tiger\n",
      "Panda\n",
      "Koala\n"
     ]
    }
   ],
   "source": [
    "# Write a for loop with a continue statement to skip 'Bald Eagle' and print other animals\n",
    "for animal in animals:\n",
    "    if animal == 'Bald Eagle':\n",
    "        continue\n",
    "    print(animal)"
   ]
  },
  {
   "cell_type": "markdown",
   "id": "52a5000c-7432-4d61-8731-652f3565009b",
   "metadata": {},
   "source": [
    "### Exercise 5: Using pass in a loop\n",
    "Objective: Create a loop that does nothing when 'Panda' is encountered, but prints other animals.\n",
    "```python \n",
    "# Write a for loop with a pass statement for 'Panda' and print other animals\n",
    "```"
   ]
  },
  {
   "cell_type": "code",
   "execution_count": 9,
   "id": "cbfba322-2ad2-4f27-a47b-691e06945ad9",
   "metadata": {},
   "outputs": [
    {
     "name": "stdout",
     "output_type": "stream",
     "text": [
      "Great White Shark\n",
      "Blue Whale\n",
      "African Elephant\n",
      "Bald Eagle\n",
      "Orangutan\n",
      "Tiger\n",
      "Panda\n",
      "Koala\n"
     ]
    }
   ],
   "source": [
    "# Write a for loop with a pass statement for 'Panda' and print other animals\n",
    "for animal in animals:\n",
    "    if animal == 'Panda':\n",
    "        pass\n",
    "    print(animal)"
   ]
  }
 ],
 "metadata": {
  "kernelspec": {
   "display_name": "Python 3 (ipykernel)",
   "language": "python",
   "name": "python3"
  },
  "language_info": {
   "codemirror_mode": {
    "name": "ipython",
    "version": 3
   },
   "file_extension": ".py",
   "mimetype": "text/x-python",
   "name": "python",
   "nbconvert_exporter": "python",
   "pygments_lexer": "ipython3",
   "version": "3.12.7"
  }
 },
 "nbformat": 4,
 "nbformat_minor": 5
}
