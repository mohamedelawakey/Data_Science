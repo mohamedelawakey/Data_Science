{
 "cells": [
  {
   "cell_type": "markdown",
   "id": "fc8785d8-1cce-4240-b229-c6c6706443b7",
   "metadata": {},
   "source": [
    "# Exercises"
   ]
  },
  {
   "cell_type": "markdown",
   "id": "7e552628-9e75-42d5-afbf-4cf380258ee2",
   "metadata": {},
   "source": [
    "### Exercise 1: Concatenation\n",
    "Given the name of a forest (forest_name), the area covered by the forest (area), and the type of forest (forest_type), use concatenation to print a statement in the format: \"The Mau Forest is the largest closed‐canopy montane forest ecosystem in East Africa, covering 400000 hectares.\"\n",
    "\n",
    "``` python\n",
    "# Given the following variables\n",
    "forest_name = \"Mau Forest\"\n",
    "area = 400000\n",
    "forest_type = \"closed‐canopy montane\"\n",
    "\n",
    "# Insert code here\n",
    "```"
   ]
  },
  {
   "cell_type": "code",
   "execution_count": 14,
   "id": "c41d33fe-9870-4461-83f6-a54fbf5b79ad",
   "metadata": {},
   "outputs": [
    {
     "name": "stdout",
     "output_type": "stream",
     "text": [
      "The Mau Forest is the largest closed‐canopy montane forest ecosystem in East Africa, covering 400000 hectares.\n"
     ]
    }
   ],
   "source": [
    "# Given the following variables\n",
    "forest_name = \"Mau Forest\"\n",
    "area = 400000\n",
    "forest_type = \"closed‐canopy montane\"\n",
    "\n",
    "# Insert code here\n",
    "print(\"The\", forest_name, 'is the largest', forest_type, 'forest ecosystem in East Africa, covering', str(area), 'hectares.')"
   ]
  },
  {
   "cell_type": "markdown",
   "id": "1d4d7a67-4b3e-443b-a83b-5e7342b83f15",
   "metadata": {},
   "source": [
    "### Exercise 2: format()\n",
    "### Task\n",
    "Given the annual growth rate of trees (growth_rate) and the region of the forest (forest_region), use the format() method to print a statement in the format: \"The annual growth rate of trees in the Amazon forest is 2.5%.\"\n",
    "``` python\n",
    "# Given the following variables\n",
    "growth_rate = 2.5\n",
    "forest_region = \"Amazon\"\n",
    "\n",
    "# Insert code here\n",
    "```"
   ]
  },
  {
   "cell_type": "code",
   "execution_count": 15,
   "id": "09ffcc8e-b506-4255-b3a2-cdd43f84a738",
   "metadata": {},
   "outputs": [
    {
     "name": "stdout",
     "output_type": "stream",
     "text": [
      "The annual growth rate of trees in the Amazon, Amazon forest is 2.5'%.\n"
     ]
    }
   ],
   "source": [
    "# Given the following variables\n",
    "growth_rate = 2.5\n",
    "forest_region = \"Amazon\"\n",
    "\n",
    "# Insert code here\n",
    "print(\"The annual growth rate of trees in the {}, Amazon forest is {}'%.\".format(forest_region, growth_rate))"
   ]
  },
  {
   "cell_type": "markdown",
   "id": "24fcad09-3903-4c9d-a99b-9fd1db707bd3",
   "metadata": {},
   "source": [
    "### Exercise 3: F-string\n",
    "### Task\n",
    "Given the concept of sustainable forest management (sfm_concept) and the importance of biodiversity (biodiversity_importance), use an f-string to print a statement in the format: \"Sustainable Forest Management is crucial for maintaining biodiversity.\"\n",
    "\n",
    "``` python\n",
    "# Given the following variables\n",
    "sfm_concept = \"Sustainable Forest Management\"\n",
    "biodiversity_importance = \"maintaining biodiversity\"\n",
    "\n",
    "# Insert code here\n",
    "```"
   ]
  },
  {
   "cell_type": "code",
   "execution_count": 16,
   "id": "6c798a55-8c58-4d79-8bff-86e3b7c7568a",
   "metadata": {},
   "outputs": [
    {
     "name": "stdout",
     "output_type": "stream",
     "text": [
      "Sustainable Forest Management is crucial for maintaining biodiversity.\n"
     ]
    }
   ],
   "source": [
    "# Given the following variables\n",
    "sfm_concept = \"Sustainable Forest Management\"\n",
    "biodiversity_importance = \"maintaining biodiversity\"\n",
    "\n",
    "# Insert code here\n",
    "print(f'{sfm_concept} is crucial for {biodiversity_importance}.')"
   ]
  }
 ],
 "metadata": {
  "kernelspec": {
   "display_name": "Python 3 (ipykernel)",
   "language": "python",
   "name": "python3"
  },
  "language_info": {
   "codemirror_mode": {
    "name": "ipython",
    "version": 3
   },
   "file_extension": ".py",
   "mimetype": "text/x-python",
   "name": "python",
   "nbconvert_exporter": "python",
   "pygments_lexer": "ipython3",
   "version": "3.12.7"
  }
 },
 "nbformat": 4,
 "nbformat_minor": 5
}
