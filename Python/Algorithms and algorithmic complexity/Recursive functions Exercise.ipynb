{
 "cells": [
  {
   "cell_type": "markdown",
   "id": "f65e2ec6-c372-4593-a76a-c558c82f1997",
   "metadata": {},
   "source": [
    "# Exercises"
   ]
  },
  {
   "cell_type": "markdown",
   "id": "6764b32a-9e08-4616-8200-324b0913dfce",
   "metadata": {},
   "source": [
    "### Exercise 1\n",
    "Convert the mathematical function $f(n) = a^n$ into a recursive function.\n",
    "\n",
    "In mathematics, $a^n$ denotes \"$a$ raised to the power of $n$\", which means multiplying $a$ by itself $n$ times. Your task is to create a function that takes two arguments, a and n, and calculates $a^n$ using recursion.\n",
    "\n",
    "For example:\n",
    "\n",
    "- If a is 2 and n is 3, the function should return 8, because $2^3$ = 2 x 2 x 2 = 8.\n",
    "- If a is 5 and n is 0, the function should return 1, since any number raised to the power of 0 is 1."
   ]
  },
  {
   "cell_type": "code",
   "execution_count": 20,
   "id": "b5002900-f34c-4396-9d8c-c6233ef4b1be",
   "metadata": {},
   "outputs": [
    {
     "data": {
      "text/plain": [
       "8"
      ]
     },
     "execution_count": 20,
     "metadata": {},
     "output_type": "execute_result"
    }
   ],
   "source": [
    "def exponential(a, n):\n",
    "  # insert code here\n",
    "    if n == 0:\n",
    "        return 1\n",
    "    else:\n",
    "      return a * exponential(a, n - 1)\n",
    "\n",
    "exponential(2, 3)"
   ]
  },
  {
   "cell_type": "markdown",
   "id": "d0590996-84fc-4c9e-a81d-f5885f4685bc",
   "metadata": {},
   "source": [
    "### Exercise 2\n",
    "Write a function that uses recursion to calculate the $n$th number in the Fibonacci sequence. The Fibonacci sequence is a series of numbers where each number is the sum of the two preceding ones. The sequence goes 0, 1, 1, 2, 3, 5, 8, 13, 21, and so on.\n",
    "\n",
    "Your function should take a single argument n and return the nth Fibonacci number.\n",
    "\n",
    "For example:\n",
    "\n",
    "- fibonacci(0) should return 0\n",
    "- fibonacci(1) should return 1\n",
    "- fibonacci(7) should return 13"
   ]
  },
  {
   "cell_type": "code",
   "execution_count": 25,
   "id": "a54a9f9f-f531-4edc-ba7b-c53908521235",
   "metadata": {},
   "outputs": [
    {
     "name": "stdout",
     "output_type": "stream",
     "text": [
      "0\n",
      "1\n",
      "13\n"
     ]
    }
   ],
   "source": [
    "def fibonacci(n):\n",
    "  # insert code here\n",
    "    if n == 0:\n",
    "        return 0\n",
    "    if n == 1:\n",
    "        return 1\n",
    "    else:\n",
    "        return fibonacci(n - 1) + fibonacci(n - 2)\n",
    "        \n",
    "print(fibonacci(0))\n",
    "print(fibonacci(1))\n",
    "print(fibonacci(7))"
   ]
  },
  {
   "cell_type": "markdown",
   "id": "5d6d7178-aff8-492b-bf95-f4cecf89a556",
   "metadata": {},
   "source": [
    "### Exercise 3\n",
    "Write a recursive function named cumulate that calculates the cumulative sum of all positive integers up to a given number n. The function should take a single integer argument n and return the sum of all positive integers from 1 to n.\n",
    "\n",
    "For example:\n",
    "\n",
    "- cumulate(7) should return 28, as the sum of 1 + 2 + 3 + 4 + 5 + 6 + 7 equals 28.\n",
    "- cumulate(3) should return 6, since 1 + 2 + 3 equals 6.\n",
    "- cumulate(1) should return 1, as there's only one number to sum.\n",
    "Your function should handle cases where n is a positive integer."
   ]
  },
  {
   "cell_type": "code",
   "execution_count": 28,
   "id": "b0f97972-7432-41b5-bdca-22fef2f6ab0e",
   "metadata": {},
   "outputs": [
    {
     "name": "stdout",
     "output_type": "stream",
     "text": [
      "28\n",
      "6\n",
      "1\n"
     ]
    }
   ],
   "source": [
    "def cumulate(n):\n",
    "  # insert code here\n",
    "    if n == 1:\n",
    "        return 1\n",
    "    else:\n",
    "        return n +cumulate(n - 1)\n",
    "\n",
    "print(cumulate(7))\n",
    "print(cumulate(3))\n",
    "print(cumulate(1))"
   ]
  }
 ],
 "metadata": {
  "kernelspec": {
   "display_name": "Python 3 (ipykernel)",
   "language": "python",
   "name": "python3"
  },
  "language_info": {
   "codemirror_mode": {
    "name": "ipython",
    "version": 3
   },
   "file_extension": ".py",
   "mimetype": "text/x-python",
   "name": "python",
   "nbconvert_exporter": "python",
   "pygments_lexer": "ipython3",
   "version": "3.12.7"
  }
 },
 "nbformat": 4,
 "nbformat_minor": 5
}
