{
 "cells": [
  {
   "cell_type": "markdown",
   "id": "ad48329a-5167-462a-8eb7-e32fe56e75f6",
   "metadata": {},
   "source": [
    "# Bubble sort"
   ]
  },
  {
   "cell_type": "markdown",
   "id": "92fe1edb-a2c0-47f9-969e-54891f79adae",
   "metadata": {},
   "source": [
    "### 💡 The Algorithm's Idea:\n",
    "\n",
    "- It's called \"Bubble\" because the larger elements rise upward like bubbles.\n",
    "```\n",
    "In each iteration:\n",
    "```\n",
    "- We walk through the list element by element.\n",
    "- We compare the current element to the next one.\n",
    "- If the current one is larger, we swap them.\n",
    "- After the first iteration, the largest element goes to the bottom of the list.\n",
    "- We repeat the process, but this time without the last element (because it's in the correct place).\n",
    "- We continue until the entire list is sorted.\n",
    "### ✨ Bubble Sort Properties\n",
    "- In-place ✅ → Modifies the same list without creating a new copy.\n",
    "- Stable ✅ → If there are duplicates, it maintains their original order.\n",
    "Time Complexity:\n",
    "- Worst/Average Case: O(n²) (because there are two nested loops).\n",
    "- Best Case (if the list is sorted from the beginning): O(n)."
   ]
  },
  {
   "cell_type": "code",
   "execution_count": 3,
   "id": "ccb5f626-f6b7-4463-8338-d9a975d703ce",
   "metadata": {},
   "outputs": [
    {
     "name": "stdout",
     "output_type": "stream",
     "text": [
      "[11, 17, 18, 23, 26]\n"
     ]
    }
   ],
   "source": [
    "def bubble_sort(items):\n",
    "    for i in range(len(items)):\n",
    "        for j in range(len(items) - 1 - i):\n",
    "            if items[j] > items[j + 1]:\n",
    "                items[j], items[j + 1] = items[j + 1], items[j]\n",
    "    return items\n",
    "\n",
    "the_list = [11, 17, 18, 26, 23]\n",
    "print(bubble_sort(the_list))"
   ]
  },
  {
   "cell_type": "markdown",
   "id": "381029e2-4983-4711-9589-f3bc2b320fdc",
   "metadata": {},
   "source": [
    "### Modified Bubble Sort\n",
    "- Standard Bubble Sort: Always completes all loops, even if the list is sorted.\n",
    "- Modified Bubble Sort: Stops early if the list is sorted.\n",
    "```\n",
    "Complexity:\n",
    "```\n",
    "- Best case: O(n).\n",
    "- Worst case: O(n²).\n",
    "- Average: O(n²)."
   ]
  },
  {
   "cell_type": "code",
   "execution_count": 4,
   "id": "fd4398ff-3d2d-425a-8300-f21c3745b1e5",
   "metadata": {},
   "outputs": [
    {
     "name": "stdout",
     "output_type": "stream",
     "text": [
      "[4, 11, 17, 18, 23, 26]\n"
     ]
    }
   ],
   "source": [
    "def Modified_Bubble_Sort(items):\n",
    "    flag = False\n",
    "    for i in range(len(items)):\n",
    "        for j in range(len(items) - 1 - i):\n",
    "            if items[j] > items[j + 1]:\n",
    "                items[j], items[j + 1] = items[j + 1], items[j]\n",
    "                flag = True\n",
    "        if not flag:\n",
    "            break\n",
    "    return items\n",
    "    \n",
    "the_list2 = [11, 17, 18, 26, 23, 4]\n",
    "print(Modified_Bubble_Sort(the_list2))"
   ]
  },
  {
   "cell_type": "markdown",
   "id": "f1dca6aa-5fac-43e2-ba35-2666ec1b03a4",
   "metadata": {},
   "source": [
    "# Insertion sort"
   ]
  },
  {
   "cell_type": "markdown",
   "id": "b657372b-f272-4daf-ac5b-1233d6b77142",
   "metadata": {},
   "source": [
    "### 💡 The Basic Idea\n",
    "The algorithm treats the list as if it were divided into two parts:\n",
    "- A sorted part in the first.\n",
    "- An unsorted part in the remainder.\n",
    "- At each step, we take the first element from the unsorted part and place it in its correct place inside the sorted part.\n",
    "- We repeat the process until the entire list is sorted.\n",
    "### ✨Insertion sort Properties\n",
    "- In-place: No new lists; the sorting is done within the same list.\n",
    "- Stable: Preserves the order of repeated elements (because we slide elements instead of shuffling them randomly).\n",
    "```\n",
    "Time Complexity:\n",
    "```\n",
    "- Best Case: O(n) (if the list is sorted from the beginning).\n",
    "- Worst/Average Case: O(n²)."
   ]
  },
  {
   "cell_type": "code",
   "execution_count": 8,
   "id": "8896990c-d816-40a8-8576-b6f9d83338a2",
   "metadata": {},
   "outputs": [
    {
     "name": "stdout",
     "output_type": "stream",
     "text": [
      "[4, 11, 17, 18, 23, 26]\n"
     ]
    }
   ],
   "source": [
    "def insertion_sort(items):\n",
    "    for i in range(len(items)):\n",
    "        key = items[i]\n",
    "        j = i - 1\n",
    "        while j >= 0 and key < items[j]:\n",
    "            items[j + 1] = items[j]\n",
    "            j -= 1\n",
    "        items[j + 1] = key\n",
    "    return items\n",
    "\n",
    "the_list3 = [11, 17, 18, 26, 23, 4]\n",
    "print(insertion_sort(the_list3))"
   ]
  },
  {
   "cell_type": "markdown",
   "id": "1c6ab888-246b-4ad1-a2b5-694d9d2d2374",
   "metadata": {},
   "source": [
    "# Merge sort"
   ]
  },
  {
   "cell_type": "markdown",
   "id": "40da566e-5c16-49f8-b6ce-c16b93ecf9f1",
   "metadata": {},
   "source": [
    "### 💡 The Basic Idea\n",
    "\n",
    "- Divide and Conquer = \"divide and conquer.\"\n",
    "- We divide the list into two halves (recursively).\n",
    "- We sort each halve separately (also by recursion).\n",
    "- We merge the two sorted halves together → we get a complete sorted list.\n",
    "🔹 Basic Functions\n",
    "1. merge(left, right)\n",
    "- Gives two sorted lists.\n",
    "- Returns a single merged and sorted list.\n",
    "- The idea: We compare the first element from the right and left, and add the smallest.\n",
    "- We repeat until one of the elements is empty, then we add the remaining elements from the second.\n",
    "2. merge_sort(m)\n",
    "- If the list is length ≤ 1 → it's sorted (base case).\n",
    "```\n",
    "Otherwise:\n",
    "```\n",
    "- We divide the list into two halves: left and right.\n",
    "- We call merge_sort(left) and merge_sort(right).\n",
    "- We merge the result using merge(left, right).\n",
    "### Practical Example\n",
    "- Not: [11, 2, 26, 18, 23]\n",
    "- Splits → [11, 2] and [26, 18, 23].\n",
    "- [11, 2] → Splits → [11] and [2] → After merging → [2, 11].\n",
    "- [26, 18, 23] → Splits → [26] and [18, 23].\n",
    "- [18, 23] → Splits → [18] and [23] → After merging → [18, 23].\n",
    "- After merging [26] and [18, 23] → [18, 23, 26].\n",
    "- Finally: Merge [2, 11] and [18, 23, 26] → [2, 11, 18, 23, 26].\n",
    "```\n",
    "Time Complexity\n",
    "```\n",
    "- Divide:\n",
    "    - Each time we divide the list into two parts → requires approximately log₂n levels.\n",
    "- Conquer:\n",
    "    - Each level processes all elements once → n.\n",
    "- The sum: O(n log n) is constant in all cases (best, average, worst)."
   ]
  },
  {
   "cell_type": "code",
   "execution_count": 33,
   "id": "6b36f989-dedc-4485-9517-b6e55b78ae9a",
   "metadata": {},
   "outputs": [
    {
     "name": "stdout",
     "output_type": "stream",
     "text": [
      "[2, 11, 18, 23, 26]\n"
     ]
    }
   ],
   "source": [
    "def merge(left, right):\n",
    "    result = []\n",
    "    i = j = 0\n",
    "    while i < len(left) and j < len(right):\n",
    "        if left[i] <= right[j]:\n",
    "            result.append(left[i])\n",
    "            i += 1\n",
    "        else:\n",
    "            result.append(right[j])\n",
    "            j += 1\n",
    "    result.extend(left[i:])\n",
    "    result.extend(right[j:])\n",
    "    return result\n",
    "\n",
    "def merge_sort(arr):\n",
    "    if len(arr) <= 1:\n",
    "        return arr\n",
    "    mid = len(arr) // 2\n",
    "    left = merge_sort(arr[:mid])\n",
    "    right = merge_sort(arr[mid:])\n",
    "    return merge(left, right)\n",
    "\n",
    "# تجربة\n",
    "arr = [11, 2, 26, 18, 23]\n",
    "print(merge_sort(arr))"
   ]
  },
  {
   "cell_type": "markdown",
   "id": "6e995af7-8ae8-4791-a621-da17fd93b41a",
   "metadata": {},
   "source": [
    "# Quicksort"
   ]
  },
  {
   "cell_type": "markdown",
   "id": "bf2a0e2e-d96a-4f67-a178-e7599e8235fd",
   "metadata": {},
   "source": [
    "### 💡 The Basic Idea\n",
    "\n",
    "- We choose a pivot from the list.\n",
    "- We divide the list into three parts:\n",
    "- small = items smaller than the pivot.\n",
    "- large = items larger than the pivot.\n",
    "- duplicate = items equal to the pivot.\n",
    "- We recursively sort the small and large.\n",
    "- We merge: small + duplicate + large.\n",
    "\n",
    "### ✨ Quicksort Properties\n",
    "- Recursive, like merge sort.\n",
    "- Can be in-place or out-place (depending on the implementation).\n",
    "- Often unstable, but can be modified to be stable.\n",
    "### 🔹 Choosing a Pivot\n",
    "    - Ideal = median → divides the list into two equal halves.\n",
    "    - The famous = last element → easy to code.\n",
    "    - We can also choose the first element or randomly.\n",
    "### Time Complexity\n",
    "- Best Case: If the pivot always splits the list into two equal halves → O(n log n).\n",
    "- Average Case: Most likely also O(n log n) (with a random or good pivot).\n",
    "- Worst Case: If the pivot is always the smallest or largest element → the list splits badly (0 and n-1).\n",
    "- Complexity remains: O(n²)."
   ]
  },
  {
   "cell_type": "code",
   "execution_count": 36,
   "id": "39513c42-26b2-4f63-a885-00ed47ca5e1a",
   "metadata": {},
   "outputs": [
    {
     "name": "stdout",
     "output_type": "stream",
     "text": [
      "[2, 11, 18, 23, 26]\n"
     ]
    }
   ],
   "source": [
    "def quick_sort(arr):\n",
    "    if len(arr) <= 1:\n",
    "        return arr\n",
    "\n",
    "    pivot_element = arr[-1]\n",
    "    small, large, doublecate = [], [], []\n",
    "\n",
    "    for x in arr:\n",
    "        if x < pivot_element:\n",
    "            small.append(x)\n",
    "        elif x > pivot_element:\n",
    "            large.append(x)\n",
    "        else:\n",
    "            doublecate.append(x)\n",
    "            \n",
    "    return quick_sort(small) + doublecate + quick_sort(large)\n",
    "\n",
    "arr = [11, 2, 26, 18, 23]\n",
    "print(quick_sort(arr))"
   ]
  }
 ],
 "metadata": {
  "kernelspec": {
   "display_name": "Python 3 (ipykernel)",
   "language": "python",
   "name": "python3"
  },
  "language_info": {
   "codemirror_mode": {
    "name": "ipython",
    "version": 3
   },
   "file_extension": ".py",
   "mimetype": "text/x-python",
   "name": "python",
   "nbconvert_exporter": "python",
   "pygments_lexer": "ipython3",
   "version": "3.12.7"
  }
 },
 "nbformat": 4,
 "nbformat_minor": 5
}
