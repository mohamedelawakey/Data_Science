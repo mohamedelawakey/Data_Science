{
 "cells": [
  {
   "cell_type": "markdown",
   "id": "f2c5aaf4-164d-41a4-81ca-c37bd901698b",
   "metadata": {},
   "source": [
    "# Exercises"
   ]
  },
  {
   "cell_type": "markdown",
   "id": "0e1ed225-c5e5-434e-ba46-6ec3fe512780",
   "metadata": {},
   "source": [
    "### Exercise 1\n",
    "Given a list of deforested land in hectares over five years, calculate the total carbon emission over the years using built-in functions.\n",
    "\n",
    "Total carbon emissions are calculated by adding the hectares of deforested land and multiplying the total by a given carbon emissions factor of 40.\n",
    "\n",
    "Hint:\n",
    "\n",
    "- Create a variable called total_deforested_land, the result of adding the hectares of the deforested land using the sum function.\n",
    "- Create a variable called total_carbon_emission, the result of multiplying the total_deforested_land variable with the carbon emissions factor.\n",
    "\n",
    "```python\n",
    "# Deforested land for each year\n",
    "deforested_land = [10, 15, 8, 12, 20]\n",
    "\n",
    "# Carbon emission factor (tons of CO2 per hectare)\n",
    "carbon_emission_factor = 40\n",
    "\n",
    "# Your code here...\n",
    "```\n",
    "Print the total_deforested_land and total_carbon_emission variables.\n",
    "\n",
    "```python\n",
    "# Your code here...\n",
    "```"
   ]
  },
  {
   "cell_type": "code",
   "execution_count": 5,
   "id": "0cb8edb9-1304-411f-b79d-a6fc08b7d1f6",
   "metadata": {},
   "outputs": [
    {
     "name": "stdout",
     "output_type": "stream",
     "text": [
      "65\n",
      "2600\n"
     ]
    }
   ],
   "source": [
    "# Deforested land for each year\n",
    "deforested_land = [10, 15, 8, 12, 20]\n",
    "\n",
    "# Carbon emission factor (tons of CO2 per hectare)\n",
    "carbon_emission_factor = 40\n",
    "\n",
    "# Your code here...\n",
    "total_deforested_land = sum(deforested_land)\n",
    "total_carbon_emission = total_deforested_land * carbon_emission_factor\n",
    "print(total_deforested_land)\n",
    "print(total_carbon_emission)"
   ]
  },
  {
   "cell_type": "markdown",
   "id": "7c428f38-decf-4c00-b290-05514773a102",
   "metadata": {},
   "source": [
    "### Exercise 2\n",
    "Create a function named acres_to_hectares that accepts a parameter of the area of a forest in acres and returns the corresponding area in hectares by multiplying the acres by a conversion rate of 0.404686.\n",
    "\n",
    "Remember to include the doc strings of the function.\n",
    "\n",
    "```python\n",
    "# Your code here...\n",
    "```\n",
    "\n",
    "Use the function above to convert a forest area of 50 acres to hectares.\n",
    "\n",
    "```python\n",
    "# Your code here...\n",
    "```"
   ]
  },
  {
   "cell_type": "code",
   "execution_count": 9,
   "id": "efa50a35-c85b-4bfc-82cf-3aa710ad6c4d",
   "metadata": {},
   "outputs": [
    {
     "data": {
      "text/plain": [
       "4.04686"
      ]
     },
     "execution_count": 9,
     "metadata": {},
     "output_type": "execute_result"
    }
   ],
   "source": [
    "# Your code here...\n",
    "def acres_to_hectares(area):\n",
    "    \"\"\"\n",
    "    Convert acres to hectares.\n",
    "\n",
    "    Parameters:\n",
    "    - acres (float): The area in acres.\n",
    "\n",
    "    Returns:\n",
    "    - float: The equivalent area in hectares.\n",
    "    \"\"\"\n",
    "    return area * 0.404686\n",
    "\n",
    "acres_to_hectares(10)"
   ]
  },
  {
   "cell_type": "code",
   "execution_count": 10,
   "id": "15ec3ada-8a7d-45f9-91c3-c18d5839cc6f",
   "metadata": {},
   "outputs": [
    {
     "data": {
      "text/plain": [
       "'\\n    Convert acres to hectares.\\n\\n    Parameters:\\n    - acres (float): The area in acres.\\n\\n    Returns:\\n    - float: The equivalent area in hectares.\\n    '"
      ]
     },
     "execution_count": 10,
     "metadata": {},
     "output_type": "execute_result"
    }
   ],
   "source": [
    "acres_to_hectares.__doc__"
   ]
  },
  {
   "cell_type": "markdown",
   "id": "5e6a8179-2374-41e1-aa4b-2ee9961ac3b5",
   "metadata": {},
   "source": [
    "### Exercise 3\n",
    "Using the data representing the deforested land in hectares over the years, calculate and print the average deforested land using the sum and len built-in functions.\n",
    "\n",
    "Hint:\n",
    "\n",
    "- Create a variable called average_deforested_land by adding the hectares of the deforested land together using the sum function and then dividing it by the number of values in the list, which can be derived using the len function.\n",
    "\n",
    "```\tpython\n",
    "# Deforested land for each year\n",
    "deforested_land = [10, 15, 8, 12, 20]\n",
    "\n",
    "# Your code here\n",
    "```\n",
    "\n",
    "Print the average_deforested_land variable.\n",
    "\n",
    "```\tpython\n",
    "# Your code here...\n",
    "```"
   ]
  },
  {
   "cell_type": "code",
   "execution_count": 11,
   "id": "84489972-f7d0-47a9-8e5e-c50fca6efd5f",
   "metadata": {},
   "outputs": [
    {
     "name": "stdout",
     "output_type": "stream",
     "text": [
      "13.0\n"
     ]
    }
   ],
   "source": [
    "# Deforested land for each year\n",
    "deforested_land = [10, 15, 8, 12, 20]\n",
    "\n",
    "# Your code here\n",
    "average_deforested_land = sum(deforested_land) / len(deforested_land)\n",
    "print(average_deforested_land)"
   ]
  }
 ],
 "metadata": {
  "kernelspec": {
   "display_name": "Python 3 (ipykernel)",
   "language": "python",
   "name": "python3"
  },
  "language_info": {
   "codemirror_mode": {
    "name": "ipython",
    "version": 3
   },
   "file_extension": ".py",
   "mimetype": "text/x-python",
   "name": "python",
   "nbconvert_exporter": "python",
   "pygments_lexer": "ipython3",
   "version": "3.12.7"
  }
 },
 "nbformat": 4,
 "nbformat_minor": 5
}
