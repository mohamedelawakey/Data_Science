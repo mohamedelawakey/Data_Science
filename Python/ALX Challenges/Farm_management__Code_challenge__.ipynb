{
 "cells": [
  {
   "cell_type": "markdown",
   "id": "2de8578e-324a-42af-a207-b42cb9dbe8cb",
   "metadata": {},
   "source": [
    "# Code challenge: Farm harvest management\n",
    "In this code challenge, we will assist a farmer in calculating the total harvest from two fields (wheat and potatoes) and the overall expenses and profits for this season.\n",
    "\n",
    "# Learning objectives\n",
    "In this train, we will:\n",
    "\n",
    "- Understand how to perform basic arithmetic operations in a Jupyter notebook.\n",
    "- Know how to assign numerical values to variables.\n",
    "- Know how to use the print() function to display our results.\n",
    "\n",
    "# Instructions\n",
    "- This code challenge does not count for marks.\n",
    "- Do not add or remove cells in this notebook.\n",
    "- Answer the questions according to the specifications provided.\n",
    "- Use the given cell in each question to see if your function matches the expected outputs."
   ]
  },
  {
   "cell_type": "markdown",
   "id": "0fbe691a-c41f-474a-81a6-d8b03e64167a",
   "metadata": {},
   "source": [
    "# Challenge 1\n",
    "### Calculate the total harvest for the farmer\n",
    "\n",
    "``` python\n",
    "total_kgs_wheat_harvest = 2050\n",
    "total_kgs_potato_harvest = 3600\n",
    "total_kgs_harvest = # add your code here\n",
    "print(\"Total harvest in kilograms:\", total_kgs_harvest)\n",
    "```\n",
    "## Expected outputs:\n",
    "Total harvest in kilograms: 5650"
   ]
  },
  {
   "cell_type": "code",
   "execution_count": 8,
   "id": "aea5ce45-cedd-4a5e-a5e5-b6b110fe4790",
   "metadata": {},
   "outputs": [
    {
     "name": "stdout",
     "output_type": "stream",
     "text": [
      "Total harvest in kilograms: 5650\n"
     ]
    }
   ],
   "source": [
    "total_kgs_wheat_harvest = 2050\n",
    "total_kgs_potato_harvest = 3600\n",
    "\n",
    "# add your code here\n",
    "total_kgs_harvest = total_kgs_wheat_harvest + total_kgs_potato_harvest \n",
    "\n",
    "print(\"Total harvest in kilograms:\", total_kgs_harvest)"
   ]
  },
  {
   "cell_type": "markdown",
   "id": "dd00894c-b215-4452-8fe5-f0280f44ce84",
   "metadata": {},
   "source": [
    "# Challenge 2 \n",
    "### Calculate the total expenses (in dollars) and print the result.\n",
    "\n",
    "``` python\n",
    "seed_expense = 650\n",
    "labour_expense = 3070\n",
    "total_expenses_dollars = # add your code here\n",
    "print() # add your code here\n",
    "```\n",
    "## Expected outputs:\n",
    "Total expenses in dollars: 3720"
   ]
  },
  {
   "cell_type": "code",
   "execution_count": 10,
   "id": "a200d9dc-5fe6-4108-abdd-6ea66c954e63",
   "metadata": {},
   "outputs": [
    {
     "name": "stdout",
     "output_type": "stream",
     "text": [
      "Total expenses in dollars: 3720\n"
     ]
    }
   ],
   "source": [
    "seed_expense = 650\n",
    "labour_expense = 3070\n",
    "\n",
    "# add your code here\n",
    "total_expenses_dollars = seed_expense + labour_expense\n",
    "# add your code here\n",
    "print('Total expenses in dollars:', total_expenses_dollars) "
   ]
  },
  {
   "cell_type": "markdown",
   "id": "d808e145-51fd-4556-9aa5-5fdfec3873b8",
   "metadata": {},
   "source": [
    "# Challenge 3 \n",
    "### Calculate the total revenue (in dollars) and print the result\n",
    "\n",
    "``` python\n",
    "price_per_kg_wheat = 2\n",
    "price_per_kg_potato = 1.4\n",
    "total_revenue_dollars = # add your code here\n",
    "print() # add your code here\n",
    "```\n",
    "## Expected outputs:\n",
    "Total revenue in dollars: 9140"
   ]
  },
  {
   "cell_type": "code",
   "execution_count": 17,
   "id": "f8d0946a-e9ad-4fc8-97a7-e20a15e79427",
   "metadata": {},
   "outputs": [
    {
     "name": "stdout",
     "output_type": "stream",
     "text": [
      "Total revenue in dollars: 9140\n"
     ]
    }
   ],
   "source": [
    "price_per_kg_wheat = 2\n",
    "price_per_kg_potato = 1.4\n",
    "\n",
    "# add your code here\n",
    "total_revenue_dollars = (total_kgs_wheat_harvest * price_per_kg_wheat) + (total_kgs_potato_harvest * price_per_kg_potato)\n",
    "\n",
    "# add your code here\n",
    "print('Total revenue in dollars:', int(total_revenue_dollars)) "
   ]
  },
  {
   "cell_type": "markdown",
   "id": "dc876983-48eb-4fd4-8774-fbc7dac0d7b6",
   "metadata": {},
   "source": [
    "# Challenge 4\n",
    "### Calculate the total profit (in dollars) and print the result.\n",
    "\n",
    "``` python\n",
    "total_profit_dollars = # add your code here\n",
    "print() # add your code here\n",
    "```\n",
    "## Expected outputs:\n",
    "Total profit in dollars: 5420"
   ]
  },
  {
   "cell_type": "code",
   "execution_count": 21,
   "id": "cc166169-7b84-46e8-a35c-78ae1d0d204e",
   "metadata": {},
   "outputs": [
    {
     "name": "stdout",
     "output_type": "stream",
     "text": [
      "Total profit in dollars: 5420\n"
     ]
    }
   ],
   "source": [
    "# add your code here\n",
    "total_profit_dollars = total_revenue_dollars - total_expenses_dollars\n",
    "\n",
    "# add your code here\n",
    "print('Total profit in dollars:', int(total_profit_dollars))"
   ]
  }
 ],
 "metadata": {
  "kernelspec": {
   "display_name": "Python 3 (ipykernel)",
   "language": "python",
   "name": "python3"
  },
  "language_info": {
   "codemirror_mode": {
    "name": "ipython",
    "version": 3
   },
   "file_extension": ".py",
   "mimetype": "text/x-python",
   "name": "python",
   "nbconvert_exporter": "python",
   "pygments_lexer": "ipython3",
   "version": "3.12.7"
  }
 },
 "nbformat": 4,
 "nbformat_minor": 5
}
