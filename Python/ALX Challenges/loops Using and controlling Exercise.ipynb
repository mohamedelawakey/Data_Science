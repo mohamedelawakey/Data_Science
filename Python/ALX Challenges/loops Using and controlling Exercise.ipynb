{
 "cells": [
  {
   "cell_type": "markdown",
   "id": "2b07ef73-39f5-4e82-83bf-2542a0355fc1",
   "metadata": {},
   "source": [
    "# Exercises"
   ]
  },
  {
   "cell_type": "markdown",
   "id": "2ee91d9e-b2c6-45e0-9c0f-a30e0b2bd1e4",
   "metadata": {},
   "source": [
    "### Exercise 1: Marine species counter\n",
    "Objective: Use a for loop to count the number of endangered marine species in a list.\n",
    "\n",
    "``` python\n",
    "endangered_marine_species = ['Hawksbill Turtle', 'Vaquita', 'Blue Whale', 'Staghorn Coral', 'Green Turtle']\n",
    "endangered_count = 0\n",
    "\n",
    "# Your task: Use a for loop to count the number of species in the list\n",
    "for species in endangered_marine_species:\n",
    "    # Insert code here\n",
    "\n",
    "print(f\"Number of endangered marine species: {endangered_count}\")\n",
    "```\n",
    "**Hint:** Use the loop to iterate over the endangered_marine_species list and increment the endangered_count variable by 1 for each species."
   ]
  },
  {
   "cell_type": "code",
   "execution_count": 29,
   "id": "c33f0ad4-1e6d-4420-b19f-ff2a8d41da7f",
   "metadata": {},
   "outputs": [
    {
     "name": "stdout",
     "output_type": "stream",
     "text": [
      "Number of endangered marine species: 5\n"
     ]
    }
   ],
   "source": [
    "endangered_marine_species = ['Hawksbill Turtle', 'Vaquita', 'Blue Whale', 'Staghorn Coral', 'Green Turtle']\n",
    "endangered_count = 0\n",
    "\n",
    "# Your task: Use a for loop to count the number of species in the list\n",
    "for species in endangered_marine_species:\n",
    "    # Insert code here\n",
    "    endangered_count += 1\n",
    "\n",
    "print(f\"Number of endangered marine species: {endangered_count}\")"
   ]
  },
  {
   "cell_type": "markdown",
   "id": "ca4493a0-df89-4482-8392-72b11b2fb105",
   "metadata": {},
   "source": [
    "### Exercise 2: Deforestation alert\n",
    "Objective: Use a while loop to simulate a deforestation monitoring system that alerts when the forested area falls below a critical threshold.\n",
    "```python\n",
    "initial_forested_area = 1000  # in square kilometres\n",
    "deforestation_rate = 20       # square kilometres per year\n",
    "\n",
    "# Your task: Use a while loop to determine how many years it takes for the forested area to fall below 500 square kilometres\n",
    "years = 0\n",
    "while initial_forested_area > 500:\n",
    "    # Write your code here\n",
    "\n",
    "print(f\"Years until critical deforestation level: {years}\")\n",
    "```\n",
    "**Hint:** In each iteration of the while loop, decrease the initial_forested_area by deforestation_rate and increment the years by 1."
   ]
  },
  {
   "cell_type": "code",
   "execution_count": 31,
   "id": "652ea7d6-3185-46e3-a294-13bfad945ef3",
   "metadata": {},
   "outputs": [
    {
     "name": "stdout",
     "output_type": "stream",
     "text": [
      "Years until critical deforestation level: 25\n"
     ]
    }
   ],
   "source": [
    "initial_forested_area = 1000  # in square kilometres\n",
    "deforestation_rate = 20       # square kilometres per year\n",
    "\n",
    "# Your task: Use a while loop to determine how many years it takes for the forested area to fall below 500 square kilometres\n",
    "years = 0\n",
    "while initial_forested_area > 500:\n",
    "    # Write your code here\n",
    "    initial_forested_area -= deforestation_rate\n",
    "    years += 1\n",
    "\n",
    "print(f\"Years until critical deforestation level: {years}\")"
   ]
  },
  {
   "cell_type": "markdown",
   "id": "c15e04af-d3da-457b-9cef-1a2ebd2a78b5",
   "metadata": {},
   "source": [
    "### Exercise 3: Biodiversity analysis\n",
    "Objective: Write a for loop to analyse a list of animals, printing out whether they are endangered or not.\n",
    "```python\n",
    "animals = ['Tiger', 'Blue Whale', 'African Elephant', 'Koala', 'Panda']\n",
    "endangered_animals = ['Tiger', 'Blue Whale', 'African Elephant']\n",
    "\n",
    "# Your task: Use a for loop to print out each animal's name and its endangered status\n",
    "for animal in animals:\n",
    "    # Write your code here\n",
    "```\n",
    "**Hint:** Check if each animal in the animals list is also in the endangered_animals list, and print the appropriate status."
   ]
  },
  {
   "cell_type": "code",
   "execution_count": 33,
   "id": "8017dc05-c014-439c-9faf-4ee546fb2c4a",
   "metadata": {},
   "outputs": [
    {
     "name": "stdout",
     "output_type": "stream",
     "text": [
      "Tiger is endangered.\n",
      "Blue Whale is endangered.\n",
      "African Elephant is endangered.\n",
      "Koala is not endangered.\n",
      "Panda is not endangered.\n"
     ]
    }
   ],
   "source": [
    "animals = ['Tiger', 'Blue Whale', 'African Elephant', 'Koala', 'Panda']\n",
    "endangered_animals = ['Tiger', 'Blue Whale', 'African Elephant']\n",
    "\n",
    "# Your task: Use a for loop to print out each animal's name and its endangered status\n",
    "for animal in animals:\n",
    "    # Write your code here\n",
    "    if animal in endangered_animals:\n",
    "        print(f\"{animal} is endangered.\")\n",
    "    else:\n",
    "        print(f\"{animal} is not endangered.\")"
   ]
  },
  {
   "cell_type": "markdown",
   "id": "07a162f1-0c89-4eec-b040-4358f82906a0",
   "metadata": {},
   "source": [
    "### Exercise 4: Ocean pollution tracker\n",
    "Objective: Use loops to process and display information about ocean pollution levels in different regions.\n",
    "```python\n",
    "ocean_pollution_data = {\n",
    "    'Pacific Ocean': [3, 5, 2],  # pollution levels\n",
    "    'Atlantic Ocean': [7, 2, 4],\n",
    "    'Indian Ocean': [5, 1, 3]\n",
    "}\n",
    "\n",
    "# Your task: Use loops to calculate the average pollution level for each ocean and print it\n",
    "for ocean, pollution_levels in ocean_pollution_data.items():\n",
    "    # Write your code here\n",
    "```\n",
    "**Hint:** Use a for loop to sum the pollution levels for each ocean, then calculate and print the average."
   ]
  },
  {
   "cell_type": "code",
   "execution_count": 45,
   "id": "24cbccbc-215d-4285-ba3d-3d1f5eb3b2ee",
   "metadata": {},
   "outputs": [
    {
     "name": "stdout",
     "output_type": "stream",
     "text": [
      "Average pollution level in the Pacific Ocean: 3.33\n",
      "Average pollution level in the Atlantic Ocean: 4.33\n",
      "Average pollution level in the Indian Ocean: 3.00\n",
      "\n",
      "\n",
      "Average pollution level in the Pacific Ocean: 3.33\n",
      "Average pollution level in the Atlantic Ocean: 4.33\n",
      "Average pollution level in the Indian Ocean: 3.00\n"
     ]
    }
   ],
   "source": [
    "ocean_pollution_data = {\n",
    "    'Pacific Ocean': [3, 5, 2],  # pollution levels\n",
    "    'Atlantic Ocean': [7, 2, 4],\n",
    "    'Indian Ocean': [5, 1, 3]\n",
    "}\n",
    "\n",
    "# Your task: Use loops to calculate the average pollution level for each ocean and print it\n",
    "for ocean, pollution_levels in ocean_pollution_data.items():\n",
    "    # Write your code here\n",
    "    averagepollutionlevel = 0\n",
    "    sumpollutionlevel = 0\n",
    "\n",
    "    for i in pollution_levels:\n",
    "        sumpollutionlevel += i\n",
    "        averagepollutionlevel += 1\n",
    "    avagare = sumpollutionlevel / averagepollutionlevel\n",
    "    print(f\"Average pollution level in the {ocean}: {avagare:.2f}\")\n",
    "    \n",
    "print('\\n')\n",
    "\n",
    "# optemizeation\n",
    "for ocean, pollution_levels in ocean_pollution_data.items():\n",
    "    # Write your code here\n",
    "    sumetion = sum(pollution_levels)\n",
    "    avagare = sumetion / len(pollution_levels)\n",
    "    print(f\"Average pollution level in the {ocean}: {avagare:.2f}\")"
   ]
  }
 ],
 "metadata": {
  "kernelspec": {
   "display_name": "Python 3 (ipykernel)",
   "language": "python",
   "name": "python3"
  },
  "language_info": {
   "codemirror_mode": {
    "name": "ipython",
    "version": 3
   },
   "file_extension": ".py",
   "mimetype": "text/x-python",
   "name": "python",
   "nbconvert_exporter": "python",
   "pygments_lexer": "ipython3",
   "version": "3.12.7"
  }
 },
 "nbformat": 4,
 "nbformat_minor": 5
}
